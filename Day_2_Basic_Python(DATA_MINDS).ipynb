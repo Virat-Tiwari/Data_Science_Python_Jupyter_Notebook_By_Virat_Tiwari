{
 "cells": [
  {
   "cell_type": "code",
   "execution_count": 1,
   "id": "816fc3a6-f7f4-44bb-bbc0-f83c6a62020a",
   "metadata": {},
   "outputs": [],
   "source": [
    "#LIST-We can strore diffrenet types of datatypes in a list in square[] brackets"
   ]
  },
  {
   "cell_type": "code",
   "execution_count": 2,
   "id": "36dcb177-40a7-4a30-a455-f31c2e83acca",
   "metadata": {},
   "outputs": [],
   "source": [
    "l=[22,\"virat\",245.78,7+5j,23,\"datascience\"]"
   ]
  },
  {
   "cell_type": "code",
   "execution_count": 3,
   "id": "ae3c5488-cb2b-4863-9716-271ebee9d490",
   "metadata": {},
   "outputs": [
    {
     "data": {
      "text/plain": [
       "[22, 'virat', 245.78, (7+5j), 23, 'datascience']"
      ]
     },
     "execution_count": 3,
     "metadata": {},
     "output_type": "execute_result"
    }
   ],
   "source": [
    "l"
   ]
  },
  {
   "cell_type": "code",
   "execution_count": 4,
   "id": "aa9a1229-b168-4055-ba69-bb4ab83448ec",
   "metadata": {},
   "outputs": [
    {
     "data": {
      "text/plain": [
       "list"
      ]
     },
     "execution_count": 4,
     "metadata": {},
     "output_type": "execute_result"
    }
   ],
   "source": [
    "type(l)"
   ]
  },
  {
   "cell_type": "code",
   "execution_count": 5,
   "id": "4f9c49ac-2877-4915-a7e2-70fb07d27d03",
   "metadata": {},
   "outputs": [
    {
     "data": {
      "text/plain": [
       "6"
      ]
     },
     "execution_count": 5,
     "metadata": {},
     "output_type": "execute_result"
    }
   ],
   "source": [
    "len(l)"
   ]
  },
  {
   "cell_type": "code",
   "execution_count": 6,
   "id": "345ef1dc-72fe-48c9-973f-37b22555fffe",
   "metadata": {},
   "outputs": [
    {
     "data": {
      "text/plain": [
       "'virat'"
      ]
     },
     "execution_count": 6,
     "metadata": {},
     "output_type": "execute_result"
    }
   ],
   "source": [
    "l[1]"
   ]
  },
  {
   "cell_type": "code",
   "execution_count": 7,
   "id": "a979870c-bca3-4147-a070-f04fb80ab57e",
   "metadata": {},
   "outputs": [
    {
     "data": {
      "text/plain": [
       "22"
      ]
     },
     "execution_count": 7,
     "metadata": {},
     "output_type": "execute_result"
    }
   ],
   "source": [
    "l[0]"
   ]
  },
  {
   "cell_type": "code",
   "execution_count": 8,
   "id": "d89f97d9-f28b-495a-aca2-22861f905429",
   "metadata": {},
   "outputs": [
    {
     "data": {
      "text/plain": [
       "'datascience'"
      ]
     },
     "execution_count": 8,
     "metadata": {},
     "output_type": "execute_result"
    }
   ],
   "source": [
    "l[5]"
   ]
  },
  {
   "cell_type": "code",
   "execution_count": 9,
   "id": "42bf6baa-acae-48e6-8e01-7f02170877d2",
   "metadata": {},
   "outputs": [
    {
     "data": {
      "text/plain": [
       "[22, 'virat']"
      ]
     },
     "execution_count": 9,
     "metadata": {},
     "output_type": "execute_result"
    }
   ],
   "source": [
    "l[0:2]"
   ]
  },
  {
   "cell_type": "code",
   "execution_count": 10,
   "id": "3302b406-9190-4e53-b19b-caf2a2a21dbd",
   "metadata": {},
   "outputs": [
    {
     "ename": "IndexError",
     "evalue": "list index out of range",
     "output_type": "error",
     "traceback": [
      "\u001b[0;31m---------------------------------------------------------------------------\u001b[0m",
      "\u001b[0;31mIndexError\u001b[0m                                Traceback (most recent call last)",
      "Cell \u001b[0;32mIn[10], line 1\u001b[0m\n\u001b[0;32m----> 1\u001b[0m \u001b[43ml\u001b[49m\u001b[43m[\u001b[49m\u001b[38;5;241;43m30\u001b[39;49m\u001b[43m]\u001b[49m\n",
      "\u001b[0;31mIndexError\u001b[0m: list index out of range"
     ]
    }
   ],
   "source": [
    "#When we try to take index that is isnt available to its gives the iut of range\n",
    "\n",
    "l[30]"
   ]
  },
  {
   "cell_type": "code",
   "execution_count": 11,
   "id": "428892e0-d1da-47cf-8da1-89c73f7df72a",
   "metadata": {},
   "outputs": [
    {
     "data": {
      "text/plain": [
       "[22, 'virat', 245.78, (7+5j), 23, 'datascience']"
      ]
     },
     "execution_count": 11,
     "metadata": {},
     "output_type": "execute_result"
    }
   ],
   "source": [
    "l"
   ]
  },
  {
   "cell_type": "code",
   "execution_count": 12,
   "id": "75274a23-9aff-465c-b46a-d61b168894d1",
   "metadata": {},
   "outputs": [
    {
     "data": {
      "text/plain": [
       "[22, 'virat', 245.78]"
      ]
     },
     "execution_count": 12,
     "metadata": {},
     "output_type": "execute_result"
    }
   ],
   "source": [
    "l[0:3]"
   ]
  },
  {
   "cell_type": "code",
   "execution_count": 13,
   "id": "222b37f0-a553-465d-9062-6de11e2d124e",
   "metadata": {},
   "outputs": [
    {
     "data": {
      "text/plain": [
       "['datascience', 23, (7+5j), 245.78, 'virat', 22]"
      ]
     },
     "execution_count": 13,
     "metadata": {},
     "output_type": "execute_result"
    }
   ],
   "source": [
    "#This is how we done reverse indexing\n",
    "\n",
    "l[::-1]"
   ]
  },
  {
   "cell_type": "code",
   "execution_count": 15,
   "id": "4527ae00-0e1f-4cc5-a145-b15c9cb388b4",
   "metadata": {},
   "outputs": [
    {
     "data": {
      "text/plain": [
       "'datascience'"
      ]
     },
     "execution_count": 15,
     "metadata": {},
     "output_type": "execute_result"
    }
   ],
   "source": [
    "l[-1]"
   ]
  },
  {
   "cell_type": "code",
   "execution_count": 16,
   "id": "2a4d0b01-cccd-426e-9fc9-7206f9f132c2",
   "metadata": {},
   "outputs": [
    {
     "data": {
      "text/plain": [
       "[22, 245.78, 23]"
      ]
     },
     "execution_count": 16,
     "metadata": {},
     "output_type": "execute_result"
    }
   ],
   "source": [
    "#We get indexing those came in place of even via jump of 2\n",
    "l[0:6:2]"
   ]
  },
  {
   "cell_type": "code",
   "execution_count": 17,
   "id": "7e97b752-e1cf-4a42-961a-8f492d3ca70e",
   "metadata": {},
   "outputs": [],
   "source": [
    "s=\"computerscience\""
   ]
  },
  {
   "cell_type": "code",
   "execution_count": 18,
   "id": "83d039be-8bd6-4ca7-96ae-df2c39b2e929",
   "metadata": {},
   "outputs": [
    {
     "ename": "TypeError",
     "evalue": "can only concatenate list (not \"str\") to list",
     "output_type": "error",
     "traceback": [
      "\u001b[0;31m---------------------------------------------------------------------------\u001b[0m",
      "\u001b[0;31mTypeError\u001b[0m                                 Traceback (most recent call last)",
      "Cell \u001b[0;32mIn[18], line 1\u001b[0m\n\u001b[0;32m----> 1\u001b[0m \u001b[43ml\u001b[49m\u001b[38;5;241;43m+\u001b[39;49m\u001b[43ms\u001b[49m\n",
      "\u001b[0;31mTypeError\u001b[0m: can only concatenate list (not \"str\") to list"
     ]
    }
   ],
   "source": [
    "l+s"
   ]
  },
  {
   "cell_type": "code",
   "execution_count": 19,
   "id": "65b5d7ed-a7ab-4a42-8d4c-3e978849cd16",
   "metadata": {},
   "outputs": [
    {
     "data": {
      "text/plain": [
       "['c', 'o', 'm', 'p', 'u', 't', 'e', 'r', 's', 'c', 'i', 'e', 'n', 'c', 'e']"
      ]
     },
     "execution_count": 19,
     "metadata": {},
     "output_type": "execute_result"
    }
   ],
   "source": [
    "list(s)"
   ]
  },
  {
   "cell_type": "code",
   "execution_count": 22,
   "id": "1a211205-dc56-4644-9d34-42f4a4b83092",
   "metadata": {},
   "outputs": [
    {
     "data": {
      "text/plain": [
       "['c',\n",
       " 'o',\n",
       " 'm',\n",
       " 'p',\n",
       " 'u',\n",
       " 't',\n",
       " 'e',\n",
       " 'r',\n",
       " 's',\n",
       " 'c',\n",
       " 'i',\n",
       " 'e',\n",
       " 'n',\n",
       " 'c',\n",
       " 'e',\n",
       " 22,\n",
       " 'virat',\n",
       " 245.78,\n",
       " (7+5j),\n",
       " 23,\n",
       " 'datascience']"
      ]
     },
     "execution_count": 22,
     "metadata": {},
     "output_type": "execute_result"
    }
   ],
   "source": [
    "list(s)+l"
   ]
  },
  {
   "cell_type": "code",
   "execution_count": 23,
   "id": "83b24f28-edb1-40f4-bf1c-91997c04903b",
   "metadata": {},
   "outputs": [
    {
     "data": {
      "text/plain": [
       "[22, 'virat', 245.78, (7+5j), 23, 'datascience']"
      ]
     },
     "execution_count": 23,
     "metadata": {},
     "output_type": "execute_result"
    }
   ],
   "source": [
    "l"
   ]
  },
  {
   "cell_type": "code",
   "execution_count": 24,
   "id": "9ad8db25-33f2-48e8-b28e-44d24d15b497",
   "metadata": {},
   "outputs": [
    {
     "data": {
      "text/plain": [
       "'virat'"
      ]
     },
     "execution_count": 24,
     "metadata": {},
     "output_type": "execute_result"
    }
   ],
   "source": [
    "l[1]"
   ]
  },
  {
   "cell_type": "code",
   "execution_count": 26,
   "id": "94dac94c-9d36-4662-a10d-86e92c55a47c",
   "metadata": {},
   "outputs": [
    {
     "data": {
      "text/plain": [
       "'vi'"
      ]
     },
     "execution_count": 26,
     "metadata": {},
     "output_type": "execute_result"
    }
   ],
   "source": [
    "l[1][0:2]"
   ]
  },
  {
   "cell_type": "code",
   "execution_count": 27,
   "id": "e7d56385-8ff0-4c2f-95da-a66b27ffbf6f",
   "metadata": {},
   "outputs": [],
   "source": [
    "l.append(True)"
   ]
  },
  {
   "cell_type": "code",
   "execution_count": 28,
   "id": "9ec237df-5357-456f-a0b4-09092ca01e9a",
   "metadata": {},
   "outputs": [
    {
     "data": {
      "text/plain": [
       "[22, 'virat', 245.78, (7+5j), 23, 'datascience', True]"
      ]
     },
     "execution_count": 28,
     "metadata": {},
     "output_type": "execute_result"
    }
   ],
   "source": [
    "l"
   ]
  },
  {
   "cell_type": "code",
   "execution_count": 30,
   "id": "1e2911b0-64bb-46b8-9e1a-784e657825e2",
   "metadata": {},
   "outputs": [
    {
     "data": {
      "text/plain": [
       "True"
      ]
     },
     "execution_count": 30,
     "metadata": {},
     "output_type": "execute_result"
    }
   ],
   "source": [
    "l[6]"
   ]
  },
  {
   "cell_type": "code",
   "execution_count": 31,
   "id": "130bd074-1c20-40c0-bf8f-aca2afc46fad",
   "metadata": {},
   "outputs": [
    {
     "data": {
      "text/plain": [
       "'True'"
      ]
     },
     "execution_count": 31,
     "metadata": {},
     "output_type": "execute_result"
    }
   ],
   "source": [
    "str(l[6])"
   ]
  },
  {
   "cell_type": "code",
   "execution_count": 33,
   "id": "2f35dddd-cb1a-445f-bb02-55d7b329e77b",
   "metadata": {},
   "outputs": [
    {
     "data": {
      "text/plain": [
       "'Tr'"
      ]
     },
     "execution_count": 33,
     "metadata": {},
     "output_type": "execute_result"
    }
   ],
   "source": [
    "str(l[6])[0:2]"
   ]
  },
  {
   "cell_type": "code",
   "execution_count": 34,
   "id": "f6ad99fd-99d6-47e5-bd11-3a3932d74b7a",
   "metadata": {},
   "outputs": [
    {
     "data": {
      "text/plain": [
       "[22, 'virat', 245.78, (7+5j), 23, 'datascience', True]"
      ]
     },
     "execution_count": 34,
     "metadata": {},
     "output_type": "execute_result"
    }
   ],
   "source": [
    "l"
   ]
  },
  {
   "cell_type": "code",
   "execution_count": 35,
   "id": "5fe33325-3dd3-44c2-93c8-d38772fa65b0",
   "metadata": {},
   "outputs": [
    {
     "ename": "TypeError",
     "evalue": "can only concatenate list (not \"int\") to list",
     "output_type": "error",
     "traceback": [
      "\u001b[0;31m---------------------------------------------------------------------------\u001b[0m",
      "\u001b[0;31mTypeError\u001b[0m                                 Traceback (most recent call last)",
      "Cell \u001b[0;32mIn[35], line 1\u001b[0m\n\u001b[0;32m----> 1\u001b[0m \u001b[43ml\u001b[49m\u001b[38;5;241;43m+\u001b[39;49m\u001b[38;5;241;43m5\u001b[39;49m\n",
      "\u001b[0;31mTypeError\u001b[0m: can only concatenate list (not \"int\") to list"
     ]
    }
   ],
   "source": [
    "#DIFFERENT KIND OS DATATYPE CANNNOT BE CONCATINATE\n",
    "l+5"
   ]
  },
  {
   "cell_type": "code",
   "execution_count": 36,
   "id": "882e3a7e-c886-4937-879d-407510235495",
   "metadata": {},
   "outputs": [],
   "source": [
    "b=[2,3,\"ok\",9.4]"
   ]
  },
  {
   "cell_type": "code",
   "execution_count": 37,
   "id": "70db4681-1565-4fa2-bea1-71b381ed2fed",
   "metadata": {},
   "outputs": [
    {
     "data": {
      "text/plain": [
       "[22, 'virat', 245.78, (7+5j), 23, 'datascience', True, 2, 3, 'ok', 9.4]"
      ]
     },
     "execution_count": 37,
     "metadata": {},
     "output_type": "execute_result"
    }
   ],
   "source": [
    "l+b"
   ]
  },
  {
   "cell_type": "code",
   "execution_count": 38,
   "id": "5e80d521-ee84-492b-ae3f-25c27eb3c88c",
   "metadata": {},
   "outputs": [
    {
     "data": {
      "text/plain": [
       "[2, 3, 'ok', 9.4, 2, 3, 'ok', 9.4, 2, 3, 'ok', 9.4]"
      ]
     },
     "execution_count": 38,
     "metadata": {},
     "output_type": "execute_result"
    }
   ],
   "source": [
    "b*3"
   ]
  },
  {
   "cell_type": "code",
   "execution_count": 39,
   "id": "e50fbaa3-60ac-42ef-a0a5-c521f000b256",
   "metadata": {},
   "outputs": [
    {
     "data": {
      "text/plain": [
       "7"
      ]
     },
     "execution_count": 39,
     "metadata": {},
     "output_type": "execute_result"
    }
   ],
   "source": [
    "len(l)"
   ]
  },
  {
   "cell_type": "code",
   "execution_count": 40,
   "id": "2824b058-2845-4aa6-8153-132f5c9710a9",
   "metadata": {},
   "outputs": [
    {
     "data": {
      "text/plain": [
       "11"
      ]
     },
     "execution_count": 40,
     "metadata": {},
     "output_type": "execute_result"
    }
   ],
   "source": [
    "len(l+b)"
   ]
  },
  {
   "cell_type": "code",
   "execution_count": 41,
   "id": "ea42f121-face-4670-8a3a-1823d36a9b1e",
   "metadata": {},
   "outputs": [
    {
     "data": {
      "text/plain": [
       "4"
      ]
     },
     "execution_count": 41,
     "metadata": {},
     "output_type": "execute_result"
    }
   ],
   "source": [
    "len(b)"
   ]
  },
  {
   "cell_type": "code",
   "execution_count": 42,
   "id": "c379bdbe-7a3e-47c6-90cf-a51df24ed025",
   "metadata": {},
   "outputs": [
    {
     "data": {
      "text/plain": [
       "[22, 'virat', 245.78, (7+5j), 23, 'datascience', True]"
      ]
     },
     "execution_count": 42,
     "metadata": {},
     "output_type": "execute_result"
    }
   ],
   "source": [
    "l"
   ]
  },
  {
   "cell_type": "code",
   "execution_count": 43,
   "id": "c11c7ba6-4029-418f-9ed3-546bac407175",
   "metadata": {},
   "outputs": [],
   "source": [
    "#APPEND() FUCTION ADD THE VALUE AS IT IS THE LIST\n",
    "\n",
    "l.append(10)"
   ]
  },
  {
   "cell_type": "code",
   "execution_count": 44,
   "id": "cc7d3d44-039c-4dec-af7e-360986dc9571",
   "metadata": {},
   "outputs": [
    {
     "data": {
      "text/plain": [
       "[22, 'virat', 245.78, (7+5j), 23, 'datascience', True, 10]"
      ]
     },
     "execution_count": 44,
     "metadata": {},
     "output_type": "execute_result"
    }
   ],
   "source": [
    "l"
   ]
  },
  {
   "cell_type": "code",
   "execution_count": 45,
   "id": "35045192-634a-475f-8ef7-b8614f54dea8",
   "metadata": {},
   "outputs": [
    {
     "data": {
      "text/plain": [
       "[2, 3, 'ok', 9.4]"
      ]
     },
     "execution_count": 45,
     "metadata": {},
     "output_type": "execute_result"
    }
   ],
   "source": [
    "b"
   ]
  },
  {
   "cell_type": "code",
   "execution_count": 46,
   "id": "19206c06-e415-4584-ae09-0c4aede57834",
   "metadata": {},
   "outputs": [],
   "source": [
    "l.append(b)"
   ]
  },
  {
   "cell_type": "code",
   "execution_count": 47,
   "id": "0c5cbe34-f95d-46aa-8b37-1605493b12d7",
   "metadata": {},
   "outputs": [
    {
     "data": {
      "text/plain": [
       "[22, 'virat', 245.78, (7+5j), 23, 'datascience', True, 10, [2, 3, 'ok', 9.4]]"
      ]
     },
     "execution_count": 47,
     "metadata": {},
     "output_type": "execute_result"
    }
   ],
   "source": [
    "l"
   ]
  },
  {
   "cell_type": "code",
   "execution_count": 57,
   "id": "e80ddc57-7e3e-44cd-ad4a-f67f9be2d6f6",
   "metadata": {},
   "outputs": [
    {
     "data": {
      "text/plain": [
       "[22, 'virat', 245.78, (7+5j), 23, 'datascience', True]"
      ]
     },
     "execution_count": 57,
     "metadata": {},
     "output_type": "execute_result"
    }
   ],
   "source": [
    "l"
   ]
  },
  {
   "cell_type": "code",
   "execution_count": 58,
   "id": "3e8daa77-9e9e-46e0-987c-2281ef5e9a0b",
   "metadata": {},
   "outputs": [],
   "source": [
    "l.append(b)"
   ]
  },
  {
   "cell_type": "code",
   "execution_count": 59,
   "id": "7bc9b5c8-6c9b-4b2a-9bd9-719f5d7150cf",
   "metadata": {},
   "outputs": [
    {
     "data": {
      "text/plain": [
       "[22, 'virat', 245.78, (7+5j), 23, 'datascience', True, [2, 3, 'ok', 9.4]]"
      ]
     },
     "execution_count": 59,
     "metadata": {},
     "output_type": "execute_result"
    }
   ],
   "source": [
    "l"
   ]
  },
  {
   "cell_type": "code",
   "execution_count": 61,
   "id": "9ebb2916-1e45-4f6a-b585-b98bc451722a",
   "metadata": {},
   "outputs": [
    {
     "data": {
      "text/plain": [
       "[22, 'virat', 245.78, (7+5j), 23, 'datascience', True, [2, 3, 'ok', 9.4]]"
      ]
     },
     "execution_count": 61,
     "metadata": {},
     "output_type": "execute_result"
    }
   ],
   "source": [
    "l"
   ]
  },
  {
   "cell_type": "code",
   "execution_count": 62,
   "id": "0e625466-3212-4e8a-b80b-febc08a249ef",
   "metadata": {},
   "outputs": [
    {
     "data": {
      "text/plain": [
       "3"
      ]
     },
     "execution_count": 62,
     "metadata": {},
     "output_type": "execute_result"
    }
   ],
   "source": [
    "l[-1][1]"
   ]
  },
  {
   "cell_type": "code",
   "execution_count": 63,
   "id": "7dcc6051-ebb7-41c0-9c0f-9e1e58769935",
   "metadata": {},
   "outputs": [
    {
     "data": {
      "text/plain": [
       "'ok'"
      ]
     },
     "execution_count": 63,
     "metadata": {},
     "output_type": "execute_result"
    }
   ],
   "source": [
    "l[-1][2]"
   ]
  },
  {
   "cell_type": "code",
   "execution_count": 66,
   "id": "f490fc72-a120-4944-8c48-2ff9b531358c",
   "metadata": {},
   "outputs": [],
   "source": [
    "#EXTEND()FUNCTION ADD THE VALUE IN THE LIST BUT AFTER UNWRAP THE LIST , \n",
    "#IT WILLADDS VALUE SEPERATELY IN THE LIST\n",
    "\n",
    "l.extend(\"NLP\")"
   ]
  },
  {
   "cell_type": "code",
   "execution_count": 67,
   "id": "6fdf6a45-1818-4138-a165-a570fb1d6ea9",
   "metadata": {},
   "outputs": [
    {
     "data": {
      "text/plain": [
       "[22,\n",
       " 'virat',\n",
       " 245.78,\n",
       " (7+5j),\n",
       " 23,\n",
       " 'datascience',\n",
       " True,\n",
       " [2, 3, 'ok', 9.4],\n",
       " 'K',\n",
       " 'r',\n",
       " 'i',\n",
       " 's',\n",
       " 'h',\n",
       " 'N',\n",
       " 'L',\n",
       " 'P']"
      ]
     },
     "execution_count": 67,
     "metadata": {},
     "output_type": "execute_result"
    }
   ],
   "source": [
    "l"
   ]
  },
  {
   "cell_type": "code",
   "execution_count": 68,
   "id": "05ff7b58-9ea2-4169-b7d1-0b8533af9018",
   "metadata": {},
   "outputs": [],
   "source": [
    "l.extend([5,4,3,2,1])"
   ]
  },
  {
   "cell_type": "code",
   "execution_count": 69,
   "id": "b317e237-7b88-4580-8f31-7a99b42c2356",
   "metadata": {},
   "outputs": [
    {
     "data": {
      "text/plain": [
       "[22,\n",
       " 'virat',\n",
       " 245.78,\n",
       " (7+5j),\n",
       " 23,\n",
       " 'datascience',\n",
       " True,\n",
       " [2, 3, 'ok', 9.4],\n",
       " 'K',\n",
       " 'r',\n",
       " 'i',\n",
       " 's',\n",
       " 'h',\n",
       " 'N',\n",
       " 'L',\n",
       " 'P',\n",
       " 5,\n",
       " 4,\n",
       " 3,\n",
       " 2,\n",
       " 1]"
      ]
     },
     "execution_count": 69,
     "metadata": {},
     "output_type": "execute_result"
    }
   ],
   "source": [
    "l"
   ]
  },
  {
   "cell_type": "code",
   "execution_count": 70,
   "id": "c5f0dbfb-d54a-4f27-b75a-70a68f71325d",
   "metadata": {},
   "outputs": [
    {
     "data": {
      "text/plain": [
       "[2, 3, 'ok', 9.4]"
      ]
     },
     "execution_count": 70,
     "metadata": {},
     "output_type": "execute_result"
    }
   ],
   "source": [
    "b"
   ]
  },
  {
   "cell_type": "code",
   "execution_count": 71,
   "id": "52ab9f4f-1248-42c4-9876-b67440ed70ae",
   "metadata": {},
   "outputs": [],
   "source": [
    "#INSERT()FUNCTION IS USED FOR ADDING VALUES AT ANY INDEXING POSITION\n",
    "\n",
    "b.insert(0,\"alright\")"
   ]
  },
  {
   "cell_type": "code",
   "execution_count": 72,
   "id": "0f7c0429-bc22-4c59-a982-397f0b25b0c0",
   "metadata": {},
   "outputs": [
    {
     "data": {
      "text/plain": [
       "['alright', 2, 3, 'ok', 9.4]"
      ]
     },
     "execution_count": 72,
     "metadata": {},
     "output_type": "execute_result"
    }
   ],
   "source": [
    "b"
   ]
  },
  {
   "cell_type": "code",
   "execution_count": 73,
   "id": "64e8a996-e3b0-4cf1-a1c2-bf51ff2fb4e4",
   "metadata": {},
   "outputs": [],
   "source": [
    "b.insert(2,\"Nothing\")"
   ]
  },
  {
   "cell_type": "code",
   "execution_count": 74,
   "id": "2c2e6cce-b751-455b-b56e-5ca923dcc7e7",
   "metadata": {},
   "outputs": [
    {
     "data": {
      "text/plain": [
       "['alright', 2, 'Nothing', 3, 'ok', 9.4]"
      ]
     },
     "execution_count": 74,
     "metadata": {},
     "output_type": "execute_result"
    }
   ],
   "source": [
    "b"
   ]
  },
  {
   "cell_type": "code",
   "execution_count": 76,
   "id": "72b93875-9b2c-4b73-89f7-fc5b96492f2a",
   "metadata": {},
   "outputs": [
    {
     "data": {
      "text/plain": [
       "[22,\n",
       " 'virat',\n",
       " 245.78,\n",
       " (7+5j),\n",
       " 23,\n",
       " 'datascience',\n",
       " True,\n",
       " ['alright', 2, 'Nothing', 3, 'ok', 9.4],\n",
       " 'K',\n",
       " 'r',\n",
       " 'i',\n",
       " 's',\n",
       " 'h',\n",
       " 'N',\n",
       " 'L',\n",
       " 'P',\n",
       " 5,\n",
       " 4,\n",
       " 3,\n",
       " 2,\n",
       " 1]"
      ]
     },
     "execution_count": 76,
     "metadata": {},
     "output_type": "execute_result"
    }
   ],
   "source": [
    "l"
   ]
  },
  {
   "cell_type": "code",
   "execution_count": 78,
   "id": "3d08d113-8108-454a-9615-b3ab5d072c06",
   "metadata": {},
   "outputs": [
    {
     "data": {
      "text/plain": [
       "['alright', 2, 'Nothing', 3, 'ok', 9.4]"
      ]
     },
     "execution_count": 78,
     "metadata": {},
     "output_type": "execute_result"
    }
   ],
   "source": [
    "b"
   ]
  },
  {
   "cell_type": "code",
   "execution_count": 80,
   "id": "e0533eec-fe00-447a-bcef-d72a92ffca99",
   "metadata": {},
   "outputs": [],
   "source": [
    "b.insert(-1,85858)"
   ]
  },
  {
   "cell_type": "code",
   "execution_count": 81,
   "id": "dcccd7b2-8bec-4b58-afef-298c97b0b840",
   "metadata": {},
   "outputs": [
    {
     "data": {
      "text/plain": [
       "['alright', 2, 'Nothing', 3, 'ok', 85858, 9.4]"
      ]
     },
     "execution_count": 81,
     "metadata": {},
     "output_type": "execute_result"
    }
   ],
   "source": [
    "b"
   ]
  },
  {
   "cell_type": "code",
   "execution_count": 82,
   "id": "5887e7fd-4547-461b-8bcf-29a0e34a77c4",
   "metadata": {},
   "outputs": [
    {
     "data": {
      "text/plain": [
       "9.4"
      ]
     },
     "execution_count": 82,
     "metadata": {},
     "output_type": "execute_result"
    }
   ],
   "source": [
    "#POP()FUNCTION IS USED FOR REMOVE ELEMENT FROM THE LAST BY DEFOULT\n",
    "\n",
    "b.pop()"
   ]
  },
  {
   "cell_type": "code",
   "execution_count": 83,
   "id": "5b7110dc-e7df-4e2e-b623-06c9a88e3612",
   "metadata": {},
   "outputs": [
    {
     "data": {
      "text/plain": [
       "['alright', 2, 'Nothing', 3, 'ok', 85858]"
      ]
     },
     "execution_count": 83,
     "metadata": {},
     "output_type": "execute_result"
    }
   ],
   "source": [
    "b"
   ]
  },
  {
   "cell_type": "code",
   "execution_count": 84,
   "id": "a212d3d6-e974-4eef-9710-baf8e31505ca",
   "metadata": {},
   "outputs": [
    {
     "data": {
      "text/plain": [
       "85858"
      ]
     },
     "execution_count": 84,
     "metadata": {},
     "output_type": "execute_result"
    }
   ],
   "source": [
    "b.pop()"
   ]
  },
  {
   "cell_type": "code",
   "execution_count": 85,
   "id": "d621563c-129f-4499-a961-06c9bd7313d9",
   "metadata": {},
   "outputs": [
    {
     "data": {
      "text/plain": [
       "['alright', 2, 'Nothing', 3, 'ok']"
      ]
     },
     "execution_count": 85,
     "metadata": {},
     "output_type": "execute_result"
    }
   ],
   "source": [
    "b"
   ]
  },
  {
   "cell_type": "code",
   "execution_count": 86,
   "id": "434036b9-d13a-4144-8511-5185dfd7019e",
   "metadata": {},
   "outputs": [
    {
     "data": {
      "text/plain": [
       "'Nothing'"
      ]
     },
     "execution_count": 86,
     "metadata": {},
     "output_type": "execute_result"
    }
   ],
   "source": [
    "b.pop(2)"
   ]
  },
  {
   "cell_type": "code",
   "execution_count": 87,
   "id": "3dd2f333-6b45-47d5-91fd-5709529baf92",
   "metadata": {},
   "outputs": [
    {
     "data": {
      "text/plain": [
       "['alright', 2, 3, 'ok']"
      ]
     },
     "execution_count": 87,
     "metadata": {},
     "output_type": "execute_result"
    }
   ],
   "source": [
    "b"
   ]
  },
  {
   "cell_type": "code",
   "execution_count": 88,
   "id": "3d60d947-c07b-42b2-84f3-f63f659ba4b9",
   "metadata": {},
   "outputs": [
    {
     "data": {
      "text/plain": [
       "['alright', 2, 3, 'ok']"
      ]
     },
     "execution_count": 88,
     "metadata": {},
     "output_type": "execute_result"
    }
   ],
   "source": [
    "b"
   ]
  },
  {
   "cell_type": "code",
   "execution_count": 90,
   "id": "7bbbac23-1536-4968-8f24-02ee3a0c976d",
   "metadata": {},
   "outputs": [],
   "source": [
    "#REMOVE()FUNCTION REMOVE THE ELEMENT THAT WE WANT TO REMOVE NOT INDEX\n",
    "\n",
    "b.remove(3)"
   ]
  },
  {
   "cell_type": "code",
   "execution_count": 91,
   "id": "b35479e8-c787-4435-a66b-a3f7aa2cc8d6",
   "metadata": {},
   "outputs": [
    {
     "data": {
      "text/plain": [
       "['alright', 2, 'ok']"
      ]
     },
     "execution_count": 91,
     "metadata": {},
     "output_type": "execute_result"
    }
   ],
   "source": [
    "b"
   ]
  },
  {
   "cell_type": "code",
   "execution_count": 92,
   "id": "ae61f02f-c33c-42ff-ad30-2c9cee38d75c",
   "metadata": {},
   "outputs": [
    {
     "ename": "ValueError",
     "evalue": "list.remove(x): x not in list",
     "output_type": "error",
     "traceback": [
      "\u001b[0;31m---------------------------------------------------------------------------\u001b[0m",
      "\u001b[0;31mValueError\u001b[0m                                Traceback (most recent call last)",
      "Cell \u001b[0;32mIn[92], line 1\u001b[0m\n\u001b[0;32m----> 1\u001b[0m \u001b[43mb\u001b[49m\u001b[38;5;241;43m.\u001b[39;49m\u001b[43mremove\u001b[49m\u001b[43m(\u001b[49m\u001b[38;5;241;43m5454\u001b[39;49m\u001b[43m)\u001b[49m\n",
      "\u001b[0;31mValueError\u001b[0m: list.remove(x): x not in list"
     ]
    }
   ],
   "source": [
    "b.remove(5454)"
   ]
  },
  {
   "cell_type": "code",
   "execution_count": 93,
   "id": "ea608db3-9b89-4422-8731-786a77f27989",
   "metadata": {},
   "outputs": [],
   "source": [
    "c=[5,8,2,6]"
   ]
  },
  {
   "cell_type": "code",
   "execution_count": 94,
   "id": "9f69b603-0c62-4b29-a524-9405bf1a7f41",
   "metadata": {},
   "outputs": [
    {
     "data": {
      "text/plain": [
       "[5, 8, 2, 6]"
      ]
     },
     "execution_count": 94,
     "metadata": {},
     "output_type": "execute_result"
    }
   ],
   "source": [
    "c"
   ]
  },
  {
   "cell_type": "code",
   "execution_count": 96,
   "id": "55ca8cf8-de45-49bf-8afc-26fec79399ac",
   "metadata": {},
   "outputs": [],
   "source": [
    "b.append(c)"
   ]
  },
  {
   "cell_type": "code",
   "execution_count": 97,
   "id": "e389b595-d062-4f42-86a3-c0f5cfdfca24",
   "metadata": {},
   "outputs": [
    {
     "data": {
      "text/plain": [
       "['alright', 2, 'ok', [5, 8, 2, 6]]"
      ]
     },
     "execution_count": 97,
     "metadata": {},
     "output_type": "execute_result"
    }
   ],
   "source": [
    "b"
   ]
  },
  {
   "cell_type": "code",
   "execution_count": 101,
   "id": "c56e3db3-7d5d-4219-8187-f89e9ee53a9f",
   "metadata": {},
   "outputs": [
    {
     "data": {
      "text/plain": [
       "[5, 8, 2, 6]"
      ]
     },
     "execution_count": 101,
     "metadata": {},
     "output_type": "execute_result"
    }
   ],
   "source": [
    "c"
   ]
  },
  {
   "cell_type": "code",
   "execution_count": 102,
   "id": "397f5672-9f98-4b67-a21d-20a700368dda",
   "metadata": {},
   "outputs": [
    {
     "data": {
      "text/plain": [
       "['alright', 2, 'ok', [5, 8, 2, 6]]"
      ]
     },
     "execution_count": 102,
     "metadata": {},
     "output_type": "execute_result"
    }
   ],
   "source": [
    "b"
   ]
  },
  {
   "cell_type": "code",
   "execution_count": 109,
   "id": "3837daf7-b79b-43ec-aefc-4a75c3f265f0",
   "metadata": {},
   "outputs": [],
   "source": [
    "b[3].remove(8)"
   ]
  },
  {
   "cell_type": "code",
   "execution_count": 110,
   "id": "82efc3e6-c319-440b-ad6b-d7049690b088",
   "metadata": {},
   "outputs": [
    {
     "data": {
      "text/plain": [
       "['alright', 2, 'ok', [5, 2, 6]]"
      ]
     },
     "execution_count": 110,
     "metadata": {},
     "output_type": "execute_result"
    }
   ],
   "source": [
    "b"
   ]
  },
  {
   "cell_type": "code",
   "execution_count": 111,
   "id": "5c87f437-2020-454d-9807-13aaeac4aed3",
   "metadata": {},
   "outputs": [],
   "source": [
    "b[3].remove(6)"
   ]
  },
  {
   "cell_type": "code",
   "execution_count": 112,
   "id": "2040e430-bafa-49ef-b8c1-fbb5bbb2de8e",
   "metadata": {},
   "outputs": [
    {
     "data": {
      "text/plain": [
       "['alright', 2, 'ok', [5, 2]]"
      ]
     },
     "execution_count": 112,
     "metadata": {},
     "output_type": "execute_result"
    }
   ],
   "source": [
    "b"
   ]
  },
  {
   "cell_type": "code",
   "execution_count": 115,
   "id": "cd60013a-b57e-4360-8ab2-65f08c429d40",
   "metadata": {},
   "outputs": [
    {
     "data": {
      "text/plain": [
       "'al'"
      ]
     },
     "execution_count": 115,
     "metadata": {},
     "output_type": "execute_result"
    }
   ],
   "source": [
    "b[0][:2]"
   ]
  },
  {
   "cell_type": "code",
   "execution_count": 116,
   "id": "6bf69d41-e845-4b5b-8ea0-a53d23e7def9",
   "metadata": {},
   "outputs": [
    {
     "data": {
      "text/plain": [
       "['alright', 2, 'ok', [5, 2]]"
      ]
     },
     "execution_count": 116,
     "metadata": {},
     "output_type": "execute_result"
    }
   ],
   "source": [
    "b"
   ]
  },
  {
   "cell_type": "code",
   "execution_count": 117,
   "id": "1b116537-1873-457a-b8af-dd1587d5e900",
   "metadata": {},
   "outputs": [],
   "source": [
    "b.append(2)"
   ]
  },
  {
   "cell_type": "code",
   "execution_count": 118,
   "id": "f52f2e96-e178-4eea-83cc-2f57698026b1",
   "metadata": {},
   "outputs": [
    {
     "data": {
      "text/plain": [
       "['alright', 2, 'ok', [5, 2], 2]"
      ]
     },
     "execution_count": 118,
     "metadata": {},
     "output_type": "execute_result"
    }
   ],
   "source": [
    "b"
   ]
  },
  {
   "cell_type": "code",
   "execution_count": 119,
   "id": "afc329c7-2de8-4485-ae3a-07decef72e16",
   "metadata": {},
   "outputs": [],
   "source": [
    "b.remove(2)"
   ]
  },
  {
   "cell_type": "code",
   "execution_count": 120,
   "id": "51c6f692-94e8-44ca-835b-4c8f971edbe0",
   "metadata": {},
   "outputs": [
    {
     "data": {
      "text/plain": [
       "['alright', 'ok', [5, 2], 2]"
      ]
     },
     "execution_count": 120,
     "metadata": {},
     "output_type": "execute_result"
    }
   ],
   "source": [
    "b"
   ]
  },
  {
   "cell_type": "code",
   "execution_count": 121,
   "id": "b5e9dff1-02e7-45e9-bc6a-4aa7ef4df39f",
   "metadata": {},
   "outputs": [
    {
     "data": {
      "text/plain": [
       "[2, [5, 2], 'ok', 'alright']"
      ]
     },
     "execution_count": 121,
     "metadata": {},
     "output_type": "execute_result"
    }
   ],
   "source": [
    "b[::-1]"
   ]
  },
  {
   "cell_type": "code",
   "execution_count": 122,
   "id": "a75e0e01-f5b1-4766-8dca-7062babd38d9",
   "metadata": {},
   "outputs": [],
   "source": [
    "#REVERSE()FUCTION REVESER THE LIST IN PERMANENT MANNER\n",
    "\n",
    "b.reverse()"
   ]
  },
  {
   "cell_type": "code",
   "execution_count": 124,
   "id": "f37de916-bf45-4907-857d-e1f30f2925cb",
   "metadata": {},
   "outputs": [
    {
     "data": {
      "text/plain": [
       "[2, [5, 2], 'ok', 'alright']"
      ]
     },
     "execution_count": 124,
     "metadata": {},
     "output_type": "execute_result"
    }
   ],
   "source": [
    "b"
   ]
  },
  {
   "cell_type": "code",
   "execution_count": 125,
   "id": "04abb273-09a7-4007-abf6-173e37d97eb7",
   "metadata": {},
   "outputs": [
    {
     "ename": "TypeError",
     "evalue": "'<' not supported between instances of 'list' and 'int'",
     "output_type": "error",
     "traceback": [
      "\u001b[0;31m---------------------------------------------------------------------------\u001b[0m",
      "\u001b[0;31mTypeError\u001b[0m                                 Traceback (most recent call last)",
      "Cell \u001b[0;32mIn[125], line 1\u001b[0m\n\u001b[0;32m----> 1\u001b[0m \u001b[43mb\u001b[49m\u001b[38;5;241;43m.\u001b[39;49m\u001b[43msort\u001b[49m\u001b[43m(\u001b[49m\u001b[43m)\u001b[49m\n",
      "\u001b[0;31mTypeError\u001b[0m: '<' not supported between instances of 'list' and 'int'"
     ]
    }
   ],
   "source": [
    "b.sort()"
   ]
  },
  {
   "cell_type": "code",
   "execution_count": 129,
   "id": "49e811c4-b6e6-41cc-a53e-ff00b587e37e",
   "metadata": {},
   "outputs": [],
   "source": [
    "d=[21,52,64,89,301,10,5,0]"
   ]
  },
  {
   "cell_type": "code",
   "execution_count": 130,
   "id": "70078fca-7542-49dc-b0ce-0831e57ea15f",
   "metadata": {},
   "outputs": [
    {
     "data": {
      "text/plain": [
       "[21, 52, 64, 89, 301, 10, 5, 0]"
      ]
     },
     "execution_count": 130,
     "metadata": {},
     "output_type": "execute_result"
    }
   ],
   "source": [
    "d"
   ]
  },
  {
   "cell_type": "code",
   "execution_count": 131,
   "id": "f874070b-add0-4b2d-80ad-6589ec324541",
   "metadata": {},
   "outputs": [],
   "source": [
    "#SORT()FUCTION IS ARRANGE THE ELEMENTS IN ASCENDIND ORDER\n",
    "\n",
    "d.sort()"
   ]
  },
  {
   "cell_type": "code",
   "execution_count": 132,
   "id": "43f9b2ab-bb40-4cd7-b03e-1aace4a25d45",
   "metadata": {},
   "outputs": [
    {
     "data": {
      "text/plain": [
       "[0, 5, 10, 21, 52, 64, 89, 301]"
      ]
     },
     "execution_count": 132,
     "metadata": {},
     "output_type": "execute_result"
    }
   ],
   "source": [
    "d"
   ]
  },
  {
   "cell_type": "code",
   "execution_count": 134,
   "id": "db45c37f-6c6a-45d9-95ff-66a1c69c7a9b",
   "metadata": {},
   "outputs": [
    {
     "data": {
      "text/plain": [
       "1"
      ]
     },
     "execution_count": 134,
     "metadata": {},
     "output_type": "execute_result"
    }
   ],
   "source": [
    "d.index(5)"
   ]
  },
  {
   "cell_type": "code",
   "execution_count": 135,
   "id": "4f8bd5c4-3aa0-4973-a3a8-d464eb671dcd",
   "metadata": {},
   "outputs": [
    {
     "data": {
      "text/plain": [
       "3"
      ]
     },
     "execution_count": 135,
     "metadata": {},
     "output_type": "execute_result"
    }
   ],
   "source": [
    "d.index(21)"
   ]
  },
  {
   "cell_type": "code",
   "execution_count": 136,
   "id": "9a557db9-a21c-4e45-95c6-4b007b4e3649",
   "metadata": {},
   "outputs": [],
   "source": [
    "d.append(10)"
   ]
  },
  {
   "cell_type": "code",
   "execution_count": 137,
   "id": "61ff7367-76ff-46cd-9946-0b0f8211d0e1",
   "metadata": {},
   "outputs": [
    {
     "data": {
      "text/plain": [
       "[0, 5, 10, 21, 52, 64, 89, 301, 10]"
      ]
     },
     "execution_count": 137,
     "metadata": {},
     "output_type": "execute_result"
    }
   ],
   "source": [
    "d"
   ]
  },
  {
   "cell_type": "code",
   "execution_count": 138,
   "id": "481a79f0-3f0e-42e9-970e-2426f5ca81b4",
   "metadata": {},
   "outputs": [
    {
     "data": {
      "text/plain": [
       "2"
      ]
     },
     "execution_count": 138,
     "metadata": {},
     "output_type": "execute_result"
    }
   ],
   "source": [
    "d.count(10)"
   ]
  },
  {
   "cell_type": "code",
   "execution_count": 139,
   "id": "999db8c9-1626-47f7-98ac-6dece6839ed9",
   "metadata": {},
   "outputs": [],
   "source": [
    "s=\"virat tiwari\""
   ]
  },
  {
   "cell_type": "code",
   "execution_count": 140,
   "id": "7a7630a8-0c42-444b-bccd-9cd29fe472cd",
   "metadata": {},
   "outputs": [
    {
     "data": {
      "text/plain": [
       "'virat tiwari'"
      ]
     },
     "execution_count": 140,
     "metadata": {},
     "output_type": "execute_result"
    }
   ],
   "source": [
    "s"
   ]
  },
  {
   "cell_type": "code",
   "execution_count": 141,
   "id": "242cc77f-ec71-4a6c-887b-60f586feaa6d",
   "metadata": {},
   "outputs": [
    {
     "data": {
      "text/plain": [
       "'birat tiwari'"
      ]
     },
     "execution_count": 141,
     "metadata": {},
     "output_type": "execute_result"
    }
   ],
   "source": [
    "#REPLACE()FUCTION IS USED FOR RELACE THE VALUE OR AN ELEMENT IN THE LIST\n",
    "\n",
    "s.replace(\"v\",\"b\")"
   ]
  },
  {
   "cell_type": "code",
   "execution_count": 142,
   "id": "d5f0a979-08cf-470b-96ad-fda1a5503af0",
   "metadata": {},
   "outputs": [],
   "source": [
    "#MUTABILITY- IN MUTABILTY WE ACN ABLE TO FREPLACE THE VALUE ON THE SAME INDEXING  PLACE\n",
    "#LIST IS MUTABLE WE CAN CHANGE THE POSITION OF ELEMENTS \n",
    "\n",
    "#IMMUTABILTY- WE CAN NOT REPLACXE THE VALUE THE ELEMENTS ON THEIR INDEXING\n",
    "#TUPLE, SET,SETS, STRINGS ARE IMMUTABLE WE CNNOT THEM AFTER ASSIGNED"
   ]
  },
  {
   "cell_type": "code",
   "execution_count": 143,
   "id": "b1c4e24a-9cc3-4613-87d3-222e89da051e",
   "metadata": {},
   "outputs": [],
   "source": [
    "#TUPLES-We can use () thse brackets in tuples\n",
    "#TUPLES ARE IMMUTABLE"
   ]
  },
  {
   "cell_type": "code",
   "execution_count": 144,
   "id": "39fca7a1-fc09-42f0-af24-c4736a98f55e",
   "metadata": {},
   "outputs": [],
   "source": [
    "r=(2,36,45,\"Virat\",[5,6,7,8])"
   ]
  },
  {
   "cell_type": "code",
   "execution_count": 145,
   "id": "60f4789a-1ab1-467d-9745-9f4b48a90b27",
   "metadata": {},
   "outputs": [
    {
     "data": {
      "text/plain": [
       "tuple"
      ]
     },
     "execution_count": 145,
     "metadata": {},
     "output_type": "execute_result"
    }
   ],
   "source": [
    "type(r)"
   ]
  },
  {
   "cell_type": "code",
   "execution_count": 146,
   "id": "289a8b37-fbcf-4d17-b7c6-89d28a299b42",
   "metadata": {},
   "outputs": [
    {
     "data": {
      "text/plain": [
       "(2, 36, 45, 'Virat', [5, 6, 7, 8])"
      ]
     },
     "execution_count": 146,
     "metadata": {},
     "output_type": "execute_result"
    }
   ],
   "source": [
    "r"
   ]
  },
  {
   "cell_type": "code",
   "execution_count": 148,
   "id": "c858b24a-b3fc-4f67-a4fa-e0a09904f77d",
   "metadata": {},
   "outputs": [
    {
     "data": {
      "text/plain": [
       "5"
      ]
     },
     "execution_count": 148,
     "metadata": {},
     "output_type": "execute_result"
    }
   ],
   "source": [
    "len(r)"
   ]
  },
  {
   "cell_type": "code",
   "execution_count": 149,
   "id": "12ae3bc1-1fa7-4dd9-9ef8-f6b44880b18f",
   "metadata": {},
   "outputs": [
    {
     "data": {
      "text/plain": [
       "45"
      ]
     },
     "execution_count": 149,
     "metadata": {},
     "output_type": "execute_result"
    }
   ],
   "source": [
    "r[2]"
   ]
  },
  {
   "cell_type": "code",
   "execution_count": 150,
   "id": "68a2e527-4c12-4978-827c-1c9afdb461a9",
   "metadata": {},
   "outputs": [
    {
     "data": {
      "text/plain": [
       "([5, 6, 7, 8], 'Virat', 45, 36, 2)"
      ]
     },
     "execution_count": 150,
     "metadata": {},
     "output_type": "execute_result"
    }
   ],
   "source": [
    "r[::-1]"
   ]
  },
  {
   "cell_type": "code",
   "execution_count": 151,
   "id": "25dfa92e-e6b7-4771-abdc-d974d5a5d9a6",
   "metadata": {},
   "outputs": [
    {
     "ename": "TypeError",
     "evalue": "'tuple' object does not support item assignment",
     "output_type": "error",
     "traceback": [
      "\u001b[0;31m---------------------------------------------------------------------------\u001b[0m",
      "\u001b[0;31mTypeError\u001b[0m                                 Traceback (most recent call last)",
      "Cell \u001b[0;32mIn[151], line 1\u001b[0m\n\u001b[0;32m----> 1\u001b[0m \u001b[43mr\u001b[49m\u001b[43m[\u001b[49m\u001b[38;5;241;43m0\u001b[39;49m\u001b[43m]\u001b[49m\u001b[38;5;241m=\u001b[39m\u001b[38;5;241m101010\u001b[39m\n",
      "\u001b[0;31mTypeError\u001b[0m: 'tuple' object does not support item assignment"
     ]
    }
   ],
   "source": [
    "#Due to immutabilty it does not support item assignment\n",
    "r[0]=101010"
   ]
  },
  {
   "cell_type": "code",
   "execution_count": 152,
   "id": "84d3b20d-5e0e-4a54-bf80-aee66b1bb97b",
   "metadata": {},
   "outputs": [
    {
     "data": {
      "text/plain": [
       "([5, 6, 7, 8], 'Virat', 45, 36, 2)"
      ]
     },
     "execution_count": 152,
     "metadata": {},
     "output_type": "execute_result"
    }
   ],
   "source": [
    "r[::-1]"
   ]
  },
  {
   "cell_type": "code",
   "execution_count": 153,
   "id": "2448cb85-2b77-43a2-8e9a-e1b29b98827d",
   "metadata": {},
   "outputs": [
    {
     "data": {
      "text/plain": [
       "1"
      ]
     },
     "execution_count": 153,
     "metadata": {},
     "output_type": "execute_result"
    }
   ],
   "source": [
    "r.count(45)"
   ]
  },
  {
   "cell_type": "code",
   "execution_count": 159,
   "id": "8f0d2784-0d8f-46b4-9491-faa7e1961a7a",
   "metadata": {},
   "outputs": [
    {
     "data": {
      "text/plain": [
       "3"
      ]
     },
     "execution_count": 159,
     "metadata": {},
     "output_type": "execute_result"
    }
   ],
   "source": [
    "r.index(\"Virat\")"
   ]
  },
  {
   "cell_type": "code",
   "execution_count": 160,
   "id": "bc89ce4a-2b67-49d7-9494-188ef1c0ebce",
   "metadata": {},
   "outputs": [],
   "source": [
    "#SET - IT IS DATA TYPE THAT IS ALSO IMMUTABLE"
   ]
  },
  {
   "cell_type": "code",
   "execution_count": 161,
   "id": "f5b2bfb8-8acf-4724-a0a4-1907ee44d9bd",
   "metadata": {},
   "outputs": [],
   "source": [
    "s={}"
   ]
  },
  {
   "cell_type": "code",
   "execution_count": 162,
   "id": "1c7a7db9-bdc8-4bcd-83bf-8a586c4be09d",
   "metadata": {},
   "outputs": [
    {
     "data": {
      "text/plain": [
       "dict"
      ]
     },
     "execution_count": 162,
     "metadata": {},
     "output_type": "execute_result"
    }
   ],
   "source": [
    "type(s)"
   ]
  },
  {
   "cell_type": "code",
   "execution_count": 163,
   "id": "b7b757ba-301c-42b0-b2b5-125ab327f28b",
   "metadata": {},
   "outputs": [],
   "source": [
    "s={2,3,5,\"Virat Tiwari\",5+8j,45.02}"
   ]
  },
  {
   "cell_type": "code",
   "execution_count": 164,
   "id": "546a2cf7-bfa1-4486-9e74-49bf0507e0bd",
   "metadata": {},
   "outputs": [
    {
     "data": {
      "text/plain": [
       "{(5+8j), 2, 3, 45.02, 5, 'Virat Tiwari'}"
      ]
     },
     "execution_count": 164,
     "metadata": {},
     "output_type": "execute_result"
    }
   ],
   "source": [
    "s"
   ]
  },
  {
   "cell_type": "code",
   "execution_count": 167,
   "id": "8bea4659-6d0c-44fd-8854-8e01c6187b11",
   "metadata": {},
   "outputs": [
    {
     "data": {
      "text/plain": [
       "set"
      ]
     },
     "execution_count": 167,
     "metadata": {},
     "output_type": "execute_result"
    }
   ],
   "source": [
    "type(s)"
   ]
  },
  {
   "cell_type": "code",
   "execution_count": 172,
   "id": "c8a7b493-a7b8-45b6-a58c-aa7091e43584",
   "metadata": {},
   "outputs": [],
   "source": [
    "#TUPLES DOES NOT INCLUDE THE LIST IN IT "
   ]
  },
  {
   "cell_type": "code",
   "execution_count": 177,
   "id": "c1dd2a3e-e7b8-423d-b299-f4e272831a8d",
   "metadata": {},
   "outputs": [],
   "source": [
    "p={2,5,4,2,5,6,4,5,6,2,4,\"Virat\",58,7,8888,4,5,4,\"virat\",78,8}"
   ]
  },
  {
   "cell_type": "code",
   "execution_count": 189,
   "id": "8892eb41-cfe1-4d73-8c48-f6e5841c62de",
   "metadata": {},
   "outputs": [
    {
     "data": {
      "text/plain": [
       "{2, 4, 5, 58, 6, 7, 78, 8, 8888, 'Virat', 'virat'}"
      ]
     },
     "execution_count": 189,
     "metadata": {},
     "output_type": "execute_result"
    }
   ],
   "source": [
    "p"
   ]
  },
  {
   "cell_type": "code",
   "execution_count": 194,
   "id": "9c957d53-f84e-4838-9bbf-0f3b9e782611",
   "metadata": {},
   "outputs": [],
   "source": [
    "o=[2,6,7,6,2,5]"
   ]
  },
  {
   "cell_type": "code",
   "execution_count": 195,
   "id": "9d6a4d38-6b5b-4b31-b5b9-3d9f9886a948",
   "metadata": {},
   "outputs": [
    {
     "data": {
      "text/plain": [
       "[2, 6, 7, 6, 2, 5]"
      ]
     },
     "execution_count": 195,
     "metadata": {},
     "output_type": "execute_result"
    }
   ],
   "source": [
    "o"
   ]
  },
  {
   "cell_type": "code",
   "execution_count": 199,
   "id": "e412d531-fe67-411a-84ab-d52be787869e",
   "metadata": {},
   "outputs": [],
   "source": [
    "g=list(set(o))"
   ]
  },
  {
   "cell_type": "code",
   "execution_count": 200,
   "id": "5d3ad9de-1f7d-4a5c-8c05-1f06e00baf63",
   "metadata": {},
   "outputs": [
    {
     "data": {
      "text/plain": [
       "[2, 5, 6, 7]"
      ]
     },
     "execution_count": 200,
     "metadata": {},
     "output_type": "execute_result"
    }
   ],
   "source": [
    "g"
   ]
  },
  {
   "cell_type": "code",
   "execution_count": 201,
   "id": "70907687-c9af-4380-b808-885fb215ddfa",
   "metadata": {},
   "outputs": [],
   "source": [
    "g.reverse()"
   ]
  },
  {
   "cell_type": "code",
   "execution_count": 202,
   "id": "934557d6-be07-456f-86e9-ebc6f2c3b4ea",
   "metadata": {},
   "outputs": [
    {
     "data": {
      "text/plain": [
       "[7, 6, 5, 2]"
      ]
     },
     "execution_count": 202,
     "metadata": {},
     "output_type": "execute_result"
    }
   ],
   "source": [
    "g"
   ]
  },
  {
   "cell_type": "code",
   "execution_count": 203,
   "id": "aab7caff-69d8-4981-b8fc-80a4d0c6bf25",
   "metadata": {},
   "outputs": [],
   "source": [
    "#IN SET - WE CAN NOT DO SLICING AND INDEXING OPERATION\n",
    "#WE CAN NOT MANIPULATE OR EXTRACT THE DATA\n",
    "#IN SET THERE IS NO INDEXING OF ELEMNTS \n",
    "#IN SET THERE IS A HASHING WHICH CREATE UNIQUE POSITION FOR ELEMENTS NONE OTHER THAN INDEXING"
   ]
  },
  {
   "cell_type": "code",
   "execution_count": 204,
   "id": "c48a5235-a80e-4741-9ae3-87cdacca9092",
   "metadata": {},
   "outputs": [],
   "source": [
    "p.add(1947)"
   ]
  },
  {
   "cell_type": "code",
   "execution_count": 205,
   "id": "52da53b8-6ec7-4725-8a87-5748f65e926d",
   "metadata": {},
   "outputs": [
    {
     "data": {
      "text/plain": [
       "{1947, 2, 4, 5, 58, 6, 7, 78, 8, 8888, 'Virat', 'virat'}"
      ]
     },
     "execution_count": 205,
     "metadata": {},
     "output_type": "execute_result"
    }
   ],
   "source": [
    "p"
   ]
  },
  {
   "cell_type": "code",
   "execution_count": null,
   "id": "5d5751a6-c0a8-449b-8f7b-d099b4dbe8ef",
   "metadata": {},
   "outputs": [],
   "source": []
  }
 ],
 "metadata": {
  "kernelspec": {
   "display_name": "Python 3 (ipykernel)",
   "language": "python",
   "name": "python3"
  },
  "language_info": {
   "codemirror_mode": {
    "name": "ipython",
    "version": 3
   },
   "file_extension": ".py",
   "mimetype": "text/x-python",
   "name": "python",
   "nbconvert_exporter": "python",
   "pygments_lexer": "ipython3",
   "version": "3.10.8"
  }
 },
 "nbformat": 4,
 "nbformat_minor": 5
}
