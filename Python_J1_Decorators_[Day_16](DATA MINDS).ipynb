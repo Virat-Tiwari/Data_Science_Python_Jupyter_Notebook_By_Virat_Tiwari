{
 "cells": [
  {
   "cell_type": "markdown",
   "id": "7c8482f7-a734-47a3-bcab-a69cd8ef49a0",
   "metadata": {},
   "source": [
    "DECORATORS - WITH THE HELP OF THE DECORATOR WE CAN ENHANCE THE BEAUTY OF CODE"
   ]
  },
  {
   "cell_type": "code",
   "execution_count": 7,
   "id": "e19cfb9e-0dbf-4835-8b88-fa8e4ebb2e67",
   "metadata": {},
   "outputs": [],
   "source": [
    "def test():\n",
    "    print(\"Hey fellowmate\")\n",
    "    print(\"This is Virat Tiwari\")\n",
    "    print(\"I am \", 21 ,\"years old\")\n",
    "    print(\"And I am aspiring Data Scientist\")\n",
    "    print(\"I want to get into FAANG comapnies as a Data scientist\")"
   ]
  },
  {
   "cell_type": "code",
   "execution_count": 8,
   "id": "0c92b9be-ddfb-445c-ab04-e32b2a476b8c",
   "metadata": {},
   "outputs": [
    {
     "name": "stdout",
     "output_type": "stream",
     "text": [
      "Hey fellowmate\n",
      "This is Virat Tiwari\n",
      "I am  21 years old\n",
      "And I am aspiring Data Scientist\n",
      "I want to get into FAANG comapnies as a Data scientist\n"
     ]
    }
   ],
   "source": [
    "test()"
   ]
  },
  {
   "cell_type": "code",
   "execution_count": 9,
   "id": "64a4dc1d-300f-4b73-a9b8-77b3e835e399",
   "metadata": {},
   "outputs": [],
   "source": [
    "def deco(details):\n",
    "    def inner_dec():\n",
    "        print(\"Hey fellowmate\")\n",
    "        details()\n",
    "        print(\"I want to get into FAANG comapnies as a Data scientist\")\n",
    "    return inner_dec"
   ]
  },
  {
   "cell_type": "code",
   "execution_count": 17,
   "id": "862e1d96-e505-4fab-bda1-7edda5e5a7bd",
   "metadata": {},
   "outputs": [],
   "source": [
    "@deco\n",
    "def test1():\n",
    "    print(20+3)"
   ]
  },
  {
   "cell_type": "code",
   "execution_count": 18,
   "id": "84e56bb8-8113-44db-a756-b5d0ac13d6a3",
   "metadata": {},
   "outputs": [
    {
     "name": "stdout",
     "output_type": "stream",
     "text": [
      "Hey fellowmate\n",
      "23\n",
      "I want to get into FAANG comapnies as a Data scientist\n"
     ]
    }
   ],
   "source": [
    "test1()"
   ]
  },
  {
   "cell_type": "markdown",
   "id": "839ce736-67b8-4b1e-ac8d-6541cf75c5e9",
   "metadata": {},
   "source": [
    "IMPORT TIME ( ) FUNCTION -: WITH THE HELP OF THIS FUNCTION WE CAN CALCULATE THE TIME OF EXECUTION OF CODE"
   ]
  },
  {
   "cell_type": "code",
   "execution_count": 75,
   "id": "ad08026c-98b4-452f-a4f1-c6d4dd52080f",
   "metadata": {},
   "outputs": [],
   "source": [
    "#WITH THE HELP OF THIS FUNCTION WE CAN CALCULATE THE TIME OF EXECUTION OF CODE\n",
    "\n",
    "import time\n",
    "\n",
    "def timer_test(func):\n",
    "    def timer_test_inner():\n",
    "        start=time.time()\n",
    "        func()\n",
    "        end=time.time()\n",
    "        print(end-start)\n",
    "    return timer_test_inner\n",
    "    "
   ]
  },
  {
   "cell_type": "code",
   "execution_count": 80,
   "id": "0bc9fae2-7257-46d5-8b10-0327f2033b51",
   "metadata": {},
   "outputs": [],
   "source": [
    "def test2():\n",
    "    print(26+10+9+57)"
   ]
  },
  {
   "cell_type": "code",
   "execution_count": 81,
   "id": "1403d06b-9f13-44ee-a46b-1567ee14e7a3",
   "metadata": {},
   "outputs": [
    {
     "name": "stdout",
     "output_type": "stream",
     "text": [
      "102\n"
     ]
    }
   ],
   "source": [
    "test2()"
   ]
  },
  {
   "cell_type": "code",
   "execution_count": 99,
   "id": "56fb40fd-b6ae-47ff-b86f-db89381c1d5c",
   "metadata": {},
   "outputs": [],
   "source": [
    "#IN THIS LINE OF CODE WE ALSO GET THE TIME OF EXECUTION OF CODE THAT HOW MUCH TIME IT TAKEN DURING EXCUTION OF (ADDITION CODE) OF LINE\n",
    "\n",
    "@timer_test\n",
    "def add():\n",
    "    print(26+10+9+57)"
   ]
  },
  {
   "cell_type": "code",
   "execution_count": 100,
   "id": "2a99abaa-5def-487b-81e0-7061f10e3639",
   "metadata": {},
   "outputs": [
    {
     "name": "stdout",
     "output_type": "stream",
     "text": [
      "102\n",
      "4.887580871582031e-05\n"
     ]
    }
   ],
   "source": [
    "add()"
   ]
  },
  {
   "cell_type": "code",
   "execution_count": 86,
   "id": "e2dc9a0b-a20d-4eb6-a628-c41c1a7bd6bb",
   "metadata": {},
   "outputs": [],
   "source": [
    "@timer_test\n",
    "def sub():\n",
    "    print(106479-2549)"
   ]
  },
  {
   "cell_type": "code",
   "execution_count": 87,
   "id": "551ac935-fd61-4382-92c8-992bc4a2e0ac",
   "metadata": {},
   "outputs": [
    {
     "name": "stdout",
     "output_type": "stream",
     "text": [
      "103930\n",
      "6.031990051269531e-05\n"
     ]
    }
   ],
   "source": [
    "sub()"
   ]
  },
  {
   "cell_type": "code",
   "execution_count": 88,
   "id": "92d8bd63-d33d-44c4-83e9-87ee1a5157bb",
   "metadata": {},
   "outputs": [],
   "source": [
    "@timer_test\n",
    "def mul():\n",
    "    print(23*57)"
   ]
  },
  {
   "cell_type": "code",
   "execution_count": 89,
   "id": "20250a00-eeaa-4580-a778-c8268fff0d79",
   "metadata": {},
   "outputs": [
    {
     "name": "stdout",
     "output_type": "stream",
     "text": [
      "1311\n",
      "4.76837158203125e-05\n"
     ]
    }
   ],
   "source": [
    "mul()"
   ]
  },
  {
   "cell_type": "code",
   "execution_count": 90,
   "id": "3abb8153-ef27-4781-bf43-e6f2202bc502",
   "metadata": {},
   "outputs": [],
   "source": [
    "@timer_test\n",
    "def div():\n",
    "    print(15/3)"
   ]
  },
  {
   "cell_type": "code",
   "execution_count": 91,
   "id": "7b98aaeb-a935-4a92-b989-80b0f6290607",
   "metadata": {},
   "outputs": [
    {
     "name": "stdout",
     "output_type": "stream",
     "text": [
      "5.0\n",
      "6.389617919921875e-05\n"
     ]
    }
   ],
   "source": [
    "div()"
   ]
  },
  {
   "cell_type": "code",
   "execution_count": 95,
   "id": "aa83c391-a948-4736-97d5-ddefb28dcd29",
   "metadata": {},
   "outputs": [],
   "source": [
    "@timer_test\n",
    "def squ():\n",
    "    print(21**2)"
   ]
  },
  {
   "cell_type": "code",
   "execution_count": 96,
   "id": "c7bae8e9-3b27-450f-adf7-8b42725b86ef",
   "metadata": {},
   "outputs": [
    {
     "name": "stdout",
     "output_type": "stream",
     "text": [
      "441\n",
      "4.9114227294921875e-05\n"
     ]
    }
   ],
   "source": [
    "squ()"
   ]
  },
  {
   "cell_type": "code",
   "execution_count": null,
   "id": "e03b4c22-6523-474a-8901-ef4930e6ce80",
   "metadata": {},
   "outputs": [],
   "source": [
    "@timer_test\n",
    "def check_time():\n",
    "    for i in range(1000000000000):\n",
    "        pass  "
   ]
  },
  {
   "cell_type": "code",
   "execution_count": null,
   "id": "f8f83379-12b3-439f-b451-3841bab07d25",
   "metadata": {},
   "outputs": [],
   "source": [
    "#TRY THIS CODE , I'LL SHARE AS A QUESTION\n",
    "check_time()"
   ]
  }
 ],
 "metadata": {
  "kernelspec": {
   "display_name": "Python 3 (ipykernel)",
   "language": "python",
   "name": "python3"
  },
  "language_info": {
   "codemirror_mode": {
    "name": "ipython",
    "version": 3
   },
   "file_extension": ".py",
   "mimetype": "text/x-python",
   "name": "python",
   "nbconvert_exporter": "python",
   "pygments_lexer": "ipython3",
   "version": "3.10.8"
  }
 },
 "nbformat": 4,
 "nbformat_minor": 5
}
