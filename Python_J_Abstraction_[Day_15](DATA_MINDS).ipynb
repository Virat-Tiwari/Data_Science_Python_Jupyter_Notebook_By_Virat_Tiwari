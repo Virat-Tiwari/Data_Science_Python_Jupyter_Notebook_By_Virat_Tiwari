{
 "cells": [
  {
   "cell_type": "markdown",
   "id": "f22940df-2d1a-4411-a1f1-7f3117801d05",
   "metadata": {},
   "source": [
    "ABSTRACTION - WHENEVER WE WRITE THE CODE SO BEFORE WRITING IT , WE CREATE ITS BLUEPRINT OR SKELETON OR OUTLINE AFTER THAT WE WRITE THAT CODE"
   ]
  },
  {
   "cell_type": "code",
   "execution_count": 18,
   "id": "e66d4e6c-c893-4f9e-8776-e44632e882c3",
   "metadata": {},
   "outputs": [],
   "source": [
    "#THIS IS HOW WE CREATE THE BLUEPRINT OR OUTLINE OF CODE\n",
    "\n",
    "import abc\n",
    "class Data_science:\n",
    "    \n",
    "    @abc.abstractclassmethod\n",
    "    def skills_require(self):\n",
    "        pass\n",
    "    \n",
    "    @abc.abstractclassmethod\n",
    "    def job_profile(self):\n",
    "        pass\n",
    "    \n",
    "    @abc.abstractclassmethod\n",
    "    def salery(self):\n",
    "        pass"
   ]
  },
  {
   "cell_type": "code",
   "execution_count": 19,
   "id": "95418129-9d71-47d3-a7ec-4c36686cbbdf",
   "metadata": {},
   "outputs": [],
   "source": [
    "class student_details(Data_science):\n",
    "    def skills_require(self):\n",
    "        return \"Python , Visualization ,Machine learning , NLP\"\n",
    "    def job_profile(self):\n",
    "        return \"Data Science , ML Engineer\""
   ]
  },
  {
   "cell_type": "code",
   "execution_count": 20,
   "id": "5d92166e-0876-4803-9938-cf840947a17a",
   "metadata": {},
   "outputs": [],
   "source": [
    "class Data_minds(Data_science):\n",
    "    def skills_require(self):\n",
    "        return \"It will return the skills of Data Scienec\"\n",
    "    def job_profile(self):\n",
    "        return \"It will gives the positions of Data Science\""
   ]
  },
  {
   "cell_type": "code",
   "execution_count": 21,
   "id": "133a87bb-709f-4cdd-b958-bc5ea0ec821f",
   "metadata": {},
   "outputs": [
    {
     "data": {
      "text/plain": [
       "'It will return the skills of Data Scienec'"
      ]
     },
     "execution_count": 21,
     "metadata": {},
     "output_type": "execute_result"
    }
   ],
   "source": [
    "DM=Data_minds()\n",
    "DM.skills_require()"
   ]
  },
  {
   "cell_type": "code",
   "execution_count": 23,
   "id": "43b50065-a24b-431d-a35e-9542d5a42ac7",
   "metadata": {},
   "outputs": [
    {
     "data": {
      "text/plain": [
       "'Python , Visualization ,Machine learning , NLP'"
      ]
     },
     "execution_count": 23,
     "metadata": {},
     "output_type": "execute_result"
    }
   ],
   "source": [
    "sd=student_details()\n",
    "sd.skills_require()"
   ]
  }
 ],
 "metadata": {
  "kernelspec": {
   "display_name": "Python 3 (ipykernel)",
   "language": "python",
   "name": "python3"
  },
  "language_info": {
   "codemirror_mode": {
    "name": "ipython",
    "version": 3
   },
   "file_extension": ".py",
   "mimetype": "text/x-python",
   "name": "python",
   "nbconvert_exporter": "python",
   "pygments_lexer": "ipython3",
   "version": "3.10.8"
  }
 },
 "nbformat": 4,
 "nbformat_minor": 5
}
