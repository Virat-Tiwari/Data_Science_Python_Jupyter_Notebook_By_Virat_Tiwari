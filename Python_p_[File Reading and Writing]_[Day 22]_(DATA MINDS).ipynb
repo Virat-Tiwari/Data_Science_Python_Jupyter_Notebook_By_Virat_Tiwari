{
 "cells": [
  {
   "cell_type": "markdown",
   "id": "db387f64-2191-4994-a3e9-e3dfecf9413d",
   "metadata": {},
   "source": [
    "TOPIC - FILE READING AND WRITING"
   ]
  },
  {
   "cell_type": "code",
   "execution_count": 2,
   "id": "5a073dfe-fc02-4fbd-b73f-f97251409ad7",
   "metadata": {},
   "outputs": [],
   "source": [
    "# WE CALL THIS DATA AS \" JSON - JAVA SCRIPT OBJECT NOTATION\"\n",
    "# WHERE OUR DATA AVAILABLE IN KEY VALUE PAIRS\n",
    "\n",
    "Information={\n",
    "    \"Name\":\"Virat Tiwari\",\n",
    "    \"Mail\":\"Virat@gmail.com\",\n",
    "    \"Mob no : \":8974264125912,\n",
    "    \"Course\":[\"Python\",\"Machine Learning\",\"NLP\"],\n",
    "    \"Teacher\":\"Shudanshu\",\n",
    "}"
   ]
  },
  {
   "cell_type": "markdown",
   "id": "3ee90f40-5488-40fc-a0c6-ce12e8cb26c2",
   "metadata": {},
   "source": [
    "01 ) IMPORTANT NOTE - :\n",
    "\n",
    "JSON - \" JavaScript Object Notation \"\n",
    "\n",
    "IN JSON FILE WE US EXTENTION - .JSON\n",
    "\n",
    "Now we understand how we write the data in JSON file\n",
    "\n",
    "1 ) First we \" import json \" module for making such kind of file or putting data inside the file like a dictionary type\n",
    "\n",
    "2 ) with open( ) - By using this function we open the file inside the json that we already written , in this finction we pass two(2) arguments one is file name and second is \"w\" - that use for write the file \n",
    "\n",
    "3 ) json.dump ( ) - By using this function we can dump or append the data that we written inside the file or it will created the final json file\n",
    "\n",
    "4 ) \"f\" - f is nothing but a variable  or a object where actual data store "
   ]
  },
  {
   "cell_type": "code",
   "execution_count": 3,
   "id": "52649f45-14eb-48ce-a664-d6d2aefd404b",
   "metadata": {},
   "outputs": [],
   "source": [
    "import json"
   ]
  },
  {
   "cell_type": "code",
   "execution_count": 4,
   "id": "74f1918e-5ae0-460e-b84a-8734f5e5b88d",
   "metadata": {},
   "outputs": [],
   "source": [
    "with open(\"Information.json\",\"w\") as f:\n",
    "    json.dump(Information,f)"
   ]
  },
  {
   "cell_type": "markdown",
   "id": "58a2b059-8fe1-4e71-b690-df0e6d260ffd",
   "metadata": {},
   "source": [
    "NOTE - :\n",
    "    \n",
    "1 ) with open ( ) - This function is used for the read the file and in this function we pass two arguments inside the function , first is file name and second is \"r\" - that use for the reading the file or data that we written\n",
    "\n",
    "2 ) json.laod ( ) - This function is used for laoding the data inside the file and we pass only one argument inside this function that is variable or object name that we already initialise "
   ]
  },
  {
   "cell_type": "code",
   "execution_count": 5,
   "id": "f7aee856-f9f6-400b-ba77-8a3e2673265c",
   "metadata": {},
   "outputs": [],
   "source": [
    "with open(\"Information.json\",\"r\") as f:\n",
    "    Details=json.load(f)"
   ]
  },
  {
   "cell_type": "code",
   "execution_count": 6,
   "id": "91623ab2-ba3a-4871-8e9e-9a5f0255569c",
   "metadata": {},
   "outputs": [
    {
     "data": {
      "text/plain": [
       "{'Name': 'Virat Tiwari',\n",
       " 'Mail': 'Virat@gmail.com',\n",
       " 'Mob no : ': 8974264125912,\n",
       " 'Course': ['Python', 'Machine Learning', 'NLP'],\n",
       " 'Teacher': 'Shudanshu'}"
      ]
     },
     "execution_count": 6,
     "metadata": {},
     "output_type": "execute_result"
    }
   ],
   "source": [
    "Details"
   ]
  },
  {
   "cell_type": "code",
   "execution_count": 7,
   "id": "4deb00c6-7c33-4894-9a15-cc67b0efa57d",
   "metadata": {},
   "outputs": [
    {
     "data": {
      "text/plain": [
       "'Machine Learning'"
      ]
     },
     "execution_count": 7,
     "metadata": {},
     "output_type": "execute_result"
    }
   ],
   "source": [
    "Details[\"Course\"][1]"
   ]
  },
  {
   "cell_type": "markdown",
   "id": "597df1b7-850e-4be3-9350-e02c6fe896ad",
   "metadata": {},
   "source": [
    "02 ) CSV ( \"COMMA SEPERATED VALUES \" ) - :\n",
    "\n",
    "IT STORE THE DATA IN STRUCTURED OR TABULAR FORMAT  , WHER DATA PRESENT IN ROWS AND COLUMNS IN PROPER MANNER\n",
    "\n",
    "NOTE - THE DATA THAT WE STORE IN CSV IS STRUCTURED DATA OR TABULAR FORMAT OF DATA\n",
    "\n",
    "NOTE- FIRST WE \"IMPORT CSV\" MODULE FOR STORING DATA IN FILE IN STARUCTURED MANNER\n",
    "\n",
    "IN CSV FILE WE US EXTENTION - .CSV\n"
   ]
  },
  {
   "cell_type": "code",
   "execution_count": 8,
   "id": "910b54dd-eba9-49c0-b86d-08dcf33630e9",
   "metadata": {},
   "outputs": [],
   "source": [
    "import csv"
   ]
  },
  {
   "cell_type": "code",
   "execution_count": 9,
   "id": "a0356ab8-874b-49c9-9cc9-6665b3b44992",
   "metadata": {},
   "outputs": [],
   "source": [
    "Data=[[\"Name\",\"Email\",\"Mobile no\"],\n",
    "      [\"Virat Tiwari\",\"Virat@gmail.com\",87456],\n",
    "      [\"Yash Verma\",\"Yash@gmail.com\",97456]\n",
    "]"
   ]
  },
  {
   "cell_type": "code",
   "execution_count": 10,
   "id": "c809caf1-2e4a-4214-b449-247c44b53d00",
   "metadata": {},
   "outputs": [],
   "source": [
    "with open(\"Data.csv\",\"w\") as f:\n",
    "    writer=csv.writer(f)\n",
    "    \n",
    "    for i in Data:\n",
    "        writer.writerow(i)"
   ]
  },
  {
   "cell_type": "code",
   "execution_count": 11,
   "id": "37d9419f-6123-486d-8689-9de017006135",
   "metadata": {},
   "outputs": [
    {
     "name": "stdout",
     "output_type": "stream",
     "text": [
      "['Name', 'Email', 'Mobile no']\n",
      "['Virat Tiwari', 'Virat@gmail.com', '87456']\n",
      "['Yash Verma', 'Yash@gmail.com', '97456']\n"
     ]
    }
   ],
   "source": [
    "with open(\"Data.csv\",\"r\") as f:\n",
    "    read_Data=csv.reader(f)\n",
    "    \n",
    "    for i in read_Data:\n",
    "        print(i)"
   ]
  },
  {
   "cell_type": "markdown",
   "id": "603ce517-9dac-4cdf-a915-45d0cdc0bc04",
   "metadata": {},
   "source": [
    "03 ) IMPORTANT NOTE : -\n",
    "\n",
    "BINARY DATA - THIS COVERTS EVERY FILE IN TO 0 AND 1 THAT BASICALLY STORE IN HEXADECIMAL IN A SYSTEM OR COMPUTER\n",
    "\n",
    "WE CAN NOT DIRECTLY READ BINARY DATA BECOUSE IT OBIOUSLY PRESENT IN BINARY FORM WHICH IS 0 AND 1 UNTILL AND UNLESS WE CAN NOT CONVERT THAT DATA INTO IMAGE , VIDEO AND OTHER FORMAT\n",
    "\n",
    "IN BINARY FILE WE US EXTENTION - .BIN\n",
    "\n"
   ]
  },
  {
   "cell_type": "code",
   "execution_count": 20,
   "id": "7bc355cc-f9ad-44aa-8e7e-fe304671e11d",
   "metadata": {},
   "outputs": [],
   "source": [
    "with open(\"test.bin\",\"wb\") as f:\n",
    "    f.write(b\"\\x01\\x02\\x03\\x04\\x05\\Virat Tiwari (Aspiring Data Scientist)\")"
   ]
  },
  {
   "cell_type": "code",
   "execution_count": 21,
   "id": "a3cee354-d0c5-45f2-bfca-273f0d7dcc22",
   "metadata": {},
   "outputs": [
    {
     "name": "stdout",
     "output_type": "stream",
     "text": [
      "b'\\x01\\x02\\x03\\x04\\x05\\\\Virat Tiwari (Aspiring Data Scientist)'\n"
     ]
    }
   ],
   "source": [
    "with open(\"test.bin\",\"rb\") as f:\n",
    "    print(f.read())"
   ]
  },
  {
   "cell_type": "markdown",
   "id": "f63e373e-6fb1-42aa-ba56-192150857f20",
   "metadata": {},
   "source": [
    "Thank You So Much !\n",
    "\n",
    "Yours Virat Tiwari :)"
   ]
  }
 ],
 "metadata": {
  "kernelspec": {
   "display_name": "Python 3 (ipykernel)",
   "language": "python",
   "name": "python3"
  },
  "language_info": {
   "codemirror_mode": {
    "name": "ipython",
    "version": 3
   },
   "file_extension": ".py",
   "mimetype": "text/x-python",
   "name": "python",
   "nbconvert_exporter": "python",
   "pygments_lexer": "ipython3",
   "version": "3.10.8"
  }
 },
 "nbformat": 4,
 "nbformat_minor": 5
}
