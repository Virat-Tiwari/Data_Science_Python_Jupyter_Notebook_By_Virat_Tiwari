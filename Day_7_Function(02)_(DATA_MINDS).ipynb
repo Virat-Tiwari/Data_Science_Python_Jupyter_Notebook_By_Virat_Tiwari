{
 "cells": [
  {
   "cell_type": "code",
   "execution_count": 7,
   "id": "0b4c7fab-c6af-4578-a2f8-a6a38053b09e",
   "metadata": {},
   "outputs": [],
   "source": [
    "def test6(a,b):\n",
    "    return a+b"
   ]
  },
  {
   "cell_type": "code",
   "execution_count": 9,
   "id": "32a53fc4-49e9-4505-9fd7-6e62ab0567b2",
   "metadata": {},
   "outputs": [
    {
     "data": {
      "text/plain": [
       "6"
      ]
     },
     "execution_count": 9,
     "metadata": {},
     "output_type": "execute_result"
    }
   ],
   "source": [
    "test6(2,4)"
   ]
  },
  {
   "cell_type": "code",
   "execution_count": 12,
   "id": "b93e45eb-9f9a-4512-b142-f1c51e29410b",
   "metadata": {},
   "outputs": [
    {
     "data": {
      "text/plain": [
       "'Virat yash'"
      ]
     },
     "execution_count": 12,
     "metadata": {},
     "output_type": "execute_result"
    }
   ],
   "source": [
    "test6(\"Virat\",\" yash\")"
   ]
  },
  {
   "cell_type": "code",
   "execution_count": 13,
   "id": "4571fd7b-d722-4d65-b8f5-4cc00cec9e52",
   "metadata": {},
   "outputs": [
    {
     "data": {
      "text/plain": [
       "[1, 2, 3, 4, 5, 6]"
      ]
     },
     "execution_count": 13,
     "metadata": {},
     "output_type": "execute_result"
    }
   ],
   "source": [
    "test6([1,2,3],[ 4,5,6])"
   ]
  },
  {
   "cell_type": "code",
   "execution_count": 14,
   "id": "f060e9a8-8cf3-43b7-a43d-f33603c21b6a",
   "metadata": {},
   "outputs": [],
   "source": [
    "l=[1,2,3,4,5,\"Virat Tiwari\",[7,8,9]]"
   ]
  },
  {
   "cell_type": "code",
   "execution_count": 15,
   "id": "4db6fea6-9b7a-4c40-9e20-5fafab91f036",
   "metadata": {},
   "outputs": [
    {
     "data": {
      "text/plain": [
       "[1, 2, 3, 4, 5, 'Virat Tiwari', [7, 8, 9]]"
      ]
     },
     "execution_count": 15,
     "metadata": {},
     "output_type": "execute_result"
    }
   ],
   "source": [
    "l"
   ]
  },
  {
   "cell_type": "code",
   "execution_count": 16,
   "id": "b79b3a4f-4546-41e6-b221-bdd7104e3f3a",
   "metadata": {},
   "outputs": [
    {
     "data": {
      "text/plain": [
       "list"
      ]
     },
     "execution_count": 16,
     "metadata": {},
     "output_type": "execute_result"
    }
   ],
   "source": [
    "type(l)"
   ]
  },
  {
   "cell_type": "code",
   "execution_count": 17,
   "id": "b0a67e65-9f00-40d6-8ccf-e697bfeafc5e",
   "metadata": {},
   "outputs": [
    {
     "data": {
      "text/plain": [
       "7"
      ]
     },
     "execution_count": 17,
     "metadata": {},
     "output_type": "execute_result"
    }
   ],
   "source": [
    "len(l)"
   ]
  },
  {
   "cell_type": "code",
   "execution_count": 20,
   "id": "a7da4b1c-1a48-4700-b178-a220b37f87a0",
   "metadata": {},
   "outputs": [],
   "source": [
    "l1=[]\n",
    "for i in l:\n",
    "    if type(i)==int or type(i)==float:\n",
    "        l1.append(i)"
   ]
  },
  {
   "cell_type": "code",
   "execution_count": 21,
   "id": "fa237144-209d-4b59-965b-76db4b794b00",
   "metadata": {},
   "outputs": [
    {
     "data": {
      "text/plain": [
       "[1, 2, 3, 4, 5]"
      ]
     },
     "execution_count": 21,
     "metadata": {},
     "output_type": "execute_result"
    }
   ],
   "source": [
    "l1"
   ]
  },
  {
   "cell_type": "code",
   "execution_count": 25,
   "id": "62ed84aa-afb8-40ab-aeaf-12d7b635abf6",
   "metadata": {},
   "outputs": [],
   "source": [
    "def test7(l):\n",
    "    l1=[]\n",
    "    for i in l:\n",
    "        if type(i)==int or type(i)==float:\n",
    "            l1.append(i)\n",
    "    return l1"
   ]
  },
  {
   "cell_type": "code",
   "execution_count": 27,
   "id": "c916dbb7-c743-4c34-afb8-78a1733233ab",
   "metadata": {},
   "outputs": [
    {
     "data": {
      "text/plain": [
       "[1, 2, 3, 4, 5]"
      ]
     },
     "execution_count": 27,
     "metadata": {},
     "output_type": "execute_result"
    }
   ],
   "source": [
    "test7(l)"
   ]
  },
  {
   "cell_type": "code",
   "execution_count": 28,
   "id": "e7083802-c34c-4e6e-84dd-2ee2737d8267",
   "metadata": {},
   "outputs": [
    {
     "data": {
      "text/plain": [
       "[1, 2, 3, 4, 5, 'Virat Tiwari', [7, 8, 9]]"
      ]
     },
     "execution_count": 28,
     "metadata": {},
     "output_type": "execute_result"
    }
   ],
   "source": [
    "l"
   ]
  },
  {
   "cell_type": "code",
   "execution_count": 37,
   "id": "86495f2c-b440-4ccd-911a-70d85c02092d",
   "metadata": {},
   "outputs": [],
   "source": [
    "def test8(a):\n",
    "    l=[]\n",
    "    for i in a:\n",
    "        if type(i)==list:\n",
    "            for j in i:\n",
    "                l.append(j)\n",
    "        else:\n",
    "            if type(i)==int or type(i)==float:\n",
    "                l.append\n",
    "    return l\n",
    "            "
   ]
  },
  {
   "cell_type": "code",
   "execution_count": 41,
   "id": "59a63d6b-8884-4908-8b75-e1110ec51cfb",
   "metadata": {},
   "outputs": [
    {
     "data": {
      "text/plain": [
       "[7, 8, 9]"
      ]
     },
     "execution_count": 41,
     "metadata": {},
     "output_type": "execute_result"
    }
   ],
   "source": [
    "test8(l)"
   ]
  },
  {
   "cell_type": "code",
   "execution_count": 46,
   "id": "6f13b433-6907-4605-a232-0ecc53234ee5",
   "metadata": {},
   "outputs": [],
   "source": [
    "def test9(a):\n",
    "    \n",
    "    \"\"\"DOCSTRING - This is how we extract the num the list\"\"\"\n",
    "    \n",
    "    l=[]\n",
    "    for i in a:\n",
    "        if type(i)==list:\n",
    "            for j in i:\n",
    "                l.append(j)\n",
    "        else:\n",
    "            if type(i)==int or type(i)==float:\n",
    "                l.append\n",
    "    return l\n",
    "            "
   ]
  },
  {
   "cell_type": "code",
   "execution_count": null,
   "id": "fea6c282-9cc3-4512-b50a-b3ef084b2df6",
   "metadata": {},
   "outputs": [],
   "source": [
    "test9()"
   ]
  },
  {
   "cell_type": "markdown",
   "id": "6ac8957c-72d0-46bb-8760-975e7310f177",
   "metadata": {},
   "source": [
    "WE WRITE DOCSTRING FOR THE FUNCTION FOR UNDERSTAD THE CODE OR FUNCTION IN FUTURE BY OTHER DEVELOPERS THOSE WHO WORK ON OUR CODE OR PROGRAMS IN FUTURE  "
   ]
  },
  {
   "cell_type": "code",
   "execution_count": 47,
   "id": "06c24da1-f1de-43d7-85d8-107c1c1477a5",
   "metadata": {},
   "outputs": [],
   "source": [
    "def test10(a,b):\n",
    "    return a+b"
   ]
  },
  {
   "cell_type": "code",
   "execution_count": 48,
   "id": "31a8931d-749f-4c97-90df-e1cf0b83dab5",
   "metadata": {},
   "outputs": [
    {
     "data": {
      "text/plain": [
       "36623"
      ]
     },
     "execution_count": 48,
     "metadata": {},
     "output_type": "execute_result"
    }
   ],
   "source": [
    "test10(145,36478)"
   ]
  },
  {
   "cell_type": "markdown",
   "id": "2d3c42b2-42a4-4ea5-b2fe-bf3c9eed027c",
   "metadata": {},
   "source": [
    "NOTE - *ARGS MEANS WE PASS N NUMBER OF ARGUMENTS INSIDE A FUNCTION\n",
    "\n",
    "Args is just a convention \n",
    "\n",
    "NOTE - IT REPRESENT DATA INTO THE FORM OF TUPLES"
   ]
  },
  {
   "cell_type": "code",
   "execution_count": 49,
   "id": "cdb4dbc7-2d51-4345-be7d-1e056cd2184b",
   "metadata": {},
   "outputs": [],
   "source": [
    "def test11(*args):\n",
    "    return args"
   ]
  },
  {
   "cell_type": "code",
   "execution_count": 50,
   "id": "c52a394d-9664-4c30-8ef9-c66b4213f1d0",
   "metadata": {},
   "outputs": [
    {
     "data": {
      "text/plain": [
       "()"
      ]
     },
     "execution_count": 50,
     "metadata": {},
     "output_type": "execute_result"
    }
   ],
   "source": [
    "test11()"
   ]
  },
  {
   "cell_type": "code",
   "execution_count": 52,
   "id": "ffb7b01d-323b-46fc-970e-b20a9c61e5cf",
   "metadata": {},
   "outputs": [
    {
     "data": {
      "text/plain": [
       "tuple"
      ]
     },
     "execution_count": 52,
     "metadata": {},
     "output_type": "execute_result"
    }
   ],
   "source": [
    "type(test11())"
   ]
  },
  {
   "cell_type": "code",
   "execution_count": 53,
   "id": "aad207f0-c5c6-4fa5-9313-30f8e0e024b7",
   "metadata": {},
   "outputs": [
    {
     "data": {
      "text/plain": [
       "(2, 3, 4)"
      ]
     },
     "execution_count": 53,
     "metadata": {},
     "output_type": "execute_result"
    }
   ],
   "source": [
    "test11(2,3,4)"
   ]
  },
  {
   "cell_type": "code",
   "execution_count": 54,
   "id": "9c30352a-2f46-4d9f-ac11-3585c0ef1799",
   "metadata": {},
   "outputs": [
    {
     "data": {
      "text/plain": [
       "(125, 54, 86, 36, 79, 2)"
      ]
     },
     "execution_count": 54,
     "metadata": {},
     "output_type": "execute_result"
    }
   ],
   "source": [
    "test11(125,54,86,36,79,2)"
   ]
  },
  {
   "cell_type": "code",
   "execution_count": 56,
   "id": "8094b26e-3103-4a2a-be84-74b6ad93d0bd",
   "metadata": {},
   "outputs": [
    {
     "data": {
      "text/plain": [
       "(1, 5, 'Virat tiwari', 254.6, [145, 678])"
      ]
     },
     "execution_count": 56,
     "metadata": {},
     "output_type": "execute_result"
    }
   ],
   "source": [
    "test11(1,5,\"Virat tiwari\",254.6,[145,678])"
   ]
  },
  {
   "cell_type": "code",
   "execution_count": 58,
   "id": "64c374c4-a88c-4b3a-9ed4-8d87514152d6",
   "metadata": {},
   "outputs": [],
   "source": [
    "def test12(*virat):\n",
    "    return virat"
   ]
  },
  {
   "cell_type": "code",
   "execution_count": 59,
   "id": "76e10751-f945-4fdc-8d45-ca479bfa62f3",
   "metadata": {},
   "outputs": [
    {
     "data": {
      "text/plain": [
       "('Virat tiwari', [12, 45, 78], 'Data science', 25.01)"
      ]
     },
     "execution_count": 59,
     "metadata": {},
     "output_type": "execute_result"
    }
   ],
   "source": [
    "test12(\"Virat tiwari\",[12,45,78],\"Data science\",25.01)"
   ]
  },
  {
   "cell_type": "code",
   "execution_count": 60,
   "id": "bbca4039-8503-47ec-97e8-dacb4b79fc8a",
   "metadata": {},
   "outputs": [],
   "source": [
    "def test14(c,d,a=10,b=25):\n",
    "    return a,b,c,d"
   ]
  },
  {
   "cell_type": "code",
   "execution_count": 61,
   "id": "b4fba6f9-194b-430d-8a14-65fffbc53287",
   "metadata": {},
   "outputs": [
    {
     "data": {
      "text/plain": [
       "(10, 25, 4, 6)"
      ]
     },
     "execution_count": 61,
     "metadata": {},
     "output_type": "execute_result"
    }
   ],
   "source": [
    "test14(4,6)"
   ]
  },
  {
   "cell_type": "markdown",
   "id": "95d93ae7-5a4a-447c-976f-4469b64d4e8a",
   "metadata": {},
   "source": [
    "NOTE - **KWARGS ARE USED FOR PASSING  N NUMBER OF ARGUMENTS IN A FUNCTION \n",
    "\n",
    "ITS GIVES THE OUTPUT IN THE FORM OF LIST\n",
    "\n"
   ]
  },
  {
   "cell_type": "code",
   "execution_count": null,
   "id": "f51d9b23-80fe-4fcb-881b-721f766d441d",
   "metadata": {},
   "outputs": [],
   "source": [
    "def test15(**kwargs):\n",
    "    return kwargs"
   ]
  },
  {
   "cell_type": "code",
   "execution_count": 63,
   "id": "f91d41f8-816b-467c-bac0-9e58d106ba17",
   "metadata": {},
   "outputs": [
    {
     "data": {
      "text/plain": [
       "{}"
      ]
     },
     "execution_count": 63,
     "metadata": {},
     "output_type": "execute_result"
    }
   ],
   "source": [
    "test15()"
   ]
  },
  {
   "cell_type": "code",
   "execution_count": 64,
   "id": "927fc7e0-910a-473d-8b0e-4ca64e348d34",
   "metadata": {},
   "outputs": [
    {
     "data": {
      "text/plain": [
       "dict"
      ]
     },
     "execution_count": 64,
     "metadata": {},
     "output_type": "execute_result"
    }
   ],
   "source": [
    "type(test15())"
   ]
  },
  {
   "cell_type": "code",
   "execution_count": 65,
   "id": "574982f7-9ff7-41d2-916d-dcbf977469f1",
   "metadata": {},
   "outputs": [
    {
     "data": {
      "text/plain": [
       "{'a': [1, 2, 3], 'b': 'Virat tiwari', 'c': 52.4}"
      ]
     },
     "execution_count": 65,
     "metadata": {},
     "output_type": "execute_result"
    }
   ],
   "source": [
    "test15(a=[1,2,3],b=\"Virat tiwari\",c=52.4)"
   ]
  }
 ],
 "metadata": {
  "kernelspec": {
   "display_name": "Python 3 (ipykernel)",
   "language": "python",
   "name": "python3"
  },
  "language_info": {
   "codemirror_mode": {
    "name": "ipython",
    "version": 3
   },
   "file_extension": ".py",
   "mimetype": "text/x-python",
   "name": "python",
   "nbconvert_exporter": "python",
   "pygments_lexer": "ipython3",
   "version": "3.10.8"
  }
 },
 "nbformat": 4,
 "nbformat_minor": 5
}
