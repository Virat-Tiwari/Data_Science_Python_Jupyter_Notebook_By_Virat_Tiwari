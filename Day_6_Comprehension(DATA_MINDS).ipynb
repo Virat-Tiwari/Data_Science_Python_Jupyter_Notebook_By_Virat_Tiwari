{
 "cells": [
  {
   "cell_type": "markdown",
   "id": "6b6951b5-621a-4418-963e-81975b2d6ee8",
   "metadata": {},
   "source": [
    "# COMPREHENSION"
   ]
  },
  {
   "cell_type": "code",
   "execution_count": 1,
   "id": "87b6a927-5436-454c-b412-7d4d7d0a60b4",
   "metadata": {},
   "outputs": [],
   "source": [
    "l=[1,2,5,3,4,6,8,7,9]"
   ]
  },
  {
   "cell_type": "code",
   "execution_count": 2,
   "id": "68dc66df-d1ed-4e09-b494-30af78ddece3",
   "metadata": {},
   "outputs": [
    {
     "data": {
      "text/plain": [
       "[1, 2, 5, 3, 4, 6, 8, 7, 9]"
      ]
     },
     "execution_count": 2,
     "metadata": {},
     "output_type": "execute_result"
    }
   ],
   "source": [
    "l"
   ]
  },
  {
   "cell_type": "code",
   "execution_count": 3,
   "id": "f621460f-eba3-4a0b-bd6f-3ac6e44dca00",
   "metadata": {},
   "outputs": [
    {
     "data": {
      "text/plain": [
       "list"
      ]
     },
     "execution_count": 3,
     "metadata": {},
     "output_type": "execute_result"
    }
   ],
   "source": [
    "type(l)"
   ]
  },
  {
   "cell_type": "markdown",
   "id": "7b5de8ea-e67d-47fa-a4f9-7de2d0e5cb74",
   "metadata": {},
   "source": [
    "#THIS IS HOW WE SWUARE THE NO THROUGH FOR LOOP"
   ]
  },
  {
   "cell_type": "code",
   "execution_count": 8,
   "id": "db3ec866-7534-4ecc-86c7-b2e671b5a19d",
   "metadata": {},
   "outputs": [],
   "source": [
    "l=[1,2,5,3,4,6,8,7,9]\n",
    "k=[]\n",
    "for i in l:\n",
    "    k.append(i**2)   "
   ]
  },
  {
   "cell_type": "code",
   "execution_count": 10,
   "id": "f097d9e0-ee73-4ec0-9ae2-0cff9dd3d6bd",
   "metadata": {},
   "outputs": [
    {
     "data": {
      "text/plain": [
       "[1, 4, 25, 9, 16, 36, 64, 49, 81]"
      ]
     },
     "execution_count": 10,
     "metadata": {},
     "output_type": "execute_result"
    }
   ],
   "source": [
    "k"
   ]
  },
  {
   "cell_type": "code",
   "execution_count": 11,
   "id": "d26c7715-70ed-4ceb-9fba-fb17253113f8",
   "metadata": {},
   "outputs": [
    {
     "data": {
      "text/plain": [
       "[1, 2, 5, 3, 4, 6, 8, 7, 9]"
      ]
     },
     "execution_count": 11,
     "metadata": {},
     "output_type": "execute_result"
    }
   ],
   "source": [
    "l"
   ]
  },
  {
   "cell_type": "markdown",
   "id": "177e6779-7ea5-4a2a-925d-1db39ccad3c7",
   "metadata": {},
   "source": [
    "#THIS IS HOW WE DONE SAME THING IN ONE LINE OF CODE"
   ]
  },
  {
   "cell_type": "code",
   "execution_count": 14,
   "id": "90702b6f-ed1a-4645-a297-f5124e53a213",
   "metadata": {},
   "outputs": [
    {
     "data": {
      "text/plain": [
       "[1, 4, 25, 9, 16, 36, 64, 49, 81]"
      ]
     },
     "execution_count": 14,
     "metadata": {},
     "output_type": "execute_result"
    }
   ],
   "source": [
    "[i**2 for i in l]"
   ]
  },
  {
   "cell_type": "markdown",
   "id": "de12caca-7fdc-4581-b2e3-4bd1a5e5157c",
   "metadata": {},
   "source": [
    "#WE FETCH EVEN VALUES LIKE THIS "
   ]
  },
  {
   "cell_type": "code",
   "execution_count": 17,
   "id": "c4298a67-9323-42eb-b465-69e26fb660d2",
   "metadata": {},
   "outputs": [
    {
     "data": {
      "text/plain": [
       "[2, 4, 6, 8]"
      ]
     },
     "execution_count": 17,
     "metadata": {},
     "output_type": "execute_result"
    }
   ],
   "source": [
    "[i for i in l if i%2==0]"
   ]
  },
  {
   "cell_type": "code",
   "execution_count": 18,
   "id": "289a99fb-3f5e-45ad-b12e-0bc2e271c5c6",
   "metadata": {},
   "outputs": [],
   "source": [
    "k=[\"virat\",\"Datascience\",\"Yash\",\"Rohit\"]"
   ]
  },
  {
   "cell_type": "code",
   "execution_count": 19,
   "id": "cc6e4f37-3319-4566-8944-c2be7950ee40",
   "metadata": {},
   "outputs": [
    {
     "data": {
      "text/plain": [
       "['VIRAT', 'DATASCIENCE', 'YASH', 'ROHIT']"
      ]
     },
     "execution_count": 19,
     "metadata": {},
     "output_type": "execute_result"
    }
   ],
   "source": [
    "[i.upper() for i in k]"
   ]
  },
  {
   "cell_type": "code",
   "execution_count": 20,
   "id": "c15a7516-a7da-45ee-bafa-c7541ca8cc0c",
   "metadata": {},
   "outputs": [
    {
     "data": {
      "text/plain": [
       "[1, 2, 5, 3, 4, 6, 8, 7, 9]"
      ]
     },
     "execution_count": 20,
     "metadata": {},
     "output_type": "execute_result"
    }
   ],
   "source": [
    "l"
   ]
  },
  {
   "cell_type": "code",
   "execution_count": 22,
   "id": "57cdb055-f541-4e9b-86b2-f15edd9a5bd0",
   "metadata": {},
   "outputs": [
    {
     "data": {
      "text/plain": [
       "[1, 4, 25, 9, 16, 36, 64, 49, 81]"
      ]
     },
     "execution_count": 22,
     "metadata": {},
     "output_type": "execute_result"
    }
   ],
   "source": [
    "list(i**2 for i in l)"
   ]
  },
  {
   "cell_type": "code",
   "execution_count": 23,
   "id": "7e0083ad-6185-401e-9723-e225cbf3072d",
   "metadata": {},
   "outputs": [],
   "source": [
    "d={\"key\":1,\"key2\":2,\"key3\":3,\"key4\":4}"
   ]
  },
  {
   "cell_type": "code",
   "execution_count": 24,
   "id": "cc0f7827-d9c3-49dd-a381-8fef714df4df",
   "metadata": {},
   "outputs": [
    {
     "data": {
      "text/plain": [
       "{'key': 1, 'key2': 2, 'key3': 3, 'key4': 4}"
      ]
     },
     "execution_count": 24,
     "metadata": {},
     "output_type": "execute_result"
    }
   ],
   "source": [
    "d"
   ]
  },
  {
   "cell_type": "code",
   "execution_count": 29,
   "id": "ec3bc57f-d9c9-4d83-be61-a4e4694367d7",
   "metadata": {},
   "outputs": [
    {
     "data": {
      "text/plain": [
       "{'key': 1, 'key2': 4, 'key3': 9, 'key4': 16}"
      ]
     },
     "execution_count": 29,
     "metadata": {},
     "output_type": "execute_result"
    }
   ],
   "source": [
    "{k:v**2 for k,v in d.items()}"
   ]
  },
  {
   "cell_type": "code",
   "execution_count": null,
   "id": "d71d5577-6b1c-48f9-9c0c-cbb25af98a6c",
   "metadata": {},
   "outputs": [],
   "source": []
  }
 ],
 "metadata": {
  "kernelspec": {
   "display_name": "Python 3 (ipykernel)",
   "language": "python",
   "name": "python3"
  },
  "language_info": {
   "codemirror_mode": {
    "name": "ipython",
    "version": 3
   },
   "file_extension": ".py",
   "mimetype": "text/x-python",
   "name": "python",
   "nbconvert_exporter": "python",
   "pygments_lexer": "ipython3",
   "version": "3.10.8"
  }
 },
 "nbformat": 4,
 "nbformat_minor": 5
}
