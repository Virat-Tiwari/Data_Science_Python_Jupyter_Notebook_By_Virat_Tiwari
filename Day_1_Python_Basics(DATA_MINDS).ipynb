{
 "cells": [
  {
   "cell_type": "code",
   "execution_count": 2,
   "id": "96948193-e195-4f19-96cd-e079a61ddfb9",
   "metadata": {},
   "outputs": [],
   "source": [
    "#Variable-Kind of a location name where we store the data"
   ]
  },
  {
   "cell_type": "code",
   "execution_count": 3,
   "id": "3a67e830-3956-44a5-b1f3-fa260b5fc3bb",
   "metadata": {},
   "outputs": [],
   "source": [
    "a=10"
   ]
  },
  {
   "cell_type": "code",
   "execution_count": 6,
   "id": "b562b4c0-b03c-4ac3-bd96-74faee55c37a",
   "metadata": {},
   "outputs": [
    {
     "data": {
      "text/plain": [
       "10"
      ]
     },
     "execution_count": 6,
     "metadata": {},
     "output_type": "execute_result"
    }
   ],
   "source": [
    "a"
   ]
  },
  {
   "cell_type": "code",
   "execution_count": 7,
   "id": "627bf1f1-d4c3-4f98-aea8-13ca6cc5d670",
   "metadata": {},
   "outputs": [],
   "source": [
    "virat=22"
   ]
  },
  {
   "cell_type": "code",
   "execution_count": 8,
   "id": "99a54a08-cd64-4a10-b6b2-82273baf6743",
   "metadata": {},
   "outputs": [
    {
     "data": {
      "text/plain": [
       "22"
      ]
     },
     "execution_count": 8,
     "metadata": {},
     "output_type": "execute_result"
    }
   ],
   "source": [
    "virat"
   ]
  },
  {
   "cell_type": "code",
   "execution_count": 9,
   "id": "1fd11448-3f0d-4d21-b25c-635cbed67d9a",
   "metadata": {},
   "outputs": [
    {
     "data": {
      "text/plain": [
       "32"
      ]
     },
     "execution_count": 9,
     "metadata": {},
     "output_type": "execute_result"
    }
   ],
   "source": [
    "a+virat"
   ]
  },
  {
   "cell_type": "code",
   "execution_count": 10,
   "id": "961801bc-87fc-444f-a96e-74547adf76ad",
   "metadata": {},
   "outputs": [],
   "source": [
    "#Type funtion - Used for check what kind of datatype is used"
   ]
  },
  {
   "cell_type": "code",
   "execution_count": 11,
   "id": "b4a03332-6e3b-489d-ac91-5800de55aebe",
   "metadata": {},
   "outputs": [
    {
     "data": {
      "text/plain": [
       "int"
      ]
     },
     "execution_count": 11,
     "metadata": {},
     "output_type": "execute_result"
    }
   ],
   "source": [
    "type(virat)"
   ]
  },
  {
   "cell_type": "code",
   "execution_count": 14,
   "id": "f2952409-90f0-4bc6-91fc-bf0b05547796",
   "metadata": {},
   "outputs": [],
   "source": [
    "B=7.36"
   ]
  },
  {
   "cell_type": "code",
   "execution_count": 15,
   "id": "9c479935-2de6-4699-a379-3a5ef2ded831",
   "metadata": {},
   "outputs": [
    {
     "data": {
      "text/plain": [
       "7.36"
      ]
     },
     "execution_count": 15,
     "metadata": {},
     "output_type": "execute_result"
    }
   ],
   "source": [
    "B"
   ]
  },
  {
   "cell_type": "code",
   "execution_count": 16,
   "id": "edf3187b-d151-4655-8451-0691dd0d1ea5",
   "metadata": {},
   "outputs": [
    {
     "data": {
      "text/plain": [
       "float"
      ]
     },
     "execution_count": 16,
     "metadata": {},
     "output_type": "execute_result"
    }
   ],
   "source": [
    "type(B)"
   ]
  },
  {
   "cell_type": "code",
   "execution_count": 17,
   "id": "6b21211b-c622-4fb5-8948-44a4d0c94857",
   "metadata": {},
   "outputs": [],
   "source": [
    "c=22.545"
   ]
  },
  {
   "cell_type": "code",
   "execution_count": 18,
   "id": "59542ed0-81bc-4256-a3c0-1760eea3a98b",
   "metadata": {},
   "outputs": [
    {
     "data": {
      "text/plain": [
       "float"
      ]
     },
     "execution_count": 18,
     "metadata": {},
     "output_type": "execute_result"
    }
   ],
   "source": [
    "type(c)"
   ]
  },
  {
   "cell_type": "code",
   "execution_count": 19,
   "id": "e9b3de65-f0c1-44cb-bb1b-280070684528",
   "metadata": {},
   "outputs": [],
   "source": [
    "Name=\"Virat Tiwari\""
   ]
  },
  {
   "cell_type": "code",
   "execution_count": 20,
   "id": "4cf27cea-1f6d-4875-8a97-98600011d8d0",
   "metadata": {},
   "outputs": [
    {
     "data": {
      "text/plain": [
       "str"
      ]
     },
     "execution_count": 20,
     "metadata": {},
     "output_type": "execute_result"
    }
   ],
   "source": [
    "type(Name)"
   ]
  },
  {
   "cell_type": "code",
   "execution_count": 21,
   "id": "a4c5d63e-396c-48ee-914d-7128dfe48a25",
   "metadata": {},
   "outputs": [],
   "source": [
    "Intro=\"This is my first DS python Class\""
   ]
  },
  {
   "cell_type": "code",
   "execution_count": 22,
   "id": "8413aad5-3644-478f-ade1-05c2f6489742",
   "metadata": {},
   "outputs": [
    {
     "data": {
      "text/plain": [
       "str"
      ]
     },
     "execution_count": 22,
     "metadata": {},
     "output_type": "execute_result"
    }
   ],
   "source": [
    "type(Intro)"
   ]
  },
  {
   "cell_type": "code",
   "execution_count": 23,
   "id": "87f18d9b-08ea-420b-8770-72242fed1ad5",
   "metadata": {},
   "outputs": [],
   "source": [
    "n=True"
   ]
  },
  {
   "cell_type": "code",
   "execution_count": 24,
   "id": "f01da95c-7cb8-4457-aaeb-e8abc0250d56",
   "metadata": {},
   "outputs": [
    {
     "data": {
      "text/plain": [
       "bool"
      ]
     },
     "execution_count": 24,
     "metadata": {},
     "output_type": "execute_result"
    }
   ],
   "source": [
    "type(n)"
   ]
  },
  {
   "cell_type": "code",
   "execution_count": 25,
   "id": "6066d6b1-8d55-4f1f-88c0-cdb0f1256320",
   "metadata": {},
   "outputs": [],
   "source": [
    "m=False"
   ]
  },
  {
   "cell_type": "code",
   "execution_count": 26,
   "id": "e4d9747d-bf8c-4b9e-b4c5-6e6084e1016e",
   "metadata": {},
   "outputs": [
    {
     "data": {
      "text/plain": [
       "bool"
      ]
     },
     "execution_count": 26,
     "metadata": {},
     "output_type": "execute_result"
    }
   ],
   "source": [
    "type(m)"
   ]
  },
  {
   "cell_type": "code",
   "execution_count": 27,
   "id": "2062bb0c-6386-4bd5-abfb-550ad45f64a3",
   "metadata": {},
   "outputs": [],
   "source": [
    "#In python True=1 and false=0"
   ]
  },
  {
   "cell_type": "code",
   "execution_count": 28,
   "id": "76402c46-1752-42fe-8f20-6eef34e2ca63",
   "metadata": {},
   "outputs": [
    {
     "data": {
      "text/plain": [
       "1"
      ]
     },
     "execution_count": 28,
     "metadata": {},
     "output_type": "execute_result"
    }
   ],
   "source": [
    "n+m"
   ]
  },
  {
   "cell_type": "code",
   "execution_count": 29,
   "id": "3e89f597-5d07-439b-a5db-5aa5eee681dd",
   "metadata": {},
   "outputs": [
    {
     "data": {
      "text/plain": [
       "1"
      ]
     },
     "execution_count": 29,
     "metadata": {},
     "output_type": "execute_result"
    }
   ],
   "source": [
    "True*True"
   ]
  },
  {
   "cell_type": "code",
   "execution_count": 30,
   "id": "bd2fc23a-07d2-4bf2-94de-55aa1e83cf11",
   "metadata": {},
   "outputs": [
    {
     "data": {
      "text/plain": [
       "0"
      ]
     },
     "execution_count": 30,
     "metadata": {},
     "output_type": "execute_result"
    }
   ],
   "source": [
    "True*False"
   ]
  },
  {
   "cell_type": "code",
   "execution_count": 31,
   "id": "eeed2bb2-3a46-4db3-8d1a-87fa4905f81c",
   "metadata": {},
   "outputs": [
    {
     "ename": "ZeroDivisionError",
     "evalue": "division by zero",
     "output_type": "error",
     "traceback": [
      "\u001b[0;31m---------------------------------------------------------------------------\u001b[0m",
      "\u001b[0;31mZeroDivisionError\u001b[0m                         Traceback (most recent call last)",
      "Cell \u001b[0;32mIn [31], line 1\u001b[0m\n\u001b[0;32m----> 1\u001b[0m \u001b[38;5;28;43;01mTrue\u001b[39;49;00m\u001b[38;5;241;43m/\u001b[39;49m\u001b[38;5;28;43;01mFalse\u001b[39;49;00m\n",
      "\u001b[0;31mZeroDivisionError\u001b[0m: division by zero"
     ]
    }
   ],
   "source": [
    "# in core python it always shows error\n",
    "True/False"
   ]
  },
  {
   "cell_type": "code",
   "execution_count": 32,
   "id": "26243a0e-4291-410c-868d-7229cfe37c73",
   "metadata": {},
   "outputs": [
    {
     "ename": "ZeroDivisionError",
     "evalue": "division by zero",
     "output_type": "error",
     "traceback": [
      "\u001b[0;31m---------------------------------------------------------------------------\u001b[0m",
      "\u001b[0;31mZeroDivisionError\u001b[0m                         Traceback (most recent call last)",
      "Cell \u001b[0;32mIn [32], line 1\u001b[0m\n\u001b[0;32m----> 1\u001b[0m \u001b[38;5;241;43m1\u001b[39;49m\u001b[38;5;241;43m/\u001b[39;49m\u001b[38;5;241;43m0\u001b[39;49m\n",
      "\u001b[0;31mZeroDivisionError\u001b[0m: division by zero"
     ]
    }
   ],
   "source": [
    "# in core python it always shows error\n",
    "1/0"
   ]
  },
  {
   "cell_type": "code",
   "execution_count": 33,
   "id": "a84c2535-cc8f-4ae4-8eae-e8851e38f63d",
   "metadata": {},
   "outputs": [],
   "source": [
    "#Complex No(a+bi)\n",
    "#python only understand the small j as a imaginary\n",
    "\n",
    "v=5+6j"
   ]
  },
  {
   "cell_type": "code",
   "execution_count": 34,
   "id": "a1d90e3a-51f3-4947-8385-72cf8342daab",
   "metadata": {},
   "outputs": [
    {
     "data": {
      "text/plain": [
       "complex"
      ]
     },
     "execution_count": 34,
     "metadata": {},
     "output_type": "execute_result"
    }
   ],
   "source": [
    "type(v)"
   ]
  },
  {
   "cell_type": "code",
   "execution_count": 35,
   "id": "22a995e3-4e5c-4b45-81a0-a696b47794cf",
   "metadata": {},
   "outputs": [
    {
     "data": {
      "text/plain": [
       "6.0"
      ]
     },
     "execution_count": 35,
     "metadata": {},
     "output_type": "execute_result"
    }
   ],
   "source": [
    "v.imag"
   ]
  },
  {
   "cell_type": "code",
   "execution_count": 36,
   "id": "bf66fafe-bd28-4f36-b5a0-eb7f5df7f4d2",
   "metadata": {},
   "outputs": [
    {
     "data": {
      "text/plain": [
       "5.0"
      ]
     },
     "execution_count": 36,
     "metadata": {},
     "output_type": "execute_result"
    }
   ],
   "source": [
    "v.real"
   ]
  },
  {
   "cell_type": "code",
   "execution_count": 37,
   "id": "d66afb0e-57cf-482b-8d1d-1b9d7378b348",
   "metadata": {},
   "outputs": [
    {
     "data": {
      "text/plain": [
       "(5+6j)"
      ]
     },
     "execution_count": 37,
     "metadata": {},
     "output_type": "execute_result"
    }
   ],
   "source": [
    "v"
   ]
  },
  {
   "cell_type": "code",
   "execution_count": 38,
   "id": "fc10a0ab-7605-4ac8-969f-e478ece5f928",
   "metadata": {},
   "outputs": [],
   "source": [
    "#print() funtion is used for print something in a console"
   ]
  },
  {
   "cell_type": "code",
   "execution_count": 39,
   "id": "85c684e0-aa23-41f9-bd37-f920ddb747e4",
   "metadata": {},
   "outputs": [
    {
     "name": "stdout",
     "output_type": "stream",
     "text": [
      "Heya This is Virat Tiwari\n"
     ]
    }
   ],
   "source": [
    "print(\"Heya This is Virat Tiwari\")"
   ]
  },
  {
   "cell_type": "code",
   "execution_count": 40,
   "id": "de31d94f-1fbe-48c4-aa08-d6e65e6a2561",
   "metadata": {},
   "outputs": [
    {
     "name": "stdout",
     "output_type": "stream",
     "text": [
      "10\n"
     ]
    }
   ],
   "source": [
    "print(a)"
   ]
  },
  {
   "cell_type": "code",
   "execution_count": 41,
   "id": "84d168a8-d066-4639-b3f4-50879d85fc90",
   "metadata": {},
   "outputs": [
    {
     "name": "stdout",
     "output_type": "stream",
     "text": [
      "22\n"
     ]
    }
   ],
   "source": [
    "print(virat)"
   ]
  },
  {
   "cell_type": "code",
   "execution_count": 52,
   "id": "92abacc7-a1e5-4047-a7df-3d422726451b",
   "metadata": {},
   "outputs": [],
   "source": [
    "d=\"Datascience\""
   ]
  },
  {
   "cell_type": "code",
   "execution_count": 43,
   "id": "73d7c822-fda2-440f-9c94-4336d92cb0de",
   "metadata": {},
   "outputs": [
    {
     "data": {
      "text/plain": [
       "'Data science'"
      ]
     },
     "execution_count": 43,
     "metadata": {},
     "output_type": "execute_result"
    }
   ],
   "source": [
    "d"
   ]
  },
  {
   "cell_type": "code",
   "execution_count": 44,
   "id": "89467996-23f1-4b37-b005-6f05a44522b7",
   "metadata": {},
   "outputs": [
    {
     "data": {
      "text/plain": [
       "str"
      ]
     },
     "execution_count": 44,
     "metadata": {},
     "output_type": "execute_result"
    }
   ],
   "source": [
    "type(d)"
   ]
  },
  {
   "cell_type": "code",
   "execution_count": 45,
   "id": "8ba293db-68f2-4cdf-a03b-7ccaa666b94d",
   "metadata": {},
   "outputs": [],
   "source": [
    "#Python stores string in a form of INDEXING\n",
    "# It starts from 0"
   ]
  },
  {
   "cell_type": "code",
   "execution_count": 46,
   "id": "88374e65-2c22-48af-aafb-9809eda83ece",
   "metadata": {},
   "outputs": [
    {
     "data": {
      "text/plain": [
       "'D'"
      ]
     },
     "execution_count": 46,
     "metadata": {},
     "output_type": "execute_result"
    }
   ],
   "source": [
    "#For retreiving the from the index we have to used square brackets\n",
    "\n",
    "d[0]"
   ]
  },
  {
   "cell_type": "code",
   "execution_count": 47,
   "id": "937970ae-b263-4104-a7cd-76d97e44e7c8",
   "metadata": {},
   "outputs": [
    {
     "data": {
      "text/plain": [
       "'t'"
      ]
     },
     "execution_count": 47,
     "metadata": {},
     "output_type": "execute_result"
    }
   ],
   "source": [
    "d[2]"
   ]
  },
  {
   "cell_type": "code",
   "execution_count": 53,
   "id": "0fc4101c-f2a8-4228-a025-cda3824bee82",
   "metadata": {},
   "outputs": [
    {
     "data": {
      "text/plain": [
       "'i'"
      ]
     },
     "execution_count": 53,
     "metadata": {},
     "output_type": "execute_result"
    }
   ],
   "source": [
    "d[6]"
   ]
  },
  {
   "cell_type": "code",
   "execution_count": 54,
   "id": "c47660ee-37e8-4446-bf8a-02a9141f79e0",
   "metadata": {},
   "outputs": [
    {
     "data": {
      "text/plain": [
       "'e'"
      ]
     },
     "execution_count": 54,
     "metadata": {},
     "output_type": "execute_result"
    }
   ],
   "source": [
    "d[-1]"
   ]
  },
  {
   "cell_type": "code",
   "execution_count": 56,
   "id": "e155c15a-78fe-4430-8fb7-89a1e61e3192",
   "metadata": {},
   "outputs": [
    {
     "data": {
      "text/plain": [
       "'Data'"
      ]
     },
     "execution_count": 56,
     "metadata": {},
     "output_type": "execute_result"
    }
   ],
   "source": [
    "d[0:4]"
   ]
  },
  {
   "cell_type": "code",
   "execution_count": 59,
   "id": "59451ca6-866e-4c5a-9d2c-c9352c226c3b",
   "metadata": {},
   "outputs": [
    {
     "data": {
      "text/plain": [
       "'science'"
      ]
     },
     "execution_count": 59,
     "metadata": {},
     "output_type": "execute_result"
    }
   ],
   "source": [
    "d[4:]"
   ]
  },
  {
   "cell_type": "code",
   "execution_count": 70,
   "id": "ebe72041-07c2-4d29-89c0-46cdf7a69c09",
   "metadata": {},
   "outputs": [
    {
     "data": {
      "text/plain": [
       "'Dtsine'"
      ]
     },
     "execution_count": 70,
     "metadata": {},
     "output_type": "execute_result"
    }
   ],
   "source": [
    "d[0:11:2]"
   ]
  },
  {
   "cell_type": "code",
   "execution_count": 75,
   "id": "e9645bb2-3ded-40cd-9c44-ae0ade8f2c8b",
   "metadata": {},
   "outputs": [
    {
     "data": {
      "text/plain": [
       "11"
      ]
     },
     "execution_count": 75,
     "metadata": {},
     "output_type": "execute_result"
    }
   ],
   "source": [
    "len(d)"
   ]
  },
  {
   "cell_type": "code",
   "execution_count": 76,
   "id": "a411f051-633b-4a2b-9e7d-20e593cf8597",
   "metadata": {},
   "outputs": [
    {
     "data": {
      "text/plain": [
       "'Dtsine'"
      ]
     },
     "execution_count": 76,
     "metadata": {},
     "output_type": "execute_result"
    }
   ],
   "source": [
    "d[::2]"
   ]
  },
  {
   "cell_type": "code",
   "execution_count": 80,
   "id": "22eb88f6-feb0-47e9-bba0-df82c286d308",
   "metadata": {},
   "outputs": [
    {
     "data": {
      "text/plain": [
       "'ecneicsataD'"
      ]
     },
     "execution_count": 80,
     "metadata": {},
     "output_type": "execute_result"
    }
   ],
   "source": [
    "d[::-1]"
   ]
  },
  {
   "cell_type": "code",
   "execution_count": 81,
   "id": "955c3447-4c9e-4087-9bf5-75449a05e9fa",
   "metadata": {},
   "outputs": [
    {
     "data": {
      "text/plain": [
       "''"
      ]
     },
     "execution_count": 81,
     "metadata": {},
     "output_type": "execute_result"
    }
   ],
   "source": [
    "d[2:11:-1]"
   ]
  },
  {
   "cell_type": "code",
   "execution_count": 82,
   "id": "cc671594-27d0-4dce-952b-5cab0bc75e8f",
   "metadata": {},
   "outputs": [
    {
     "data": {
      "text/plain": [
       "''"
      ]
     },
     "execution_count": 82,
     "metadata": {},
     "output_type": "execute_result"
    }
   ],
   "source": [
    "d[11:0]"
   ]
  },
  {
   "cell_type": "code",
   "execution_count": 83,
   "id": "10604bb0-d3b1-4f51-b907-c3d49889fb27",
   "metadata": {},
   "outputs": [
    {
     "data": {
      "text/plain": [
       "'ecneicsata'"
      ]
     },
     "execution_count": 83,
     "metadata": {},
     "output_type": "execute_result"
    }
   ],
   "source": [
    "d[11:0:-1]"
   ]
  },
  {
   "cell_type": "code",
   "execution_count": 85,
   "id": "0d16a944-9592-4727-9f35-bf642abf7ad2",
   "metadata": {},
   "outputs": [
    {
     "data": {
      "text/plain": [
       "'cneics'"
      ]
     },
     "execution_count": 85,
     "metadata": {},
     "output_type": "execute_result"
    }
   ],
   "source": [
    "d[-2:-8:-1]"
   ]
  },
  {
   "cell_type": "code",
   "execution_count": 86,
   "id": "c76ae28a-48f4-44b8-8902-c4cde40adc58",
   "metadata": {},
   "outputs": [
    {
     "data": {
      "text/plain": [
       "'cneicsataD'"
      ]
     },
     "execution_count": 86,
     "metadata": {},
     "output_type": "execute_result"
    }
   ],
   "source": [
    "d[-2::-1]"
   ]
  },
  {
   "cell_type": "code",
   "execution_count": 88,
   "id": "7a7c8543-02ad-4963-84cb-993bc443c70c",
   "metadata": {},
   "outputs": [
    {
     "data": {
      "text/plain": [
       "'ce'"
      ]
     },
     "execution_count": 89,
     "metadata": {},
     "output_type": "execute_result"
    }
   ],
   "source": [
    "d[-2::]"
   ]
  },
  {
   "cell_type": "code",
   "execution_count": 90,
   "id": "6baf2806-0d63-4197-b872-37ed491e7aef",
   "metadata": {},
   "outputs": [
    {
     "data": {
      "text/plain": [
       "'ecneicsataD'"
      ]
     },
     "execution_count": 90,
     "metadata": {},
     "output_type": "execute_result"
    }
   ],
   "source": [
    "d[::-1]"
   ]
  },
  {
   "cell_type": "code",
   "execution_count": 93,
   "id": "32f7a7f1-b2c3-4704-882a-45891a02f466",
   "metadata": {},
   "outputs": [
    {
     "data": {
      "text/plain": [
       "'D'"
      ]
     },
     "execution_count": 93,
     "metadata": {},
     "output_type": "execute_result"
    }
   ],
   "source": [
    "d[::100]"
   ]
  },
  {
   "cell_type": "code",
   "execution_count": 94,
   "id": "fb85e045-b569-422b-897e-e08277b77494",
   "metadata": {},
   "outputs": [
    {
     "data": {
      "text/plain": [
       "''"
      ]
     },
     "execution_count": 94,
     "metadata": {},
     "output_type": "execute_result"
    }
   ],
   "source": [
    "d[:-100:]"
   ]
  },
  {
   "cell_type": "code",
   "execution_count": 95,
   "id": "044a5f43-8518-4e22-b10b-6bc714606326",
   "metadata": {},
   "outputs": [
    {
     "data": {
      "text/plain": [
       "'ecneicsataD'"
      ]
     },
     "execution_count": 95,
     "metadata": {},
     "output_type": "execute_result"
    }
   ],
   "source": [
    "d[:-100:-1]"
   ]
  },
  {
   "cell_type": "code",
   "execution_count": 2,
   "id": "9e99b36a-d448-43cd-8391-515ae9e76b27",
   "metadata": {},
   "outputs": [],
   "source": [
    "#String Manipulation\n",
    "\n",
    "s=\"This is string manipulation\""
   ]
  },
  {
   "cell_type": "code",
   "execution_count": 3,
   "id": "a6cd9126-dc9c-4718-a10a-d861ae79b68c",
   "metadata": {},
   "outputs": [
    {
     "data": {
      "text/plain": [
       "27"
      ]
     },
     "execution_count": 3,
     "metadata": {},
     "output_type": "execute_result"
    }
   ],
   "source": [
    "len(s)"
   ]
  },
  {
   "cell_type": "code",
   "execution_count": 5,
   "id": "f481c9f5-2bc3-4239-95b7-61763c133b1d",
   "metadata": {},
   "outputs": [
    {
     "data": {
      "text/plain": [
       "3"
      ]
     },
     "execution_count": 5,
     "metadata": {},
     "output_type": "execute_result"
    }
   ],
   "source": [
    "s.find(\"s\")"
   ]
  },
  {
   "cell_type": "code",
   "execution_count": 8,
   "id": "3073aad3-fd72-4232-8696-07f0871bd034",
   "metadata": {},
   "outputs": [
    {
     "data": {
      "text/plain": [
       "15"
      ]
     },
     "execution_count": 8,
     "metadata": {},
     "output_type": "execute_result"
    }
   ],
   "source": [
    "s.find(\"m\")"
   ]
  },
  {
   "cell_type": "code",
   "execution_count": 10,
   "id": "746dd761-af73-49ed-b08f-ee116b80a2a9",
   "metadata": {},
   "outputs": [
    {
     "data": {
      "text/plain": [
       "3"
      ]
     },
     "execution_count": 10,
     "metadata": {},
     "output_type": "execute_result"
    }
   ],
   "source": [
    "s.count(\"s\")"
   ]
  },
  {
   "cell_type": "code",
   "execution_count": 11,
   "id": "7acb1180-caf6-4b4b-9fc5-933740a06c3b",
   "metadata": {},
   "outputs": [
    {
     "data": {
      "text/plain": [
       "1"
      ]
     },
     "execution_count": 11,
     "metadata": {},
     "output_type": "execute_result"
    }
   ],
   "source": [
    "s.count(\"g\")"
   ]
  },
  {
   "cell_type": "code",
   "execution_count": 12,
   "id": "9ee5d1ba-7caf-467a-a6bc-c1526c37966e",
   "metadata": {},
   "outputs": [
    {
     "data": {
      "text/plain": [
       "0"
      ]
     },
     "execution_count": 12,
     "metadata": {},
     "output_type": "execute_result"
    }
   ],
   "source": [
    "s.count(\"z\")"
   ]
  },
  {
   "cell_type": "code",
   "execution_count": 13,
   "id": "c83cc600-d10a-4030-8481-6b536b1544ce",
   "metadata": {},
   "outputs": [
    {
     "data": {
      "text/plain": [
       "'This is string manipulation'"
      ]
     },
     "execution_count": 13,
     "metadata": {},
     "output_type": "execute_result"
    }
   ],
   "source": [
    "s"
   ]
  },
  {
   "cell_type": "code",
   "execution_count": 14,
   "id": "42acea45-156e-4a8e-a52d-b7db194c2058",
   "metadata": {},
   "outputs": [
    {
     "data": {
      "text/plain": [
       "'THIS IS STRING MANIPULATION'"
      ]
     },
     "execution_count": 14,
     "metadata": {},
     "output_type": "execute_result"
    }
   ],
   "source": [
    "s.upper()"
   ]
  },
  {
   "cell_type": "code",
   "execution_count": 16,
   "id": "1022fa95-05bc-4d48-a3cf-684d9b5dc5c1",
   "metadata": {},
   "outputs": [
    {
     "data": {
      "text/plain": [
       "'this is string manipulation'"
      ]
     },
     "execution_count": 16,
     "metadata": {},
     "output_type": "execute_result"
    }
   ],
   "source": [
    "s.lower()"
   ]
  },
  {
   "cell_type": "code",
   "execution_count": 17,
   "id": "4dd3a254-066c-4cff-acd3-2e09733acd4d",
   "metadata": {},
   "outputs": [
    {
     "data": {
      "text/plain": [
       "'This Is String Manipulation'"
      ]
     },
     "execution_count": 17,
     "metadata": {},
     "output_type": "execute_result"
    }
   ],
   "source": [
    "s.title()"
   ]
  },
  {
   "cell_type": "code",
   "execution_count": 18,
   "id": "da67634b-aa43-4e76-9e8e-de030a1303cf",
   "metadata": {},
   "outputs": [
    {
     "data": {
      "text/plain": [
       "'This is string manipulation'"
      ]
     },
     "execution_count": 18,
     "metadata": {},
     "output_type": "execute_result"
    }
   ],
   "source": [
    "s.capitalize()"
   ]
  },
  {
   "cell_type": "code",
   "execution_count": 19,
   "id": "9304bf85-8e1e-474b-9366-cde6f6d41010",
   "metadata": {},
   "outputs": [],
   "source": [
    "#Concatination is always done in between same type of data types\n",
    "#str+str\n",
    "#int+int\n",
    "#float+float"
   ]
  },
  {
   "cell_type": "code",
   "execution_count": 20,
   "id": "138b5f3c-9f55-458d-9fea-c448da1885da",
   "metadata": {},
   "outputs": [],
   "source": [
    "g=\"Heya rahul \""
   ]
  },
  {
   "cell_type": "code",
   "execution_count": 21,
   "id": "353403d1-ae12-4002-9252-ebffba87e450",
   "metadata": {},
   "outputs": [],
   "source": [
    "h=\",how are you?\""
   ]
  },
  {
   "cell_type": "code",
   "execution_count": 22,
   "id": "b21dd13c-bfeb-419b-a72b-ee76922f5c95",
   "metadata": {},
   "outputs": [
    {
     "data": {
      "text/plain": [
       "'Heya rahul ,how are you?'"
      ]
     },
     "execution_count": 22,
     "metadata": {},
     "output_type": "execute_result"
    }
   ],
   "source": [
    "g+h"
   ]
  },
  {
   "cell_type": "code",
   "execution_count": null,
   "id": "78b1288b-311a-43a4-b5f5-8374d64b540d",
   "metadata": {},
   "outputs": [],
   "source": [
    "#FOR MULTIPLE COMMENTS WE HAVE TO USED \n",
    "#CTRL+SLASH\n",
    "\n",
    "# this is virat tiwari\n",
    "# here we discuss about python that is used in \n",
    "# data science and we learn also machine laearning as well in future stages "
   ]
  }
 ],
 "metadata": {
  "kernelspec": {
   "display_name": "Python 3 (ipykernel)",
   "language": "python",
   "name": "python3"
  },
  "language_info": {
   "codemirror_mode": {
    "name": "ipython",
    "version": 3
   },
   "file_extension": ".py",
   "mimetype": "text/x-python",
   "name": "python",
   "nbconvert_exporter": "python",
   "pygments_lexer": "ipython3",
   "version": "3.10.6"
  },
  "toc-autonumbering": false
 },
 "nbformat": 4,
 "nbformat_minor": 5
}
