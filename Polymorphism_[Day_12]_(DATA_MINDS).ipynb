{
 "cells": [
  {
   "cell_type": "markdown",
   "id": "f18f175b-4d45-49f4-900a-0f73d9ef960c",
   "metadata": {},
   "source": [
    "POLYMORPHISM - MULTIPLE BEHAVIOUR OR DIFFRENT KIND OF A BEHAVIOUR FOR DIFFERENT SITUATIONS\n",
    "\n",
    "\n",
    "IT WILL SHOW MULTIPLE BEHAVIOUR FOR DIFFRENT KIND OF OPERATION WITH SINGLE BASE FUNCTION WITHOUT CHANGE THEMSELF"
   ]
  },
  {
   "cell_type": "code",
   "execution_count": 1,
   "id": "79f6a51b-e0d0-46de-9dde-de33c6839cd8",
   "metadata": {},
   "outputs": [],
   "source": [
    "def test(a,b):\n",
    "    return a+b"
   ]
  },
  {
   "cell_type": "code",
   "execution_count": 2,
   "id": "ed29c939-90e2-46f2-b753-aa3d1d5964c1",
   "metadata": {},
   "outputs": [
    {
     "data": {
      "text/plain": [
       "9"
      ]
     },
     "execution_count": 2,
     "metadata": {},
     "output_type": "execute_result"
    }
   ],
   "source": [
    "test(5,4)"
   ]
  },
  {
   "cell_type": "code",
   "execution_count": 4,
   "id": "40ca6ad3-72da-48f3-b594-3702ee7ee30b",
   "metadata": {},
   "outputs": [
    {
     "data": {
      "text/plain": [
       "'Virat Tiwari'"
      ]
     },
     "execution_count": 4,
     "metadata": {},
     "output_type": "execute_result"
    }
   ],
   "source": [
    "test(\"Virat\",\" Tiwari\")"
   ]
  },
  {
   "cell_type": "code",
   "execution_count": 5,
   "id": "88f7d5ce-d705-494e-b2a4-51f575831df5",
   "metadata": {},
   "outputs": [],
   "source": [
    "a=[2,5,6,4,89,4]\n",
    "b=[5,6,3,4,627,3]"
   ]
  },
  {
   "cell_type": "code",
   "execution_count": 6,
   "id": "31121b10-6750-4711-94a9-6b850ddeefa6",
   "metadata": {},
   "outputs": [
    {
     "data": {
      "text/plain": [
       "[2, 5, 6, 4, 89, 4, 5, 6, 3, 4, 627, 3]"
      ]
     },
     "execution_count": 6,
     "metadata": {},
     "output_type": "execute_result"
    }
   ],
   "source": [
    "test(a,b)"
   ]
  },
  {
   "cell_type": "code",
   "execution_count": 85,
   "id": "7a06a4be-85bb-4e4e-bd7f-24d0a93f8fc6",
   "metadata": {},
   "outputs": [],
   "source": [
    "class data_science:\n",
    "    def syllabus(self):\n",
    "        print(\"This is my syllabus for the data science\")"
   ]
  },
  {
   "cell_type": "code",
   "execution_count": 86,
   "id": "7b96c5f8-7618-4c54-835a-8ebce862e8ae",
   "metadata": {},
   "outputs": [],
   "source": [
    "class web_dev:\n",
    "    def syllabus(self):\n",
    "        print(\"This is my syllabus for the web dev\")"
   ]
  },
  {
   "cell_type": "code",
   "execution_count": 87,
   "id": "f237d22e-e2e2-4962-9283-1151939f235a",
   "metadata": {},
   "outputs": [],
   "source": [
    "def class_parcer(class_obj):\n",
    "    for i in class_obj:\n",
    "        i.syllabus()"
   ]
  },
  {
   "cell_type": "code",
   "execution_count": 88,
   "id": "0aaeacc2-7f4c-4b3a-9daa-514898ac2888",
   "metadata": {},
   "outputs": [],
   "source": [
    "data_science=data_science()"
   ]
  },
  {
   "cell_type": "code",
   "execution_count": 89,
   "id": "45a8114f-d362-4e02-b7bf-1bb81f8478e1",
   "metadata": {},
   "outputs": [],
   "source": [
    "web_dev=web_dev()"
   ]
  },
  {
   "cell_type": "code",
   "execution_count": 90,
   "id": "701e4788-3419-4dbb-ba48-525b3124d308",
   "metadata": {},
   "outputs": [],
   "source": [
    "class_obj=[data_science , web_dev]"
   ]
  },
  {
   "cell_type": "code",
   "execution_count": 91,
   "id": "2061d16c-442d-43f7-b6e6-57dd08eb7fa5",
   "metadata": {},
   "outputs": [
    {
     "name": "stdout",
     "output_type": "stream",
     "text": [
      "This is my syllabus for the data science\n",
      "This is my syllabus for the web dev\n"
     ]
    }
   ],
   "source": [
    "class_parcer(class_obj)"
   ]
  },
  {
   "cell_type": "markdown",
   "id": "c143160d-8801-4df0-8838-aeb08f532c77",
   "metadata": {},
   "source": [
    "\n",
    "\n",
    "\n",
    "POLYMORPHSIMS - :\n",
    "\n",
    "IN VERY SIMPLE TERMS \" BASE FUNCTION \" WILL BE SAME THERE IS NO CHANGE IN IT BUT IT WILL WORK DIFFERENT TASKS OR CHANGE HIS BEHAVIOUR ACCORDING TO DATA THAT WE PASS , LIKE A BOY WHO IS SOMEONES'S BROTHER , SOMEONE'S FRIEND , SOMEONE'S CHILD BUT IN THE END HE IS BOY BUT HIS ROLES AND DUTIES IS DIFFER FOR DIFFERENT RELATIONSHIPS "
   ]
  }
 ],
 "metadata": {
  "kernelspec": {
   "display_name": "Python 3 (ipykernel)",
   "language": "python",
   "name": "python3"
  },
  "language_info": {
   "codemirror_mode": {
    "name": "ipython",
    "version": 3
   },
   "file_extension": ".py",
   "mimetype": "text/x-python",
   "name": "python",
   "nbconvert_exporter": "python",
   "pygments_lexer": "ipython3",
   "version": "3.10.8"
  }
 },
 "nbformat": 4,
 "nbformat_minor": 5
}
