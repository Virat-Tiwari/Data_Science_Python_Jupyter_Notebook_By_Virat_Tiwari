{
 "cells": [
  {
   "cell_type": "markdown",
   "id": "542cf426-1ede-42dc-b8e4-47ecff6afb78",
   "metadata": {},
   "source": [
    "CUSTOM EXCEPTION HANDLING"
   ]
  },
  {
   "cell_type": "code",
   "execution_count": 17,
   "id": "c8906b31-6e83-4d63-bdd9-9ed7fd4ccfb8",
   "metadata": {},
   "outputs": [
    {
     "name": "stdin",
     "output_type": "stream",
     "text": [
      "Enter your age :  -25\n"
     ]
    }
   ],
   "source": [
    "age = int(input(\"Enter your age : \"))"
   ]
  },
  {
   "cell_type": "code",
   "execution_count": 24,
   "id": "d8c77087-eca1-4cc4-b6f8-d896bf99ecb5",
   "metadata": {},
   "outputs": [],
   "source": [
    "class validateage(Exception):\n",
    "    def __init__(self,msg):\n",
    "        self.msg=msg"
   ]
  },
  {
   "cell_type": "code",
   "execution_count": 25,
   "id": "98c8a8c7-b0a0-486c-96ee-118a5d71ac96",
   "metadata": {},
   "outputs": [],
   "source": [
    "def validateage(age):\n",
    "    if age<0:\n",
    "        raise validateage(\"Entered age is negative\")\n",
    "    elif age >200:\n",
    "        raise validateage(\"Entered age is very very high\")\n",
    "    else:\n",
    "        print(\"Age is valid\")"
   ]
  },
  {
   "cell_type": "code",
   "execution_count": null,
   "id": "ad160b72-52c3-438e-8d82-c69725d407ec",
   "metadata": {},
   "outputs": [],
   "source": [
    "try:\n",
    "    age = int(input(\"Enter your age : \"))\n",
    "    validateage(age)\n",
    "except validateage as e:\n",
    "    print(e)"
   ]
  },
  {
   "cell_type": "code",
   "execution_count": null,
   "id": "02b59d71-0d61-4c59-9145-8a98e1e5cb58",
   "metadata": {},
   "outputs": [],
   "source": []
  }
 ],
 "metadata": {
  "kernelspec": {
   "display_name": "Python 3 (ipykernel)",
   "language": "python",
   "name": "python3"
  },
  "language_info": {
   "codemirror_mode": {
    "name": "ipython",
    "version": 3
   },
   "file_extension": ".py",
   "mimetype": "text/x-python",
   "name": "python",
   "nbconvert_exporter": "python",
   "pygments_lexer": "ipython3",
   "version": "3.10.8"
  }
 },
 "nbformat": 4,
 "nbformat_minor": 5
}
