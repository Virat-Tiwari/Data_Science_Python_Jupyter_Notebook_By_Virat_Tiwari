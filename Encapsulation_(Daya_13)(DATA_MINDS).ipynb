{
 "cells": [
  {
   "cell_type": "markdown",
   "id": "4d9779d2-cbf7-41d9-ad00-2daee752ce57",
   "metadata": {},
   "source": [
    "ENCAPSULATION - IN ENCAPSULATION WE SIMPLY WRAP THE VARIABLE OR ENCAPSULATE THE VARIABLE THAT DIRECTLY DOES'NT SEEN BY THE USER , THEY CAN SEEN ONLY THAT PART OF CODE THAT WE WANT TO PRESENT IN FORNT OF HIM/HER.\n",
    "\n",
    "USER CAN NOT SEEN THE INTERNAL ACTUAL COMPOSITION OF CLASS , USER CAN ONLY MODIFY THE DATA INSIDE CLASS THAT WE WANT TO GIVE HIM OR SHOW HIM"
   ]
  },
  {
   "cell_type": "code",
   "execution_count": 1,
   "id": "fadcea4a-725d-4de9-9f63-9d4ee0713870",
   "metadata": {},
   "outputs": [],
   "source": [
    "class test:\n",
    "    def __init__(self,a,b):\n",
    "        self.a=a\n",
    "        self.b=b"
   ]
  },
  {
   "cell_type": "code",
   "execution_count": 2,
   "id": "d8edcf4c-5e5e-45a2-b478-6f56e6001123",
   "metadata": {},
   "outputs": [],
   "source": [
    "t=test(10,25)"
   ]
  },
  {
   "cell_type": "code",
   "execution_count": 3,
   "id": "06a3ef64-1cce-4ff5-bce8-79c91c2049a2",
   "metadata": {},
   "outputs": [],
   "source": [
    "t.a=1235"
   ]
  },
  {
   "cell_type": "code",
   "execution_count": 4,
   "id": "c617b0c3-10c9-410e-88f4-19822fc0f345",
   "metadata": {},
   "outputs": [
    {
     "data": {
      "text/plain": [
       "1235"
      ]
     },
     "execution_count": 4,
     "metadata": {},
     "output_type": "execute_result"
    }
   ],
   "source": [
    "t.a"
   ]
  },
  {
   "cell_type": "code",
   "execution_count": 14,
   "id": "661a3c1d-f2be-4e28-82a3-b8410a5b68e3",
   "metadata": {},
   "outputs": [],
   "source": [
    "#WITH THE HELP OF DOUBLE UNDERSCORE( __ ) WE MAKE THE VARIABLE PRIVATE THAT CAN NOT BE ACCESS DIRECTLTY\n",
    "#WE SIMPLY USE DOUBLE UNDERSCORE( __ ) WITH SELF AND WHENEVER WE ACCESS THE VARIABLE OR ELEMENT AT THAT TIME WE ALSO USE THE DOUBLE UNDRERSCORE( __ )\n",
    "\n",
    "class car:\n",
    "    def __init__(self,year,make,model,speed):\n",
    "        self.__year=year\n",
    "        self.__make=make\n",
    "        self.__model=model\n",
    "        self.__speed=0\n",
    "    def set_speed(self,speed):\n",
    "        self._speed=0 if speed<0 else speed\n",
    "    def get_speed(self):\n",
    "        return self.__speed"
   ]
  },
  {
   "cell_type": "code",
   "execution_count": 15,
   "id": "4040e2ee-d0cc-4edd-a6f9-d5348a79b6ca",
   "metadata": {},
   "outputs": [],
   "source": [
    "c=car(2023,\"BMW\",\"BMW X6 Sport\",250)"
   ]
  },
  {
   "cell_type": "code",
   "execution_count": 16,
   "id": "6294d4c5-03f3-431e-adee-d77014bb8a4f",
   "metadata": {},
   "outputs": [
    {
     "data": {
      "text/plain": [
       "2023"
      ]
     },
     "execution_count": 16,
     "metadata": {},
     "output_type": "execute_result"
    }
   ],
   "source": [
    "c._car__year"
   ]
  },
  {
   "cell_type": "code",
   "execution_count": 17,
   "id": "d73ef6a7-cc31-4c0e-bf0f-464a78290d31",
   "metadata": {},
   "outputs": [
    {
     "data": {
      "text/plain": [
       "'BMW X6 Sport'"
      ]
     },
     "execution_count": 17,
     "metadata": {},
     "output_type": "execute_result"
    }
   ],
   "source": [
    "c._car__model"
   ]
  },
  {
   "cell_type": "code",
   "execution_count": 18,
   "id": "9387b538-1f64-45f1-95f1-770ef33244d8",
   "metadata": {},
   "outputs": [
    {
     "data": {
      "text/plain": [
       "0"
      ]
     },
     "execution_count": 18,
     "metadata": {},
     "output_type": "execute_result"
    }
   ],
   "source": [
    "c._car__speed"
   ]
  },
  {
   "cell_type": "code",
   "execution_count": 19,
   "id": "66bee85a-207f-44fb-b603-2f442308b6f8",
   "metadata": {},
   "outputs": [
    {
     "data": {
      "text/plain": [
       "'BMW'"
      ]
     },
     "execution_count": 19,
     "metadata": {},
     "output_type": "execute_result"
    }
   ],
   "source": [
    "c._car__make"
   ]
  },
  {
   "cell_type": "code",
   "execution_count": 23,
   "id": "e0d93e62-1f5e-4e2e-b6f4-25a852f02009",
   "metadata": {},
   "outputs": [],
   "source": [
    "c.set_speed(-100)"
   ]
  },
  {
   "cell_type": "code",
   "execution_count": 26,
   "id": "47c130bd-e6f1-42e7-b1bd-75fbc77f9d94",
   "metadata": {},
   "outputs": [
    {
     "data": {
      "text/plain": [
       "0"
      ]
     },
     "execution_count": 26,
     "metadata": {},
     "output_type": "execute_result"
    }
   ],
   "source": [
    "c.get_speed()"
   ]
  },
  {
   "cell_type": "markdown",
   "id": "74f3fc11-4f57-4f6d-a625-018b74b77998",
   "metadata": {},
   "source": [
    "DEMOSTRATION OF BANK ACCOUNT WORKING -:\n",
    "    \n",
    "IN THIS SIMPLE CODE WE DEPOSIT , WITHDRAW AND CHECK THE BANK BALANCE AND WE ALSO DONE SAME FUCTIONS THAT WE DONE IN BANKS.  "
   ]
  },
  {
   "cell_type": "code",
   "execution_count": 40,
   "id": "f8f4c6dc-d600-4416-8268-6d96194101bf",
   "metadata": {},
   "outputs": [],
   "source": [
    "class bank_account:\n",
    "    def __init__(self,balance):\n",
    "        self.__balance=balance\n",
    "    def deposit(self,amount):\n",
    "        self.__balance=self.__balance+amount\n",
    "    def withdraw(self,amount):\n",
    "        if self.__balance>=amount:\n",
    "            self.__balance=self.__balance-amount\n",
    "            return True\n",
    "        else:\n",
    "            return False\n",
    "    def get_balance(self):\n",
    "        return self.__balance"
   ]
  },
  {
   "cell_type": "code",
   "execution_count": 41,
   "id": "b40f3efd-df46-46a9-ad3b-b69e1f0716bc",
   "metadata": {},
   "outputs": [],
   "source": [
    "Virat=bank_account(1000)"
   ]
  },
  {
   "cell_type": "code",
   "execution_count": 42,
   "id": "819835f7-3c41-4282-877e-3ae147f1f95d",
   "metadata": {},
   "outputs": [
    {
     "data": {
      "text/plain": [
       "1000"
      ]
     },
     "execution_count": 42,
     "metadata": {},
     "output_type": "execute_result"
    }
   ],
   "source": [
    "Virat.get_balance()"
   ]
  },
  {
   "cell_type": "code",
   "execution_count": 44,
   "id": "1d4aa3cc-3b03-49b2-83aa-0b99abe8528f",
   "metadata": {},
   "outputs": [
    {
     "data": {
      "text/plain": [
       "True"
      ]
     },
     "execution_count": 44,
     "metadata": {},
     "output_type": "execute_result"
    }
   ],
   "source": [
    "Virat.withdraw(500)"
   ]
  },
  {
   "cell_type": "code",
   "execution_count": 45,
   "id": "e8d3a080-7ca0-4e41-ada0-1ebdad84bfee",
   "metadata": {},
   "outputs": [
    {
     "data": {
      "text/plain": [
       "500"
      ]
     },
     "execution_count": 45,
     "metadata": {},
     "output_type": "execute_result"
    }
   ],
   "source": [
    "Virat.get_balance()"
   ]
  },
  {
   "cell_type": "code",
   "execution_count": 46,
   "id": "ae0c1fb2-2f5b-4f54-9522-000c5423e6d0",
   "metadata": {},
   "outputs": [],
   "source": [
    "Virat.deposit(2500)"
   ]
  },
  {
   "cell_type": "code",
   "execution_count": 48,
   "id": "e80d1d17-3eff-4f12-9c67-da9012235212",
   "metadata": {},
   "outputs": [
    {
     "data": {
      "text/plain": [
       "3000"
      ]
     },
     "execution_count": 48,
     "metadata": {},
     "output_type": "execute_result"
    }
   ],
   "source": [
    "Virat.get_balance()"
   ]
  },
  {
   "cell_type": "code",
   "execution_count": 49,
   "id": "a5dfa3e4-5ebc-473e-954b-596efd33aa67",
   "metadata": {},
   "outputs": [
    {
     "data": {
      "text/plain": [
       "False"
      ]
     },
     "execution_count": 49,
     "metadata": {},
     "output_type": "execute_result"
    }
   ],
   "source": [
    "Virat.withdraw(6000)"
   ]
  },
  {
   "cell_type": "code",
   "execution_count": 50,
   "id": "7a45eeda-5b3f-4a20-9155-ecb4950f7d04",
   "metadata": {},
   "outputs": [],
   "source": [
    "Virat.deposit(15000)"
   ]
  },
  {
   "cell_type": "code",
   "execution_count": 51,
   "id": "0601a56c-9219-4ac0-9725-603a0a9ba130",
   "metadata": {},
   "outputs": [
    {
     "data": {
      "text/plain": [
       "18000"
      ]
     },
     "execution_count": 51,
     "metadata": {},
     "output_type": "execute_result"
    }
   ],
   "source": [
    "Virat.get_balance()"
   ]
  },
  {
   "cell_type": "code",
   "execution_count": 52,
   "id": "8ce32d5e-1500-44d2-9295-059ddb7bcae1",
   "metadata": {},
   "outputs": [
    {
     "data": {
      "text/plain": [
       "True"
      ]
     },
     "execution_count": 52,
     "metadata": {},
     "output_type": "execute_result"
    }
   ],
   "source": [
    "Virat.withdraw(5000)"
   ]
  },
  {
   "cell_type": "code",
   "execution_count": 53,
   "id": "ed8fee26-4f4c-4819-b64b-d3c95e5c6683",
   "metadata": {},
   "outputs": [
    {
     "data": {
      "text/plain": [
       "13000"
      ]
     },
     "execution_count": 53,
     "metadata": {},
     "output_type": "execute_result"
    }
   ],
   "source": [
    "Virat.get_balance()"
   ]
  }
 ],
 "metadata": {
  "kernelspec": {
   "display_name": "Python 3 (ipykernel)",
   "language": "python",
   "name": "python3"
  },
  "language_info": {
   "codemirror_mode": {
    "name": "ipython",
    "version": 3
   },
   "file_extension": ".py",
   "mimetype": "text/x-python",
   "name": "python",
   "nbconvert_exporter": "python",
   "pygments_lexer": "ipython3",
   "version": "3.10.8"
  }
 },
 "nbformat": 4,
 "nbformat_minor": 5
}
