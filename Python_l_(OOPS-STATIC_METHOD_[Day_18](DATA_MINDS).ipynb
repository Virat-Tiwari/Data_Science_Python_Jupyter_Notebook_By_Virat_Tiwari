{
 "cells": [
  {
   "cell_type": "markdown",
   "id": "12bfb9ba-cb88-424a-b62c-743f1a8fa7bf",
   "metadata": {},
   "source": [
    "STATIC METHOD -: FOR REPETEADLY CREATING INSTANT OF OBJECT FUNCTION WE USE TO CREATE A \"STATIC FUNCTION\" THAT DIRECTLY BIND WITH THE CLASS\n",
    "\n",
    "IMPORTANT - STATIC METHOD ALSO HELP TO ACHIEVE THE MEMORY OPTIMIZATION IN A CLASS"
   ]
  },
  {
   "cell_type": "code",
   "execution_count": 2,
   "id": "4f0417c9-11f0-4453-aed1-2a83516d64d4",
   "metadata": {},
   "outputs": [],
   "source": [
    "class data_science:\n",
    "    def studenet_details(self,name ,mail_id , mon_no):\n",
    "        print(name ,mail_id , mon_no)"
   ]
  },
  {
   "cell_type": "code",
   "execution_count": 8,
   "id": "f60ab592-1f9a-4d18-bf1d-480b4b59a34e",
   "metadata": {},
   "outputs": [],
   "source": [
    "ds=data_science()"
   ]
  },
  {
   "cell_type": "code",
   "execution_count": 11,
   "id": "01df6db8-3917-460a-bf47-1a9351f76802",
   "metadata": {},
   "outputs": [
    {
     "name": "stdout",
     "output_type": "stream",
     "text": [
      "Virat Tiwari , Virat@gmail.com , 846971036458\n"
     ]
    }
   ],
   "source": [
    "ds.studenet_details(\"Virat Tiwari ,\",\"Virat@gmail.com ,\",846971036458)"
   ]
  },
  {
   "cell_type": "code",
   "execution_count": 20,
   "id": "affd5732-1297-4038-9401-f1eefc9bbfdd",
   "metadata": {},
   "outputs": [],
   "source": [
    "class data_science1:\n",
    "    def studenet_details(self,name ,mail_id , mon_no):\n",
    "        print(name ,mail_id , mon_no)\n",
    "    @staticmethod\n",
    "    def mentor_class(list_mentor):\n",
    "        print(list_mentor)\n",
    "    def mentor(self,mentor_list):\n",
    "        print(mentor_list)"
   ]
  },
  {
   "cell_type": "code",
   "execution_count": 21,
   "id": "57679912-526d-4ac3-8d0d-e6fd57bd8e4f",
   "metadata": {},
   "outputs": [
    {
     "name": "stdout",
     "output_type": "stream",
     "text": [
      "['Virat Tiwari', 'Virat@gmail.com']\n"
     ]
    }
   ],
   "source": [
    "data_science1.mentor_class([\"Virat Tiwari\",\"Virat@gmail.com\"])"
   ]
  },
  {
   "cell_type": "code",
   "execution_count": 22,
   "id": "f9d5b46e-92f8-4aaf-a85b-6ab6ab93b127",
   "metadata": {},
   "outputs": [],
   "source": [
    "stu1=data_science1()"
   ]
  },
  {
   "cell_type": "code",
   "execution_count": 23,
   "id": "22c52de7-4fda-462a-bb88-e04974968f95",
   "metadata": {},
   "outputs": [],
   "source": [
    "stu2=data_science1"
   ]
  },
  {
   "cell_type": "code",
   "execution_count": 24,
   "id": "0baf3eba-d236-48cd-948b-ba83c62cc63a",
   "metadata": {},
   "outputs": [],
   "source": [
    "stu3=data_science1"
   ]
  },
  {
   "cell_type": "code",
   "execution_count": 28,
   "id": "504800fc-4d14-47cf-9363-340d27e27247",
   "metadata": {},
   "outputs": [
    {
     "name": "stdout",
     "output_type": "stream",
     "text": [
      "['Virat Tiwari', 'Yash Verma']\n"
     ]
    }
   ],
   "source": [
    "stu1.mentor([\"Virat Tiwari\",\"Yash Verma\"])"
   ]
  },
  {
   "cell_type": "code",
   "execution_count": 39,
   "id": "e2df3f3e-57bf-4ee5-9e82-a3646019f24d",
   "metadata": {},
   "outputs": [],
   "source": [
    "class data_science2:\n",
    "    def studenet_details(self,name ,mail_id , mon_no):\n",
    "        print(name ,mail_id , mon_no)\n",
    "    @staticmethod\n",
    "    def mentor_class(list_mentor):\n",
    "        print(list_mentor)\n",
    "    @classmethod\n",
    "    def class_name(cls):\n",
    "        cls.mentor_class([\"Virat Tiwari\",\"Yash Verma\"])\n",
    "    def mentor(self,mentor_list):\n",
    "        print(mentor_list)"
   ]
  },
  {
   "cell_type": "code",
   "execution_count": 40,
   "id": "37e13a7f-050e-4a70-b67d-8574046c053d",
   "metadata": {},
   "outputs": [
    {
     "name": "stdout",
     "output_type": "stream",
     "text": [
      "['Virat Tiwari', 'Yash Verma']\n"
     ]
    }
   ],
   "source": [
    "data_science2.class_name()"
   ]
  },
  {
   "cell_type": "code",
   "execution_count": 69,
   "id": "3f0d7dce-5182-4026-bbbd-7d8fadf0a8c4",
   "metadata": {},
   "outputs": [],
   "source": [
    "class data_science2:\n",
    "    def studenet_details(self,name ,mail_id , mon_no):\n",
    "        print(name ,mail_id , mon_no)\n",
    "        \n",
    "    @staticmethod\n",
    "    def mentor_mail_id(mail_id_mentor):\n",
    "        print(mail_id_mentor)\n",
    "        \n",
    "    @staticmethod\n",
    "    def mentor_class(list_mentor):\n",
    "        data_science2.mentor_mail_id([\"Virat@gmail.com\",\"Yash@gmail.com\"])\n",
    "        print(list_mentor)\n",
    "        \n",
    "    @classmethod\n",
    "#(cls) - it refers to the object\n",
    "    def class_name(cls):\n",
    "        cls.mentor_class([\"Virat Tiwari\",\"Yash\"])\n",
    "   \n",
    "    def mentor(self,mentor_list):\n",
    "        print(mentor_list)\n",
    "        self.mentor_class([\"Virat Tiwari\",\"Yash\"])"
   ]
  },
  {
   "cell_type": "code",
   "execution_count": 70,
   "id": "fae727f1-65ad-422d-8ebf-e7282c32c2df",
   "metadata": {},
   "outputs": [
    {
     "name": "stdout",
     "output_type": "stream",
     "text": [
      "['Virat@gmail.com', 'Yash@gmail.com']\n",
      "['Virat Tiwari', 'Yash']\n"
     ]
    }
   ],
   "source": [
    "data_science2.mentor_class([\"Virat Tiwari\",\"Yash\"])"
   ]
  },
  {
   "cell_type": "code",
   "execution_count": 71,
   "id": "01036fab-8129-49fd-844b-aabb1f9870bc",
   "metadata": {},
   "outputs": [
    {
     "name": "stdout",
     "output_type": "stream",
     "text": [
      "['Virat@gmail.com', 'Yash@gmail.com']\n",
      "['Virat Tiwari', 'Yash']\n"
     ]
    }
   ],
   "source": [
    "data_science2.class_name()"
   ]
  },
  {
   "cell_type": "code",
   "execution_count": 76,
   "id": "de6baeb9-5bb9-42ee-9600-08bed29b8497",
   "metadata": {},
   "outputs": [],
   "source": [
    "ds=data_science2()"
   ]
  },
  {
   "cell_type": "code",
   "execution_count": 78,
   "id": "1c0865d5-1302-4851-8757-740cf576721d",
   "metadata": {},
   "outputs": [
    {
     "name": "stdout",
     "output_type": "stream",
     "text": [
      "['Virat Tiwari', 'Yash']\n",
      "['Virat@gmail.com', 'Yash@gmail.com']\n",
      "['Virat Tiwari', 'Yash']\n"
     ]
    }
   ],
   "source": [
    "ds.mentor([\"Virat Tiwari\",\"Yash\"])"
   ]
  },
  {
   "cell_type": "markdown",
   "id": "999940da-7d1a-4ace-bf91-95dab13f7a7a",
   "metadata": {},
   "source": [
    "NOTE - FOR WRITING FUCTION FOR FILE STORAGE AND SOME OTHER THING WE DON'T NEED TO WRITE IT AGAIN AND AGAIN WE SHOULD USE STATIC FUCNTION( ) THAT WILL WRITE ONE TIME AND WE CALL IT AND USE IT AGAIN AGAIN WITHOUT WRITING NEW FUNCTION\n",
    "\n",
    "IMPORTANT - STATIC METHOD ALSO HELP TO ACHIEVE THE MEMORY OPTIMIZATION IN A CLASS"
   ]
  }
 ],
 "metadata": {
  "kernelspec": {
   "display_name": "Python 3 (ipykernel)",
   "language": "python",
   "name": "python3"
  },
  "language_info": {
   "codemirror_mode": {
    "name": "ipython",
    "version": 3
   },
   "file_extension": ".py",
   "mimetype": "text/x-python",
   "name": "python",
   "nbconvert_exporter": "python",
   "pygments_lexer": "ipython3",
   "version": "3.10.8"
  }
 },
 "nbformat": 4,
 "nbformat_minor": 5
}
