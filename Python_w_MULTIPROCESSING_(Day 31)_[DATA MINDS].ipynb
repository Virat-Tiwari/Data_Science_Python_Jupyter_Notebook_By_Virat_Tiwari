{
 "cells": [
  {
   "cell_type": "markdown",
   "id": "25e08aa9-0443-4437-9853-72b1cae3e1b0",
   "metadata": {},
   "source": [
    "MULTIPROCESSING - With the help of multiprocessing we can easily aquire the resources of the system and utilise them in a best possible way"
   ]
  },
  {
   "cell_type": "code",
   "execution_count": 1,
   "id": "013019fa-6d6c-4a3e-8660-f4dcf37974d0",
   "metadata": {},
   "outputs": [
    {
     "name": "stdout",
     "output_type": "stream",
     "text": [
      "This is main program\n",
      "this is my multiprocessing program\n"
     ]
    }
   ],
   "source": [
    "import multiprocessing\n",
    "def test():\n",
    "    print(\"this is my multiprocessing program\")\n",
    "if __name__== '__main__':\n",
    "    m=multiprocessing.Process(target=test)\n",
    "    print(\"This is main program\")\n",
    "    m.start()\n",
    "    m.join()"
   ]
  },
  {
   "cell_type": "code",
   "execution_count": 2,
   "id": "bd046a47-5891-42ee-87fa-444745aacf89",
   "metadata": {},
   "outputs": [
    {
     "name": "stdout",
     "output_type": "stream",
     "text": [
      "this is my multiprocessing program\n"
     ]
    }
   ],
   "source": [
    "test()"
   ]
  },
  {
   "cell_type": "code",
   "execution_count": 3,
   "id": "616da1c2-73f0-4f0b-b232-3e36a352b015",
   "metadata": {},
   "outputs": [
    {
     "name": "stdout",
     "output_type": "stream",
     "text": [
      "[1, 4, 9, 16, 25, 36, 49, 64, 81]\n"
     ]
    }
   ],
   "source": [
    "def square(n):\n",
    "    return n**2\n",
    "if __name__=='__main__':\n",
    "    with multiprocessing.Pool(processes=4) as pool:\n",
    "        out=pool.map(square,[1,2,3,4,5,6,7,8,9])\n",
    "        print(out)"
   ]
  },
  {
   "cell_type": "code",
   "execution_count": null,
   "id": "4fa5a84f-ce1e-4a3f-8fd9-f159f9aa2692",
   "metadata": {},
   "outputs": [
    {
     "name": "stdout",
     "output_type": "stream",
     "text": [
      "0\n",
      "1\n",
      "2\n",
      "3\n",
      "4\n",
      "5\n",
      "6\n",
      "7\n",
      "8\n",
      "9\n",
      "Virat Tiwari\n"
     ]
    }
   ],
   "source": [
    "def producer(q):\n",
    "    for i in range(10):\n",
    "        q.put(i)\n",
    "        \n",
    "def consume(q):\n",
    "    while True:\n",
    "        item=q.get()\n",
    "        if item is None:\n",
    "            break\n",
    "        print(item)\n",
    "if __name__=='__main__' :\n",
    "    queue=multiprocessing.Queue()\n",
    "    m1=multiprocessing.Process(target=producer,args=(queue,))\n",
    "    m2=multiprocessing.Process(target=consume,args=(queue,))\n",
    "    m1.start()\n",
    "    m2.start()\n",
    "    queue.put(\"Virat Tiwari\")\n",
    "    m1.join()\n",
    "    m2.join()"
   ]
  },
  {
   "cell_type": "code",
   "execution_count": null,
   "id": "e69a6bc4-13f1-453a-a97d-243e869eb5c8",
   "metadata": {},
   "outputs": [],
   "source": [
    "import multiprocessing\n",
    "def square(index,value):\n",
    "    value[index]=value[index]**2\n",
    "if __name__=='__main__':\n",
    "    arr=multiprocessing.Array(\"i\",[2,3,4,5,6,7,8])\n",
    "    process=[]\n",
    "    for i in range(7):\n",
    "        m=multiprocessing.Process(target=square,args=(i,arr))\n",
    "        process.append(m)\n",
    "        m.start()\n",
    "    for m in process:\n",
    "        m.join()\n",
    "    print(list(arr))"
   ]
  },
  {
   "cell_type": "code",
   "execution_count": null,
   "id": "3d79934a-e189-4113-987b-1a2c9a0ec0e7",
   "metadata": {},
   "outputs": [
    {
     "name": "stdout",
     "output_type": "stream",
     "text": [
      "['My name is Virat Tiwari', 'I am Data Science Student']\n",
      "['My name is Virat Tiwari', 'I am Data Science Student']\n"
     ]
    }
   ],
   "source": [
    "import multiprocessing\n",
    "def sender(conn,msg):\n",
    "    for i in msg:\n",
    "        conn.send(i)\n",
    "    conn.close()\n",
    "    \n",
    "def receive(conn):\n",
    "    while True:\n",
    "        try:\n",
    "            conn.recv()\n",
    "        except Exception as e:\n",
    "            print(e)\n",
    "            break\n",
    "        print(msg)\n",
    "if __name__==\"__main__\":\n",
    "    msg=[\"My name is Virat Tiwari\",\"I am Data Science Student\"]\n",
    "    parent_con,child_con=multiprocessing.Pipe()\n",
    "    m1=multiprocessing.Process(target=sender,args=(child_con,msg))\n",
    "    m2=multiprocessing.Process(target=receive,args=(parent_con,))\n",
    "    m1.start()\n",
    "    m2.start()\n",
    "    m1.join()\n",
    "    child_con.close()\n",
    "    m2.join()\n",
    "    parent_con.close()"
   ]
  },
  {
   "cell_type": "code",
   "execution_count": null,
   "id": "e0c8e5e3-970b-4010-a306-99a6efb087f5",
   "metadata": {},
   "outputs": [],
   "source": []
  }
 ],
 "metadata": {
  "kernelspec": {
   "display_name": "Python 3 (ipykernel)",
   "language": "python",
   "name": "python3"
  },
  "language_info": {
   "codemirror_mode": {
    "name": "ipython",
    "version": 3
   },
   "file_extension": ".py",
   "mimetype": "text/x-python",
   "name": "python",
   "nbconvert_exporter": "python",
   "pygments_lexer": "ipython3",
   "version": "3.10.8"
  }
 },
 "nbformat": 4,
 "nbformat_minor": 5
}
