{
 "cells": [
  {
   "cell_type": "markdown",
   "id": "ff7412aa-9a40-4aef-922a-6ab99808296b",
   "metadata": {},
   "source": [
    "PROPERTY DECORATORS"
   ]
  },
  {
   "cell_type": "code",
   "execution_count": 39,
   "id": "d8abd0d3-764b-485b-b9d3-9fbc9dc95b24",
   "metadata": {},
   "outputs": [],
   "source": [
    "class Dataminds:\n",
    "    \n",
    "#with the help of init we can pass the data to the class when we create the object\n",
    "    \n",
    "    def __init__(self,framework,technology):\n",
    "        self.__framework=framework\n",
    "        self.technology=technology\n",
    "    @property\n",
    "    def tech_framework(self):\n",
    "        return self.__framework\n",
    "    @tech_framework.setter\n",
    "    def tech_framework_new(self,price):\n",
    "        if price<=450:\n",
    "            pass\n",
    "        else:\n",
    "            self.__framework=price"
   ]
  },
  {
   "cell_type": "code",
   "execution_count": 40,
   "id": "9d528bfc-51ae-4ec6-a96c-94ef1995cf4c",
   "metadata": {},
   "outputs": [],
   "source": [
    "details=Dataminds(450,\"Data Science\")"
   ]
  },
  {
   "cell_type": "code",
   "execution_count": 46,
   "id": "addb4d83-c17c-4c37-895b-97ffd130bf31",
   "metadata": {},
   "outputs": [
    {
     "data": {
      "text/plain": [
       "'Machine Learning'"
      ]
     },
     "execution_count": 46,
     "metadata": {},
     "output_type": "execute_result"
    }
   ],
   "source": [
    "details.technology"
   ]
  },
  {
   "cell_type": "code",
   "execution_count": 34,
   "id": "129dd906-55b4-4c87-b4bf-ec5ff5987620",
   "metadata": {},
   "outputs": [],
   "source": [
    "details=Dataminds(450,\"Data Science\")"
   ]
  },
  {
   "cell_type": "code",
   "execution_count": 35,
   "id": "3db1f4b8-0956-4221-be48-c54534c21069",
   "metadata": {},
   "outputs": [
    {
     "data": {
      "text/plain": [
       "450"
      ]
     },
     "execution_count": 35,
     "metadata": {},
     "output_type": "execute_result"
    }
   ],
   "source": [
    "details.tech_framework"
   ]
  },
  {
   "cell_type": "code",
   "execution_count": 8,
   "id": "4a1f0097-596d-46d1-ab49-06c819df3850",
   "metadata": {},
   "outputs": [],
   "source": [
    "details=Dataminds(\"Jupyter Notebook\",\"Machine Learning\")"
   ]
  },
  {
   "cell_type": "code",
   "execution_count": 11,
   "id": "9712deb5-4806-41b0-9e3c-eb53d0610d1e",
   "metadata": {},
   "outputs": [
    {
     "data": {
      "text/plain": [
       "'Jupyter Notebook'"
      ]
     },
     "execution_count": 11,
     "metadata": {},
     "output_type": "execute_result"
    }
   ],
   "source": [
    "details._Dataminds__framework"
   ]
  },
  {
   "cell_type": "code",
   "execution_count": 15,
   "id": "c652ebeb-cb2c-4421-a15d-8dc002293e2d",
   "metadata": {},
   "outputs": [
    {
     "data": {
      "text/plain": [
       "'Machine Learning'"
      ]
     },
     "execution_count": 15,
     "metadata": {},
     "output_type": "execute_result"
    }
   ],
   "source": [
    "details.technology"
   ]
  },
  {
   "cell_type": "code",
   "execution_count": null,
   "id": "1c394dd3-d69c-4c9d-981d-bc4a26a5b5f8",
   "metadata": {},
   "outputs": [],
   "source": []
  }
 ],
 "metadata": {
  "kernelspec": {
   "display_name": "Python 3 (ipykernel)",
   "language": "python",
   "name": "python3"
  },
  "language_info": {
   "codemirror_mode": {
    "name": "ipython",
    "version": 3
   },
   "file_extension": ".py",
   "mimetype": "text/x-python",
   "name": "python",
   "nbconvert_exporter": "python",
   "pygments_lexer": "ipython3",
   "version": "3.10.8"
  }
 },
 "nbformat": 4,
 "nbformat_minor": 5
}
