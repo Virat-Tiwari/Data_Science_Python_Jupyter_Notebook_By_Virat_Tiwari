{
 "cells": [
  {
   "cell_type": "markdown",
   "id": "45715a42-d47e-4e05-b3a6-54822d07b43f",
   "metadata": {},
   "source": [
    "FUNCTION"
   ]
  },
  {
   "cell_type": "code",
   "execution_count": 4,
   "id": "7d56a578-18f1-4bba-998e-d1351ebf9579",
   "metadata": {},
   "outputs": [
    {
     "name": "stdout",
     "output_type": "stream",
     "text": [
      "Virat Tiwari\n"
     ]
    }
   ],
   "source": [
    "print(\"Virat Tiwari\")"
   ]
  },
  {
   "cell_type": "code",
   "execution_count": 5,
   "id": "07419930-899b-4fbd-a812-90abab3ef685",
   "metadata": {},
   "outputs": [],
   "source": [
    "l=[21,36,2,45]"
   ]
  },
  {
   "cell_type": "code",
   "execution_count": 6,
   "id": "c8f02dc8-def0-48d9-8ba6-f974f4f84522",
   "metadata": {},
   "outputs": [
    {
     "data": {
      "text/plain": [
       "4"
      ]
     },
     "execution_count": 6,
     "metadata": {},
     "output_type": "execute_result"
    }
   ],
   "source": [
    "len(l)"
   ]
  },
  {
   "cell_type": "code",
   "execution_count": 7,
   "id": "0296ece4-ae5b-4b04-a1f9-67cd9487d94d",
   "metadata": {},
   "outputs": [],
   "source": [
    "#IN THE MODULAR CODING WE NEED TO CREATE THE FUNCTION WITHOUT IT WE CAN NOT CREATE THE PROGRAM"
   ]
  },
  {
   "cell_type": "markdown",
   "id": "f0ceac8c-b8c2-4382-87a4-6998106ef25f",
   "metadata": {},
   "source": [
    "WE CREATE FUNCTION WITH HELP OF \"DEF\" KEYWORD"
   ]
  },
  {
   "cell_type": "markdown",
   "id": "01b1dd5a-5d12-4fdd-8349-b1fa3791004e",
   "metadata": {},
   "source": [
    "DEF=IT DEFINES THE DEFINITION"
   ]
  },
  {
   "cell_type": "code",
   "execution_count": 10,
   "id": "4e2d1e28-8602-4acd-a79e-396c9fd093f6",
   "metadata": {},
   "outputs": [],
   "source": [
    "def test():\n",
    "    pass"
   ]
  },
  {
   "cell_type": "code",
   "execution_count": 11,
   "id": "9fe7176e-1a42-48be-92a5-add82bafe768",
   "metadata": {},
   "outputs": [],
   "source": [
    "def test1():\n",
    "    print(\"This is my very first function\")"
   ]
  },
  {
   "cell_type": "code",
   "execution_count": 12,
   "id": "3c0a0c84-04f3-427b-9e58-1a359dc97649",
   "metadata": {},
   "outputs": [
    {
     "name": "stdout",
     "output_type": "stream",
     "text": [
      "This is my very first function\n"
     ]
    }
   ],
   "source": [
    "test1()"
   ]
  },
  {
   "cell_type": "markdown",
   "id": "7d828fe4-7d3d-45b6-a9e4-0a50ca987597",
   "metadata": {},
   "source": [
    "FUNCTION GENRALLY INCREASE THE REUSABILITY OF CODE"
   ]
  },
  {
   "cell_type": "code",
   "execution_count": 13,
   "id": "a33d7772-cd78-4b6e-ae08-73e8d972a429",
   "metadata": {},
   "outputs": [
    {
     "name": "stdout",
     "output_type": "stream",
     "text": [
      "This is my very first function\n"
     ]
    }
   ],
   "source": [
    "test1()"
   ]
  },
  {
   "cell_type": "code",
   "execution_count": 16,
   "id": "d04dc477-7f08-4e2d-8755-e330e1c9ce19",
   "metadata": {},
   "outputs": [
    {
     "name": "stdout",
     "output_type": "stream",
     "text": [
      "This is my very first function\n"
     ]
    },
    {
     "ename": "TypeError",
     "evalue": "unsupported operand type(s) for +: 'NoneType' and 'str'",
     "output_type": "error",
     "traceback": [
      "\u001b[0;31m---------------------------------------------------------------------------\u001b[0m",
      "\u001b[0;31mTypeError\u001b[0m                                 Traceback (most recent call last)",
      "Cell \u001b[0;32mIn[16], line 1\u001b[0m\n\u001b[0;32m----> 1\u001b[0m \u001b[43mtest1\u001b[49m\u001b[43m(\u001b[49m\u001b[43m)\u001b[49m\u001b[38;5;241;43m+\u001b[39;49m\u001b[38;5;124;43m\"\u001b[39;49m\u001b[38;5;124;43mVirat\u001b[39;49m\u001b[38;5;124;43m\"\u001b[39;49m\n",
      "\u001b[0;31mTypeError\u001b[0m: unsupported operand type(s) for +: 'NoneType' and 'str'"
     ]
    }
   ],
   "source": [
    "test1()+\"Virat\""
   ]
  },
  {
   "cell_type": "markdown",
   "id": "c85bba65-b9a2-475c-90a2-f11640806ed4",
   "metadata": {},
   "source": [
    "Note - PRINT ALWAYS GIVE THE NONE TYPE SO WE DO NOT USE THE PRINT IN FUNCTION , WE USE THE \"RETURN \" KEYWORD"
   ]
  },
  {
   "cell_type": "code",
   "execution_count": 17,
   "id": "889de77e-fe72-4ffa-9ab9-3a35e2811fc2",
   "metadata": {},
   "outputs": [],
   "source": [
    "def test2():\n",
    "    return\"This is my very first return\""
   ]
  },
  {
   "cell_type": "code",
   "execution_count": 20,
   "id": "4811a43b-e7e3-4917-b9c8-d56d889f7d65",
   "metadata": {},
   "outputs": [
    {
     "data": {
      "text/plain": [
       "'This is my very first return'"
      ]
     },
     "execution_count": 20,
     "metadata": {},
     "output_type": "execute_result"
    }
   ],
   "source": [
    "test2()"
   ]
  },
  {
   "cell_type": "code",
   "execution_count": 27,
   "id": "e1904d25-83d3-4537-accb-ca570dbbf72a",
   "metadata": {},
   "outputs": [
    {
     "data": {
      "text/plain": [
       "'This is my very first return I did it'"
      ]
     },
     "execution_count": 27,
     "metadata": {},
     "output_type": "execute_result"
    }
   ],
   "source": [
    "test2()+\" I did it\""
   ]
  },
  {
   "cell_type": "code",
   "execution_count": 28,
   "id": "332c64bf-0021-4515-9347-b35588ee9915",
   "metadata": {},
   "outputs": [],
   "source": [
    "def test3():\n",
    "    return \"Virat Tiwari\",22,[1,2,3]"
   ]
  },
  {
   "cell_type": "code",
   "execution_count": 29,
   "id": "67620f1e-1bf2-48c7-a46b-c5f67781684c",
   "metadata": {},
   "outputs": [
    {
     "data": {
      "text/plain": [
       "('Virat Tiwari', 22, [1, 2, 3])"
      ]
     },
     "execution_count": 29,
     "metadata": {},
     "output_type": "execute_result"
    }
   ],
   "source": [
    "test3()"
   ]
  },
  {
   "cell_type": "code",
   "execution_count": 32,
   "id": "2881e769-5465-496b-8418-fc7094654013",
   "metadata": {},
   "outputs": [],
   "source": [
    "a,b,c=test3()"
   ]
  },
  {
   "cell_type": "code",
   "execution_count": 33,
   "id": "b0c36c17-4430-4d72-a3dd-cc51ee1d51cb",
   "metadata": {},
   "outputs": [
    {
     "data": {
      "text/plain": [
       "'Virat Tiwari'"
      ]
     },
     "execution_count": 33,
     "metadata": {},
     "output_type": "execute_result"
    }
   ],
   "source": [
    "a"
   ]
  },
  {
   "cell_type": "code",
   "execution_count": 34,
   "id": "edb75497-17e3-420b-affb-39b2b6b5e9eb",
   "metadata": {},
   "outputs": [
    {
     "data": {
      "text/plain": [
       "22"
      ]
     },
     "execution_count": 34,
     "metadata": {},
     "output_type": "execute_result"
    }
   ],
   "source": [
    "b"
   ]
  },
  {
   "cell_type": "code",
   "execution_count": 35,
   "id": "863b6a6e-a6a5-4c8d-95b7-13bfb03cf6c6",
   "metadata": {},
   "outputs": [
    {
     "data": {
      "text/plain": [
       "[1, 2, 3]"
      ]
     },
     "execution_count": 35,
     "metadata": {},
     "output_type": "execute_result"
    }
   ],
   "source": [
    "c"
   ]
  },
  {
   "cell_type": "code",
   "execution_count": 36,
   "id": "bdcbc115-ddb7-4c5d-b538-f73dff4a3be1",
   "metadata": {},
   "outputs": [],
   "source": [
    "a,b=1,2"
   ]
  },
  {
   "cell_type": "code",
   "execution_count": 37,
   "id": "1115a340-727f-423e-aa56-443b7dfa1b37",
   "metadata": {},
   "outputs": [
    {
     "data": {
      "text/plain": [
       "1"
      ]
     },
     "execution_count": 37,
     "metadata": {},
     "output_type": "execute_result"
    }
   ],
   "source": [
    "a"
   ]
  },
  {
   "cell_type": "code",
   "execution_count": 38,
   "id": "de072aef-0d0d-4c38-ac19-3dcdac127584",
   "metadata": {},
   "outputs": [
    {
     "data": {
      "text/plain": [
       "2"
      ]
     },
     "execution_count": 38,
     "metadata": {},
     "output_type": "execute_result"
    }
   ],
   "source": [
    "b"
   ]
  },
  {
   "cell_type": "code",
   "execution_count": 39,
   "id": "bad4770f-0d78-4be5-9226-2bd3c9463f5e",
   "metadata": {},
   "outputs": [],
   "source": [
    "def test4():\n",
    "    a=6+4/2\n",
    "    return a"
   ]
  },
  {
   "cell_type": "code",
   "execution_count": 41,
   "id": "385d20a5-7b6f-4b58-830e-7a2252d389b1",
   "metadata": {},
   "outputs": [
    {
     "data": {
      "text/plain": [
       "8.0"
      ]
     },
     "execution_count": 41,
     "metadata": {},
     "output_type": "execute_result"
    }
   ],
   "source": [
    "test4()"
   ]
  },
  {
   "cell_type": "code",
   "execution_count": 44,
   "id": "3ec54ff0-b372-4302-bc4b-0c97420b45aa",
   "metadata": {},
   "outputs": [
    {
     "data": {
      "text/plain": [
       "20.0"
      ]
     },
     "execution_count": 44,
     "metadata": {},
     "output_type": "execute_result"
    }
   ],
   "source": [
    "test4()+2+2*5"
   ]
  },
  {
   "cell_type": "code",
   "execution_count": null,
   "id": "429ae40c-0d08-4947-98e1-705847f19589",
   "metadata": {},
   "outputs": [],
   "source": [
    "def test5(a,b,c):\n",
    "    d=a+b/c\n",
    "    return d"
   ]
  },
  {
   "cell_type": "code",
   "execution_count": null,
   "id": "765e487e-6ed9-45ef-bded-055855f880fd",
   "metadata": {},
   "outputs": [],
   "source": [
    "test5(4,5,6)"
   ]
  },
  {
   "cell_type": "code",
   "execution_count": null,
   "id": "f5aefa68-005f-40b3-8378-67b3dc3e4e27",
   "metadata": {},
   "outputs": [],
   "source": [
    "test6(a,b):\n",
    "    return a+b"
   ]
  },
  {
   "cell_type": "code",
   "execution_count": null,
   "id": "07c8c7cc-6842-4e2b-990a-d2cb708a8d04",
   "metadata": {},
   "outputs": [],
   "source": [
    "test6(1,4):"
   ]
  },
  {
   "cell_type": "code",
   "execution_count": null,
   "id": "9527a99a-1dcb-4216-a38e-c5fb52eaaeb7",
   "metadata": {},
   "outputs": [],
   "source": []
  }
 ],
 "metadata": {
  "kernelspec": {
   "display_name": "Python 3 (ipykernel)",
   "language": "python",
   "name": "python3"
  },
  "language_info": {
   "codemirror_mode": {
    "name": "ipython",
    "version": 3
   },
   "file_extension": ".py",
   "mimetype": "text/x-python",
   "name": "python",
   "nbconvert_exporter": "python",
   "pygments_lexer": "ipython3",
   "version": "3.10.8"
  }
 },
 "nbformat": 4,
 "nbformat_minor": 5
}
