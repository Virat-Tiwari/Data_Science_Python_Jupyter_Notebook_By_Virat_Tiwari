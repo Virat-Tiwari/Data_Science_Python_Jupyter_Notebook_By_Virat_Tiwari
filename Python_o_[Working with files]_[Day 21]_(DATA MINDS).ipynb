{
 "cells": [
  {
   "cell_type": "markdown",
   "id": "7969b760-8638-4e9a-8368-31b683ab3fc3",
   "metadata": {},
   "source": [
    "TOPIC - FILE OPERATION [ WHAT IS FILE OPERATION , HOW WE READ THE FILE , HOW WE WRITE THE FILE , HOW WE APPEND THE FILE , HOW WE CREATE THE FILE , HOW WE INSERT OR DELETE THE FILE ETC ]"
   ]
  },
  {
   "cell_type": "code",
   "execution_count": 9,
   "id": "077a8a3e-f12a-47a2-af47-be70858cd26b",
   "metadata": {},
   "outputs": [],
   "source": [
    "f=open(\"test1.txt\",\"w\")"
   ]
  },
  {
   "cell_type": "markdown",
   "id": "0feaa5f9-51a6-4446-a562-d8690661e9c6",
   "metadata": {},
   "source": [
    "pwd - pwd stands for the present working directory where we create the file "
   ]
  },
  {
   "cell_type": "code",
   "execution_count": 10,
   "id": "9952d455-7121-4833-bb20-4972f56da871",
   "metadata": {},
   "outputs": [
    {
     "data": {
      "text/plain": [
       "'/home/jovyan/work'"
      ]
     },
     "execution_count": 10,
     "metadata": {},
     "output_type": "execute_result"
    }
   ],
   "source": [
    "pwd"
   ]
  },
  {
   "cell_type": "markdown",
   "id": "808352f1-ac61-442b-a329-b2c04c0aa78e",
   "metadata": {},
   "source": [
    "ls - ls showing the name of file"
   ]
  },
  {
   "cell_type": "code",
   "execution_count": 11,
   "id": "690975e2-3f60-4a05-b653-684d83d8246d",
   "metadata": {},
   "outputs": [
    {
     "name": "stdout",
     "output_type": "stream",
     "text": [
      "'Python_o_[Working with files]_[Day 21]_(DATA MINDS).ipynb'   test1.txt\n",
      " README.md                                                    test.txt\n",
      " sample-code.ipynb\n"
     ]
    }
   ],
   "source": [
    "ls"
   ]
  },
  {
   "cell_type": "code",
   "execution_count": 13,
   "id": "d1f90961-db8d-4598-91b7-10406be502ac",
   "metadata": {},
   "outputs": [
    {
     "name": "stdout",
     "output_type": "stream",
     "text": [
      "[Errno 2] No such file or directory: 'work'\n",
      "/home/jovyan/work\n"
     ]
    }
   ],
   "source": [
    "cd work"
   ]
  },
  {
   "cell_type": "code",
   "execution_count": 14,
   "id": "fad6b425-8cdb-43f9-a0c7-4f113c3b1fdb",
   "metadata": {},
   "outputs": [
    {
     "name": "stdout",
     "output_type": "stream",
     "text": [
      "'Python_o_[Working with files]_[Day 21]_(DATA MINDS).ipynb'   test1.txt\n",
      " README.md                                                    test.txt\n",
      " sample-code.ipynb\n"
     ]
    }
   ],
   "source": [
    "ls"
   ]
  },
  {
   "cell_type": "code",
   "execution_count": 15,
   "id": "4141e79f-83b3-43d8-aedb-bbb5c4b3e8ba",
   "metadata": {},
   "outputs": [
    {
     "data": {
      "text/plain": [
       "47"
      ]
     },
     "execution_count": 15,
     "metadata": {},
     "output_type": "execute_result"
    }
   ],
   "source": [
    "f.write(\"Heya I'm Virat Tiwari , Aspiring Data Scientist\")"
   ]
  },
  {
   "cell_type": "code",
   "execution_count": 16,
   "id": "5daac996-add2-4a93-b66b-9721cf7f8bb2",
   "metadata": {},
   "outputs": [],
   "source": [
    "f.close()"
   ]
  },
  {
   "cell_type": "code",
   "execution_count": 57,
   "id": "1f77d1b1-20ef-4598-8d4f-b62bc07c7932",
   "metadata": {},
   "outputs": [],
   "source": [
    "f=open(\"test1.txt\",\"w\")"
   ]
  },
  {
   "cell_type": "code",
   "execution_count": 58,
   "id": "265d456d-ec0f-4a99-8dc9-0b58ce2a571d",
   "metadata": {},
   "outputs": [
    {
     "data": {
      "text/plain": [
       "29"
      ]
     },
     "execution_count": 58,
     "metadata": {},
     "output_type": "execute_result"
    }
   ],
   "source": [
    "f.write(\"I like Machine Learning but ,\")"
   ]
  },
  {
   "cell_type": "code",
   "execution_count": 59,
   "id": "05c7721f-6e5f-476f-a798-a0deeb967ca6",
   "metadata": {},
   "outputs": [],
   "source": [
    "f.close()"
   ]
  },
  {
   "cell_type": "code",
   "execution_count": 60,
   "id": "309a26b4-9d81-4a07-a557-3cb01b2a57cf",
   "metadata": {},
   "outputs": [],
   "source": [
    "f=open(\"test1.txt\",\"a\")"
   ]
  },
  {
   "cell_type": "code",
   "execution_count": 61,
   "id": "30a0a596-f517-40f5-87a8-9fca9aefb7c5",
   "metadata": {},
   "outputs": [
    {
     "data": {
      "text/plain": [
       "199"
      ]
     },
     "execution_count": 61,
     "metadata": {},
     "output_type": "execute_result"
    }
   ],
   "source": [
    "f.write(\"As I already mentioned that i'm data science enthisiast and try to deep dive the the field of data science and ifn i;m talking about my dream comapany of obiously its microsoft and jp morgans as well\")"
   ]
  },
  {
   "cell_type": "code",
   "execution_count": 62,
   "id": "678e8210-8428-4279-8d9d-ca4cbccc87f8",
   "metadata": {},
   "outputs": [],
   "source": [
    "f.close()"
   ]
  },
  {
   "cell_type": "code",
   "execution_count": 63,
   "id": "7fd9d474-cf88-445b-a7cb-25340c1b4a85",
   "metadata": {},
   "outputs": [],
   "source": [
    "f=open(\"test1.txt\",\"r\")"
   ]
  },
  {
   "cell_type": "code",
   "execution_count": 55,
   "id": "9e3dc794-511c-4537-b057-8d1fdeafe33e",
   "metadata": {},
   "outputs": [
    {
     "data": {
      "text/plain": [
       "\"I like Machine Learning but ,A I already mentioned that i'm data science enthisiast and try to deep dive the the field of data science and ifn i;m talking about my dream comapany of obiously its microsoft and jp morgans as well\""
      ]
     },
     "execution_count": 55,
     "metadata": {},
     "output_type": "execute_result"
    }
   ],
   "source": [
    "f.read()"
   ]
  },
  {
   "cell_type": "markdown",
   "id": "6ff78962-24da-4f89-8c74-28f149b2217a",
   "metadata": {},
   "source": [
    "IMPORTANT NOTES - :\n",
    "\n",
    "1 ) w - w mode trunket the file first  , it means it delete previous data or file than add new data or written file \n",
    "\n",
    "2 ) a - a mode simply add the new file or text to the previous files , it simply append the data\n",
    "\n",
    "3 ) r - r mode is used for reading the file \n",
    "\n",
    "4 ) open ( ) - for making new file or writing new file , we uing the open ( ) function\n",
    "\n",
    "5 ) write ( ) - we use write ( ) function for writing the data or content inside the file but we can not seen that data inside the file so for this we use close ( ) function after write ( ) function\n",
    "\n",
    "6 ) read( ) - we read the file that we created , with the help of read ( ) function\n",
    "\n",
    "7 ) close( ) - without using the close ( ) function our file that we write is not seen inside the text file  \n",
    "\n",
    "8 ) readline( ) - we can easily read data line by line with help of readline  ( ) function\n",
    "\n",
    "9 ) seek( ) - With the help of seek ( ) function we can set the index from where we want to read the file  , like if we want to raed data from 10th index so we set seek as 10 so our seek function read the data from 10th index \n",
    "\n",
    "10 ) path.getsize( ) - Before using this function we should install the \" os \" module after that we use this function.\n",
    "\n",
    "Basically \" path.getsize( ) \" help in finding the size of file , by using this function we can check the size of file in a \"byte\"  \n",
    "\n",
    "11 )  os.remove ( ) - This function is used for deleting the text file that we created , it remove the file that we created  but before removing the file we should \" IMPORT OS \" module\n",
    "\n",
    "12 ) os.rename( ) - We can easily rename the file name with the help of os.rename ( ) function , in which we can replace the previous file name with the new file name \n",
    "\n",
    "13 ) shutil.copy - we can copy files by using this function but before using this function we should \" IMPORT SHUTIL \" module , ex -:  shutil.copy(\"Virat's Bio\",\"copy_Virat's Bio\")"
   ]
  },
  {
   "cell_type": "code",
   "execution_count": 64,
   "id": "ab5fcbfd-1f11-434d-b2e5-4e55b6b0efdf",
   "metadata": {},
   "outputs": [
    {
     "data": {
      "text/plain": [
       "\"I like Machine Learning but ,As I already mentioned that i'm data science enthisiast and try to deep dive the the field of data science and ifn i;m talking about my dream comapany of obiously its microsoft and jp morgans as well\""
      ]
     },
     "execution_count": 64,
     "metadata": {},
     "output_type": "execute_result"
    }
   ],
   "source": [
    "f.readline()"
   ]
  },
  {
   "cell_type": "code",
   "execution_count": 65,
   "id": "93ffe446-fb1c-4702-bfa8-6ec2a7bdbe7f",
   "metadata": {},
   "outputs": [
    {
     "data": {
      "text/plain": [
       "0"
      ]
     },
     "execution_count": 65,
     "metadata": {},
     "output_type": "execute_result"
    }
   ],
   "source": [
    "f.seek(0)"
   ]
  },
  {
   "cell_type": "code",
   "execution_count": 66,
   "id": "f0ac62ad-8b62-42dc-8815-eea0122ab921",
   "metadata": {},
   "outputs": [
    {
     "data": {
      "text/plain": [
       "\"I like Machine Learning but ,As I already mentioned that i'm data science enthisiast and try to deep dive the the field of data science and ifn i;m talking about my dream comapany of obiously its microsoft and jp morgans as well\""
      ]
     },
     "execution_count": 66,
     "metadata": {},
     "output_type": "execute_result"
    }
   ],
   "source": [
    "f.readline()"
   ]
  },
  {
   "cell_type": "code",
   "execution_count": 77,
   "id": "dbff3179-1889-49c5-91f7-e1376fc911dc",
   "metadata": {},
   "outputs": [
    {
     "data": {
      "text/plain": [
       "31"
      ]
     },
     "execution_count": 77,
     "metadata": {},
     "output_type": "execute_result"
    }
   ],
   "source": [
    "f.seek(31)"
   ]
  },
  {
   "cell_type": "code",
   "execution_count": 78,
   "id": "42d72f1e-b19d-4cb5-abf1-badcbba538aa",
   "metadata": {},
   "outputs": [
    {
     "data": {
      "text/plain": [
       "\" I already mentioned that i'm data science enthisiast and try to deep dive the the field of data science and ifn i;m talking about my dream comapany of obiously its microsoft and jp morgans as well\""
      ]
     },
     "execution_count": 78,
     "metadata": {},
     "output_type": "execute_result"
    }
   ],
   "source": [
    "f.readline()"
   ]
  },
  {
   "cell_type": "code",
   "execution_count": 79,
   "id": "c1629296-9ec2-45f3-bf3d-f84913f49159",
   "metadata": {},
   "outputs": [],
   "source": [
    "data1=open(\"test1.txt\",\"r\")"
   ]
  },
  {
   "cell_type": "code",
   "execution_count": 80,
   "id": "c3ce32d8-507c-4caa-97d2-3a6c4eb9bdba",
   "metadata": {},
   "outputs": [
    {
     "name": "stdout",
     "output_type": "stream",
     "text": [
      "I like Machine Learning but ,As I already mentioned that i'm data science enthisiast and try to deep dive the the field of data science and ifn i;m talking about my dream comapany of obiously its microsoft and jp morgans as well\n"
     ]
    }
   ],
   "source": [
    "for i in data1:\n",
    "    print(i)"
   ]
  },
  {
   "cell_type": "code",
   "execution_count": 81,
   "id": "2e5a0a73-8925-486f-8a0b-52d8575fe4b9",
   "metadata": {},
   "outputs": [],
   "source": [
    "import os"
   ]
  },
  {
   "cell_type": "code",
   "execution_count": 82,
   "id": "e68600aa-74b7-4cf3-bac0-5deda577bfcd",
   "metadata": {},
   "outputs": [
    {
     "data": {
      "text/plain": [
       "228"
      ]
     },
     "execution_count": 82,
     "metadata": {},
     "output_type": "execute_result"
    }
   ],
   "source": [
    "os.path.getsize(\"test1.txt\")"
   ]
  },
  {
   "cell_type": "code",
   "execution_count": 83,
   "id": "cb653292-1df5-44f3-971c-cbb4131dbefb",
   "metadata": {},
   "outputs": [],
   "source": [
    "os.rename(\"test1.txt\",\"Virat's Bio\")"
   ]
  },
  {
   "cell_type": "code",
   "execution_count": 84,
   "id": "6888ef89-5d48-4cf1-a49f-0d50a1e1028d",
   "metadata": {},
   "outputs": [],
   "source": [
    "import shutil"
   ]
  },
  {
   "cell_type": "code",
   "execution_count": 85,
   "id": "ec759bb2-0841-45d2-9d03-d191aaa2cfc7",
   "metadata": {},
   "outputs": [
    {
     "data": {
      "text/plain": [
       "\"copy_Virat's Bio\""
      ]
     },
     "execution_count": 85,
     "metadata": {},
     "output_type": "execute_result"
    }
   ],
   "source": [
    "shutil.copy(\"Virat's Bio\",\"copy_Virat's Bio\")"
   ]
  }
 ],
 "metadata": {
  "kernelspec": {
   "display_name": "Python 3 (ipykernel)",
   "language": "python",
   "name": "python3"
  },
  "language_info": {
   "codemirror_mode": {
    "name": "ipython",
    "version": 3
   },
   "file_extension": ".py",
   "mimetype": "text/x-python",
   "name": "python",
   "nbconvert_exporter": "python",
   "pygments_lexer": "ipython3",
   "version": "3.10.8"
  }
 },
 "nbformat": 4,
 "nbformat_minor": 5
}
