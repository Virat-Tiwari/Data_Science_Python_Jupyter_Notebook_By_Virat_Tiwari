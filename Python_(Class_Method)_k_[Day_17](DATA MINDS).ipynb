{
 "cells": [
  {
   "cell_type": "markdown",
   "id": "3c22b3d0-4ff8-46c7-ac9d-332d721baa82",
   "metadata": {},
   "source": [
    "CLASS METHOD - : We can use the overload function with the help of class method\n",
    "\n",
    "NOTE - Without using the \" __init__ \" we can access the elements from the object \n",
    "\n",
    "NOTE - By default there is no concept of overloading in python but we can achieve this overloading with the help of class method"
   ]
  },
  {
   "cell_type": "code",
   "execution_count": 1,
   "id": "5f392770-8262-494f-9e22-4e022f2b07b4",
   "metadata": {},
   "outputs": [],
   "source": [
    "class Data_science():\n",
    "    def __init__(self,skills,profile):\n",
    "        self.skills=skills\n",
    "        self.profile=profile\n",
    "    def student_details(self):\n",
    "        print(self.skills,self.profile)"
   ]
  },
  {
   "cell_type": "code",
   "execution_count": 6,
   "id": "1b3c419f-f722-4120-952f-2a05a78ee722",
   "metadata": {},
   "outputs": [],
   "source": [
    "Details=Data_science(\"Machine learning\",\"Data Scientist\")"
   ]
  },
  {
   "cell_type": "code",
   "execution_count": 7,
   "id": "0ade5a38-bba5-4387-82a1-aac8320c9358",
   "metadata": {},
   "outputs": [
    {
     "data": {
      "text/plain": [
       "'Machine learning'"
      ]
     },
     "execution_count": 7,
     "metadata": {},
     "output_type": "execute_result"
    }
   ],
   "source": [
    "Details.skills"
   ]
  },
  {
   "cell_type": "code",
   "execution_count": 8,
   "id": "425b797c-dd83-4183-a529-e8cf4ebef119",
   "metadata": {},
   "outputs": [
    {
     "data": {
      "text/plain": [
       "'Data Scientist'"
      ]
     },
     "execution_count": 8,
     "metadata": {},
     "output_type": "execute_result"
    }
   ],
   "source": [
    "Details.profile"
   ]
  },
  {
   "cell_type": "code",
   "execution_count": 9,
   "id": "8230b00b-872b-4fa3-892f-8073507eef08",
   "metadata": {},
   "outputs": [
    {
     "name": "stdout",
     "output_type": "stream",
     "text": [
      "Machine learning Data Scientist\n"
     ]
    }
   ],
   "source": [
    "Details.student_details()"
   ]
  },
  {
   "cell_type": "code",
   "execution_count": 22,
   "id": "fd7fe49c-63ab-4411-8f3a-5bf725e567c2",
   "metadata": {},
   "outputs": [],
   "source": [
    "class Data_science1():\n",
    "    \n",
    "    def __init__(self,skills,profile):\n",
    "        self.skills=skills\n",
    "        self.profile=profile\n",
    "        \n",
    "    @classmethod    \n",
    "    def information(cls,skills,profile):\n",
    "        return cls(skills,profile)\n",
    "    \n",
    "\n",
    "    def student_details(self):\n",
    "        print(self.skills,self.profile)"
   ]
  },
  {
   "cell_type": "code",
   "execution_count": 26,
   "id": "55d3a288-7924-47a8-9088-fbb7c80e5ca2",
   "metadata": {},
   "outputs": [],
   "source": [
    "Information=Data_science1.information(\"Deep learning\",\"ML Engineer\")"
   ]
  },
  {
   "cell_type": "code",
   "execution_count": 27,
   "id": "e7778a64-541e-43d4-8e5f-444fc2e7e21e",
   "metadata": {},
   "outputs": [
    {
     "data": {
      "text/plain": [
       "'Deep learning'"
      ]
     },
     "execution_count": 27,
     "metadata": {},
     "output_type": "execute_result"
    }
   ],
   "source": [
    "Information.skills"
   ]
  },
  {
   "cell_type": "code",
   "execution_count": 28,
   "id": "bcbd6b4f-318c-4140-a0d2-cdac6ea94029",
   "metadata": {},
   "outputs": [
    {
     "data": {
      "text/plain": [
       "'ML Engineer'"
      ]
     },
     "execution_count": 28,
     "metadata": {},
     "output_type": "execute_result"
    }
   ],
   "source": [
    "Information.profile"
   ]
  },
  {
   "cell_type": "code",
   "execution_count": 29,
   "id": "aca3d221-1906-4f5c-9842-a817df1ae16d",
   "metadata": {},
   "outputs": [
    {
     "name": "stdout",
     "output_type": "stream",
     "text": [
      "Deep learning ML Engineer\n"
     ]
    }
   ],
   "source": [
    "Information.student_details()"
   ]
  },
  {
   "cell_type": "code",
   "execution_count": 31,
   "id": "e8f32ac7-919e-4cab-a034-83944f39a34a",
   "metadata": {},
   "outputs": [
    {
     "data": {
      "text/plain": [
       "<bound method Data_science1.information of <class '__main__.Data_science1'>>"
      ]
     },
     "execution_count": 31,
     "metadata": {},
     "output_type": "execute_result"
    }
   ],
   "source": [
    "Information.information"
   ]
  },
  {
   "cell_type": "code",
   "execution_count": 39,
   "id": "60921e22-35c2-4fde-9978-1a81166dfb2e",
   "metadata": {},
   "outputs": [],
   "source": [
    "class Data_science2():\n",
    "    \n",
    "    mob_no=908459713697\n",
    "    \n",
    "    def __init__(self,skills,profile):\n",
    "        self.skills=skills\n",
    "        self.profile=profile\n",
    "        \n",
    "#for changing the mobile no    \n",
    "    @classmethod\n",
    "    def change_mob_no(cls,mobile):\n",
    "        Data_science2.mob_no=mobile\n",
    "        \n",
    "    @classmethod    \n",
    "    def information(cls,skills,profile):\n",
    "        return cls(skills,profile)\n",
    "    \n",
    "\n",
    "    def student_details(self):\n",
    "        print(self.skills,self.profile,mob_no)"
   ]
  },
  {
   "cell_type": "code",
   "execution_count": 52,
   "id": "106fd2f6-3b43-4f32-afa9-de23cf4af98a",
   "metadata": {},
   "outputs": [],
   "source": [
    "Data_obj=Data_science2(\"Name - Virat :\",\"Tech - NLP\")"
   ]
  },
  {
   "cell_type": "code",
   "execution_count": 53,
   "id": "3476c053-9295-4b74-9ca1-38ebab6965b5",
   "metadata": {},
   "outputs": [
    {
     "name": "stdout",
     "output_type": "stream",
     "text": [
      "Name - Virat : Tech - NLP\n"
     ]
    }
   ],
   "source": [
    "Data_obj.student_details()"
   ]
  },
  {
   "cell_type": "code",
   "execution_count": 61,
   "id": "32b9e21b-3a9c-4566-a711-09e1436e06eb",
   "metadata": {},
   "outputs": [],
   "source": [
    "Data_obj=Data_science2(\"Name - Virat :\",\"Tech - NLP\")"
   ]
  },
  {
   "cell_type": "code",
   "execution_count": 62,
   "id": "8781a780-290f-4fa1-bd6d-87b2c7b099ac",
   "metadata": {},
   "outputs": [
    {
     "name": "stdout",
     "output_type": "stream",
     "text": [
      "Name - Virat : Tech - NLP\n"
     ]
    }
   ],
   "source": [
    "Data_obj.student_details()"
   ]
  },
  {
   "cell_type": "code",
   "execution_count": 40,
   "id": "fbaac4de-7d34-4e82-9f0a-bc8ba3f4bb93",
   "metadata": {},
   "outputs": [
    {
     "data": {
      "text/plain": [
       "908459713697"
      ]
     },
     "execution_count": 40,
     "metadata": {},
     "output_type": "execute_result"
    }
   ],
   "source": [
    "Data_science2.mob_no"
   ]
  },
  {
   "cell_type": "code",
   "execution_count": 38,
   "id": "3697238f-8078-4a2e-b326-39032963d8b1",
   "metadata": {},
   "outputs": [
    {
     "data": {
      "text/plain": [
       "908459713697"
      ]
     },
     "execution_count": 38,
     "metadata": {},
     "output_type": "execute_result"
    }
   ],
   "source": [
    "Data_science2.mob_no"
   ]
  },
  {
   "cell_type": "code",
   "execution_count": 41,
   "id": "3b3216d0-604b-4f2c-bf41-48db0df1a5db",
   "metadata": {},
   "outputs": [],
   "source": [
    "#this is how we change or update the mobile no\n",
    "\n",
    "Data_science2.change_mob_no(88456177964)"
   ]
  },
  {
   "cell_type": "code",
   "execution_count": 42,
   "id": "a296cca8-c9e1-4f1d-9265-14d3fec37d4b",
   "metadata": {},
   "outputs": [
    {
     "data": {
      "text/plain": [
       "88456177964"
      ]
     },
     "execution_count": 42,
     "metadata": {},
     "output_type": "execute_result"
    }
   ],
   "source": [
    "Data_science2.mob_no"
   ]
  },
  {
   "cell_type": "code",
   "execution_count": 63,
   "id": "46480f7b-0e6f-4d7b-8106-675096add819",
   "metadata": {},
   "outputs": [],
   "source": [
    "class Data_science3():\n",
    "    \n",
    "    mob_no=908459713697\n",
    "    \n",
    "    def __init__(self,skills,profile):\n",
    "        self.skills=skills\n",
    "        self.profile=profile\n",
    "        \n",
    "#for changing the mobile no    \n",
    "    @classmethod\n",
    "    def change_mob_no(cls,mobile):\n",
    "        Data_science2.mob_no=mobile\n",
    "        \n",
    "    @classmethod    \n",
    "    def information(cls,skills,profile):\n",
    "        return cls(skills,profile)\n",
    "    \n",
    "\n",
    "    def student_details(self):\n",
    "        print(self.skills,self.profile,mob_no)"
   ]
  },
  {
   "cell_type": "code",
   "execution_count": 70,
   "id": "4a0e91ce-ea6f-4e4e-b04d-f318ee2c1e92",
   "metadata": {},
   "outputs": [],
   "source": [
    "def course_details(cls,course_name):\n",
    "    print(\"Course Name is : \", course_name)"
   ]
  },
  {
   "cell_type": "code",
   "execution_count": 71,
   "id": "ad73a3b4-a012-4199-a051-7d0ebaf6d883",
   "metadata": {},
   "outputs": [],
   "source": [
    "Data_science3.course_details=classmethod(course_details)"
   ]
  },
  {
   "cell_type": "code",
   "execution_count": 73,
   "id": "bd858b71-39fa-4abf-af74-e396ec9fce9a",
   "metadata": {},
   "outputs": [
    {
     "name": "stdout",
     "output_type": "stream",
     "text": [
      "Course Name is :   Data Science\n"
     ]
    }
   ],
   "source": [
    "Data_science3.course_details(\" Data Science\")"
   ]
  },
  {
   "cell_type": "code",
   "execution_count": 74,
   "id": "5eeba609-2381-4f06-8a24-b680e56741b1",
   "metadata": {},
   "outputs": [],
   "source": [
    "def mentor(cls,list_of_mentor):\n",
    "    print(list_of_mentor)"
   ]
  },
  {
   "cell_type": "code",
   "execution_count": 76,
   "id": "1caf7a94-eeb9-4702-8748-b7f8d26513a7",
   "metadata": {},
   "outputs": [],
   "source": [
    "Data_science3.mentor=classmethod(mentor)"
   ]
  },
  {
   "cell_type": "code",
   "execution_count": 80,
   "id": "5b08ddfd-1e78-4117-8bd9-0b88a0bf22b3",
   "metadata": {},
   "outputs": [
    {
     "name": "stdout",
     "output_type": "stream",
     "text": [
      "Python by - Sudanshu sir\n"
     ]
    }
   ],
   "source": [
    "Data_science3.mentor(\"Python by - Sudanshu sir\")"
   ]
  },
  {
   "cell_type": "code",
   "execution_count": 81,
   "id": "02a87eee-c6cb-498f-a147-0f955559a9f6",
   "metadata": {},
   "outputs": [],
   "source": [
    "class Data_science4():\n",
    "    \n",
    "    mob_no=908459713697\n",
    "    \n",
    "    def __init__(self,skills,profile):\n",
    "        self.skills=skills\n",
    "        self.profile=profile\n",
    "        \n",
    "#for changing the mobile no    \n",
    "    @classmethod\n",
    "    def change_mob_no(cls,mobile):\n",
    "        Data_science2.mob_no=mobile\n",
    "        \n",
    "    @classmethod    \n",
    "    def information(cls,skills,profile):\n",
    "        return cls(skills,profile)\n",
    "    \n",
    "\n",
    "    def student_details(self):\n",
    "        print(self.skills,self.profile,mob_no)"
   ]
  },
  {
   "cell_type": "code",
   "execution_count": 82,
   "id": "41454af6-572c-49c8-a41d-c448cbcd1cd0",
   "metadata": {},
   "outputs": [
    {
     "ename": "AttributeError",
     "evalue": "change_mob_no",
     "output_type": "error",
     "traceback": [
      "\u001b[0;31m---------------------------------------------------------------------------\u001b[0m",
      "\u001b[0;31mAttributeError\u001b[0m                            Traceback (most recent call last)",
      "Cell \u001b[0;32mIn[84], line 2\u001b[0m\n\u001b[1;32m      1\u001b[0m \u001b[38;5;66;03m#This is how we also delete the fuctions from the existing class with the help of \" del \" keyword\u001b[39;00m\n\u001b[0;32m----> 2\u001b[0m \u001b[38;5;28;01mdel\u001b[39;00m Data_science4\u001b[38;5;241m.\u001b[39mchange_mob_no\n",
      "\u001b[0;31mAttributeError\u001b[0m: change_mob_no"
     ]
    }
   ],
   "source": [
    "#This is how we also delete the fuctions from the existing class with the help o\n",
    "\n",
    "del Data_science4.change_mob_no"
   ]
  },
  {
   "cell_type": "code",
   "execution_count": null,
   "id": "80f6dbda-ff58-4946-99e1-2f83b6c62667",
   "metadata": {},
   "outputs": [],
   "source": [
    "Data_science4."
   ]
  }
 ],
 "metadata": {
  "kernelspec": {
   "display_name": "Python 3 (ipykernel)",
   "language": "python",
   "name": "python3"
  },
  "language_info": {
   "codemirror_mode": {
    "name": "ipython",
    "version": 3
   },
   "file_extension": ".py",
   "mimetype": "text/x-python",
   "name": "python",
   "nbconvert_exporter": "python",
   "pygments_lexer": "ipython3",
   "version": "3.10.8"
  }
 },
 "nbformat": 4,
 "nbformat_minor": 5
}
