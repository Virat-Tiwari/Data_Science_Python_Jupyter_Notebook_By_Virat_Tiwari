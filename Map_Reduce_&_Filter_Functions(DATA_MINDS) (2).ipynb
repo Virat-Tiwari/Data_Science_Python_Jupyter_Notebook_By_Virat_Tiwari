{
 "cells": [
  {
   "cell_type": "markdown",
   "id": "404e537f-284d-49c7-9723-cb2ebb15a550",
   "metadata": {},
   "source": [
    "MAP - THE WORK OF MAPPER IS ONLY TO GIVE THE OUTPUT ON BEHALF OF OUR FUNCTION AND ITERATOR.\n",
    "\n",
    "IN VERY SIMPLE TERMS IT MAP THE ENTIRE DATA."
   ]
  },
  {
   "cell_type": "code",
   "execution_count": 1,
   "id": "cfc3dbfd-eaed-4315-bd71-0cc66e5c21a0",
   "metadata": {},
   "outputs": [],
   "source": [
    "l=[2,5,6,4,8,7]"
   ]
  },
  {
   "cell_type": "code",
   "execution_count": 5,
   "id": "52e68b08-8a25-4ef2-9bfb-144c8a26a7c6",
   "metadata": {},
   "outputs": [],
   "source": [
    "def test(l):\n",
    "    v=[]\n",
    "    for i in l:\n",
    "        v.append(i**2)\n",
    "    return v"
   ]
  },
  {
   "cell_type": "code",
   "execution_count": 6,
   "id": "fa73600f-3480-4577-a744-fd4d4ccfd6ec",
   "metadata": {},
   "outputs": [
    {
     "data": {
      "text/plain": [
       "[4, 25, 36, 16, 64, 49]"
      ]
     },
     "execution_count": 6,
     "metadata": {},
     "output_type": "execute_result"
    }
   ],
   "source": [
    "test(l)"
   ]
  },
  {
   "cell_type": "code",
   "execution_count": 7,
   "id": "2254e959-4ffe-4b2f-b8d9-fea6a4cee2be",
   "metadata": {},
   "outputs": [],
   "source": [
    "def sq(x):\n",
    "    return x**2"
   ]
  },
  {
   "cell_type": "code",
   "execution_count": 10,
   "id": "172d63c1-4ea3-40bc-abba-bc10bf2bfb63",
   "metadata": {},
   "outputs": [
    {
     "data": {
      "text/plain": [
       "[4, 25, 36, 16, 64, 49]"
      ]
     },
     "execution_count": 10,
     "metadata": {},
     "output_type": "execute_result"
    }
   ],
   "source": [
    "list(map(sq,l))"
   ]
  },
  {
   "cell_type": "code",
   "execution_count": 15,
   "id": "c779531f-08b2-4555-b3b1-9e8d2acb0fc1",
   "metadata": {},
   "outputs": [
    {
     "data": {
      "text/plain": [
       "[4, 25, 36, 16, 64, 49]"
      ]
     },
     "execution_count": 15,
     "metadata": {},
     "output_type": "execute_result"
    }
   ],
   "source": [
    "list(map(lambda x:x**2,l))"
   ]
  },
  {
   "cell_type": "code",
   "execution_count": 16,
   "id": "8baf3c33-fde2-463a-8e9d-e90b6ef5358f",
   "metadata": {},
   "outputs": [
    {
     "data": {
      "text/plain": [
       "[4, 25, 36, 16, 64, 49]"
      ]
     },
     "execution_count": 16,
     "metadata": {},
     "output_type": "execute_result"
    }
   ],
   "source": [
    "list(map(lambda x:x**2,l))"
   ]
  },
  {
   "cell_type": "code",
   "execution_count": 22,
   "id": "a3549a57-c6ca-4da2-8b3c-ceaf13d77ae1",
   "metadata": {},
   "outputs": [],
   "source": [
    "s={\"Virat\":22,\"Class\":\"Python\",\"Pc\":\"HP\"}"
   ]
  },
  {
   "cell_type": "code",
   "execution_count": 23,
   "id": "62c80323-52fb-45fd-b97a-d6d2f82dff6a",
   "metadata": {},
   "outputs": [
    {
     "data": {
      "text/plain": [
       "{'Virat': 22, 'Class': 'Python', 'Pc': 'HP'}"
      ]
     },
     "execution_count": 23,
     "metadata": {},
     "output_type": "execute_result"
    }
   ],
   "source": [
    "s"
   ]
  },
  {
   "cell_type": "code",
   "execution_count": 24,
   "id": "ef1327b9-6d21-4b50-9d4e-9370277f7a51",
   "metadata": {},
   "outputs": [
    {
     "data": {
      "text/plain": [
       "<method 'keys' of 'dict' objects>"
      ]
     },
     "execution_count": 24,
     "metadata": {},
     "output_type": "execute_result"
    }
   ],
   "source": [
    "dict.keys"
   ]
  },
  {
   "cell_type": "code",
   "execution_count": 30,
   "id": "e5170dba-8895-42d8-bc17-00b1305335a6",
   "metadata": {},
   "outputs": [
    {
     "data": {
      "text/plain": [
       "dict_keys(['Virat', 'Class', 'Pc'])"
      ]
     },
     "execution_count": 30,
     "metadata": {},
     "output_type": "execute_result"
    }
   ],
   "source": [
    "s.keys()"
   ]
  },
  {
   "cell_type": "code",
   "execution_count": 31,
   "id": "8d522fa3-93d1-43bb-ac4d-e11390bcd935",
   "metadata": {},
   "outputs": [
    {
     "data": {
      "text/plain": [
       "dict_values([22, 'Python', 'HP'])"
      ]
     },
     "execution_count": 31,
     "metadata": {},
     "output_type": "execute_result"
    }
   ],
   "source": [
    "s.values()"
   ]
  },
  {
   "cell_type": "code",
   "execution_count": 33,
   "id": "422f8237-41b5-43b2-bb76-fcb727696b48",
   "metadata": {},
   "outputs": [
    {
     "data": {
      "text/plain": [
       "[10, 27, 12, 6, 10, 13]"
      ]
     },
     "execution_count": 33,
     "metadata": {},
     "output_type": "execute_result"
    }
   ],
   "source": [
    "a=[1,2,5,6,4,5]\n",
    "b=[9,25,7,0,6,8]\n",
    "\n",
    "list(map(lambda x,y:x+y,a,b))"
   ]
  },
  {
   "cell_type": "code",
   "execution_count": 34,
   "id": "eecc3a00-97d3-4877-b6c1-c3a4662a886b",
   "metadata": {},
   "outputs": [],
   "source": [
    "#THIS IS HOW WE ADD LIST WITH THE HELP OF LAMBDA FUNCTION\n",
    "\n",
    "a=[1,2,3,6,5,4,7,8,9]\n",
    "b=[5,1,9,7,3,0,6,4,1]\n",
    "c=[22,44,66,99,44,33,22,77,88]\n",
    "d=[10,20,50,40,30,60,80,70,90]"
   ]
  },
  {
   "cell_type": "code",
   "execution_count": 40,
   "id": "c1c136e9-905b-4996-8d69-963f8ad4fd6f",
   "metadata": {},
   "outputs": [
    {
     "data": {
      "text/plain": [
       "[38, 111, 106, 119, 137, 108, 126, 104, 127]"
      ]
     },
     "execution_count": 40,
     "metadata": {},
     "output_type": "execute_result"
    }
   ],
   "source": [
    "list(map(lambda w,x,y,z:w+x+y+z,a,b,c,d))"
   ]
  },
  {
   "cell_type": "code",
   "execution_count": 49,
   "id": "5e2c6c52-65a0-4fe7-a6be-e73151356038",
   "metadata": {},
   "outputs": [],
   "source": [
    "#WE ALSO DONE SAME THING WITH THE HELP OF MAKING ADD() FUNCTION\n",
    "\n",
    "def add(a,b,c,d):\n",
    "    return a+b+c+d"
   ]
  },
  {
   "cell_type": "code",
   "execution_count": 50,
   "id": "c4de74e4-53e2-4e36-809c-92bb1ccfbaad",
   "metadata": {},
   "outputs": [
    {
     "data": {
      "text/plain": [
       "[38, 111, 106, 119, 137, 108, 126, 104, 127]"
      ]
     },
     "execution_count": 50,
     "metadata": {},
     "output_type": "execute_result"
    }
   ],
   "source": [
    "list(map(add,a,b,c,d))"
   ]
  },
  {
   "cell_type": "code",
   "execution_count": 51,
   "id": "8ff97588-d0b7-4d9d-8b7a-568bf6202802",
   "metadata": {},
   "outputs": [],
   "source": [
    "name=\"Virat Tiwari\""
   ]
  },
  {
   "cell_type": "code",
   "execution_count": 52,
   "id": "db35ba63-4a73-4243-b29f-ec8357a1b654",
   "metadata": {},
   "outputs": [
    {
     "data": {
      "text/plain": [
       "'Virat Tiwari'"
      ]
     },
     "execution_count": 52,
     "metadata": {},
     "output_type": "execute_result"
    }
   ],
   "source": [
    "name"
   ]
  },
  {
   "cell_type": "code",
   "execution_count": 53,
   "id": "1ade132d-b529-4a7e-9a5c-ed0f3b03e38a",
   "metadata": {},
   "outputs": [
    {
     "data": {
      "text/plain": [
       "'VIRAT TIWARI'"
      ]
     },
     "execution_count": 53,
     "metadata": {},
     "output_type": "execute_result"
    }
   ],
   "source": [
    "name.upper()"
   ]
  },
  {
   "cell_type": "code",
   "execution_count": 55,
   "id": "c60e438e-f921-4dcd-9d02-74e7d9b7bc45",
   "metadata": {},
   "outputs": [
    {
     "data": {
      "text/plain": [
       "'virat tiwari'"
      ]
     },
     "execution_count": 55,
     "metadata": {},
     "output_type": "execute_result"
    }
   ],
   "source": [
    "name.lower()"
   ]
  },
  {
   "cell_type": "code",
   "execution_count": 56,
   "id": "b334ca38-f80c-456b-9079-bfc645aabfb2",
   "metadata": {},
   "outputs": [
    {
     "data": {
      "text/plain": [
       "'Samrat Tiwari'"
      ]
     },
     "execution_count": 56,
     "metadata": {},
     "output_type": "execute_result"
    }
   ],
   "source": [
    "name.replace(\"Virat\",\"Samrat\")"
   ]
  },
  {
   "cell_type": "code",
   "execution_count": 58,
   "id": "ba5f2430-6b2e-4d94-b1f8-b2559233a4a4",
   "metadata": {},
   "outputs": [
    {
     "data": {
      "text/plain": [
       "['V', 'I', 'R', 'A', 'T', ' ', 'T', 'I', 'W', 'A', 'R', 'I']"
      ]
     },
     "execution_count": 58,
     "metadata": {},
     "output_type": "execute_result"
    }
   ],
   "source": [
    "name=\"Virat tiwari\"\n",
    "list(map(lambda name:name.upper(),name))"
   ]
  },
  {
   "cell_type": "markdown",
   "id": "29121bb5-b5d5-4b50-a7f3-4b2afbf1a8f3",
   "metadata": {},
   "source": [
    "REDUCE - IT REDUCE THE ENTIRE LIST AND GIVE THE SINGLE  ENTITY"
   ]
  },
  {
   "cell_type": "code",
   "execution_count": 60,
   "id": "4c468c48-da9e-4d48-92ce-580f860d0ea6",
   "metadata": {},
   "outputs": [],
   "source": [
    "#This is how we import thr reduce() function \n",
    "\n",
    "from functools import reduce"
   ]
  },
  {
   "cell_type": "code",
   "execution_count": 69,
   "id": "af53717b-dc37-4f88-857f-867c3d44cc2f",
   "metadata": {},
   "outputs": [],
   "source": [
    "a=[2,5,6,4,9]"
   ]
  },
  {
   "cell_type": "code",
   "execution_count": 70,
   "id": "7aaeb43a-0240-4346-898c-eeb5d2f52e92",
   "metadata": {},
   "outputs": [
    {
     "data": {
      "text/plain": [
       "26"
      ]
     },
     "execution_count": 70,
     "metadata": {},
     "output_type": "execute_result"
    }
   ],
   "source": [
    "reduce(lambda x,y:x+y,a)"
   ]
  },
  {
   "cell_type": "code",
   "execution_count": 71,
   "id": "5b0e37e2-ef13-4ccc-a8b1-c4934877b8cc",
   "metadata": {},
   "outputs": [
    {
     "data": {
      "text/plain": [
       "2160"
      ]
     },
     "execution_count": 71,
     "metadata": {},
     "output_type": "execute_result"
    }
   ],
   "source": [
    "reduce(lambda x,y : x*y,a)"
   ]
  },
  {
   "cell_type": "code",
   "execution_count": 72,
   "id": "4978993d-5180-4fcd-b51d-0b8df42a142b",
   "metadata": {},
   "outputs": [
    {
     "data": {
      "text/plain": [
       "9"
      ]
     },
     "execution_count": 72,
     "metadata": {},
     "output_type": "execute_result"
    }
   ],
   "source": [
    "reduce(lambda x,y:x if x>y else y,a)"
   ]
  },
  {
   "cell_type": "code",
   "execution_count": 74,
   "id": "510a4ac0-6c50-478b-bdec-9c24ebb5f085",
   "metadata": {},
   "outputs": [
    {
     "data": {
      "text/plain": [
       "2"
      ]
     },
     "execution_count": 74,
     "metadata": {},
     "output_type": "execute_result"
    }
   ],
   "source": [
    "reduce(lambda x,y:x if x<y else y,a)"
   ]
  },
  {
   "cell_type": "markdown",
   "id": "66155335-c703-4039-a8ff-91bbab5c02a7",
   "metadata": {},
   "source": [
    "FILTER - "
   ]
  },
  {
   "cell_type": "code",
   "execution_count": 75,
   "id": "c77fab9f-4174-4ae8-a143-42eae983c26e",
   "metadata": {},
   "outputs": [],
   "source": [
    "l=[2,5,4,9,0,4,6,3,7,9,4,5,100,9]"
   ]
  },
  {
   "cell_type": "code",
   "execution_count": 81,
   "id": "ab20fd65-1c80-499c-9e85-179651220e72",
   "metadata": {},
   "outputs": [
    {
     "data": {
      "text/plain": [
       "[5, 9, 3, 7, 9, 5, 1, 9]"
      ]
     },
     "execution_count": 81,
     "metadata": {},
     "output_type": "execute_result"
    }
   ],
   "source": [
    "list(filter(lambda x:x%2!=0,l))"
   ]
  },
  {
   "cell_type": "code",
   "execution_count": 82,
   "id": "819aa1df-0162-4671-9bf9-b1ee89fea856",
   "metadata": {},
   "outputs": [],
   "source": [
    "a=[2,5,-8,12,-96,-13,4,6,5,-258,-36]\n"
   ]
  },
  {
   "cell_type": "code",
   "execution_count": 83,
   "id": "8144a12b-9516-4687-aaac-a4f51bc85fa9",
   "metadata": {},
   "outputs": [
    {
     "data": {
      "text/plain": [
       "[-8, -96, -13, -258, -36]"
      ]
     },
     "execution_count": 83,
     "metadata": {},
     "output_type": "execute_result"
    }
   ],
   "source": [
    "list(filter(lambda x:x<0,a))"
   ]
  },
  {
   "cell_type": "code",
   "execution_count": 84,
   "id": "9b846c41-25d8-4e0c-968f-12c97920d0f4",
   "metadata": {},
   "outputs": [],
   "source": [
    "b=[\"Virat\",\"Yash\",\"Rohit\",\"Happy\"]"
   ]
  },
  {
   "cell_type": "code",
   "execution_count": 85,
   "id": "2eae6ef0-0bed-4668-bfeb-449203566f70",
   "metadata": {},
   "outputs": [
    {
     "data": {
      "text/plain": [
       "['Virat', 'Yash', 'Rohit', 'Happy']"
      ]
     },
     "execution_count": 85,
     "metadata": {},
     "output_type": "execute_result"
    }
   ],
   "source": [
    "b"
   ]
  },
  {
   "cell_type": "code",
   "execution_count": 90,
   "id": "5e6a4371-bc71-4a12-9ccd-fab2fb865a09",
   "metadata": {},
   "outputs": [
    {
     "data": {
      "text/plain": [
       "['Virat', 'Yash', 'Rohit', 'Happy']"
      ]
     },
     "execution_count": 90,
     "metadata": {},
     "output_type": "execute_result"
    }
   ],
   "source": [
    "list(filter(lambda x:len(x)<6,b))"
   ]
  },
  {
   "cell_type": "code",
   "execution_count": 91,
   "id": "80a02446-d5eb-4739-af54-9e26cc306b2f",
   "metadata": {},
   "outputs": [
    {
     "data": {
      "text/plain": [
       "[]"
      ]
     },
     "execution_count": 91,
     "metadata": {},
     "output_type": "execute_result"
    }
   ],
   "source": [
    "list(filter(lambda x:len(x)>6,b))"
   ]
  }
 ],
 "metadata": {
  "kernelspec": {
   "display_name": "Python 3 (ipykernel)",
   "language": "python",
   "name": "python3"
  },
  "language_info": {
   "codemirror_mode": {
    "name": "ipython",
    "version": 3
   },
   "file_extension": ".py",
   "mimetype": "text/x-python",
   "name": "python",
   "nbconvert_exporter": "python",
   "pygments_lexer": "ipython3",
   "version": "3.10.8"
  }
 },
 "nbformat": 4,
 "nbformat_minor": 5
}
