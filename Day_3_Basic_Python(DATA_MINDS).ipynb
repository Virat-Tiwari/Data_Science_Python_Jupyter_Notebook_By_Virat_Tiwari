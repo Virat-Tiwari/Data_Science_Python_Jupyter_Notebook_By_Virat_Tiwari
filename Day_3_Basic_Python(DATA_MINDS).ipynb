{
 "cells": [
  {
   "cell_type": "code",
   "execution_count": 3,
   "id": "86570c87-c242-41ea-bde5-a3d62d4b3010",
   "metadata": {},
   "outputs": [],
   "source": [
    "#DICTIONARY-In the dict we have key and value pair\n",
    "#In the dict we used {} brackets"
   ]
  },
  {
   "cell_type": "code",
   "execution_count": 4,
   "id": "8de3e359-7aaf-4f63-ae6e-14b9d6013ec7",
   "metadata": {},
   "outputs": [],
   "source": [
    "d={}"
   ]
  },
  {
   "cell_type": "code",
   "execution_count": 5,
   "id": "8745289b-071b-4196-b84c-6d02462c2168",
   "metadata": {},
   "outputs": [
    {
     "data": {
      "text/plain": [
       "dict"
      ]
     },
     "execution_count": 5,
     "metadata": {},
     "output_type": "execute_result"
    }
   ],
   "source": [
    "type(d)"
   ]
  },
  {
   "cell_type": "code",
   "execution_count": 11,
   "id": "487b946f-3923-4cdf-af44-41be9d6ce14d",
   "metadata": {},
   "outputs": [],
   "source": [
    "f={\"Name\":\"Virat\"}"
   ]
  },
  {
   "cell_type": "code",
   "execution_count": 12,
   "id": "ed1926e2-25eb-4a42-9022-ffb58f0b09d7",
   "metadata": {},
   "outputs": [
    {
     "data": {
      "text/plain": [
       "{'Name': 'Virat'}"
      ]
     },
     "execution_count": 12,
     "metadata": {},
     "output_type": "execute_result"
    }
   ],
   "source": [
    "f"
   ]
  },
  {
   "cell_type": "code",
   "execution_count": 13,
   "id": "b0b0f545-71f9-4fa4-b3ec-bd43521ccaad",
   "metadata": {},
   "outputs": [],
   "source": [
    "g={\"name\":\"virat tiwari\",\"age\":\"23\",\"email\":\"tv@gmail.com\",\"no\":\"4569712\"}"
   ]
  },
  {
   "cell_type": "code",
   "execution_count": 14,
   "id": "7b68ae5f-4257-4a24-8ff3-d426a9a1fdaf",
   "metadata": {},
   "outputs": [
    {
     "data": {
      "text/plain": [
       "{'name': 'virat tiwari', 'age': '23', 'email': 'tv@gmail.com', 'no': '4569712'}"
      ]
     },
     "execution_count": 14,
     "metadata": {},
     "output_type": "execute_result"
    }
   ],
   "source": [
    "g"
   ]
  },
  {
   "cell_type": "code",
   "execution_count": 15,
   "id": "c58fb42f-b20d-43cd-b5ed-f0b1cff02b0b",
   "metadata": {},
   "outputs": [
    {
     "data": {
      "text/plain": [
       "'virat tiwari'"
      ]
     },
     "execution_count": 15,
     "metadata": {},
     "output_type": "execute_result"
    }
   ],
   "source": [
    "g[\"name\"]"
   ]
  },
  {
   "cell_type": "code",
   "execution_count": 16,
   "id": "57aee2cd-0a2a-4bae-a546-ecc6bd47c380",
   "metadata": {},
   "outputs": [
    {
     "data": {
      "text/plain": [
       "'4569712'"
      ]
     },
     "execution_count": 16,
     "metadata": {},
     "output_type": "execute_result"
    }
   ],
   "source": [
    "g[\"no\"]"
   ]
  },
  {
   "cell_type": "code",
   "execution_count": 18,
   "id": "adf07363-8952-44e1-aed2-3bc888a7ee0a",
   "metadata": {},
   "outputs": [
    {
     "data": {
      "text/plain": [
       "'23'"
      ]
     },
     "execution_count": 18,
     "metadata": {},
     "output_type": "execute_result"
    }
   ],
   "source": [
    "g[\"age\"]"
   ]
  },
  {
   "cell_type": "code",
   "execution_count": 19,
   "id": "ce0914cd-bdc1-4154-b3d9-9aa19052d029",
   "metadata": {},
   "outputs": [],
   "source": [
    "a={\"name\":\"virat\",\"mail\":\"te@gmail\",\"name\":\"virat tiwari\"}"
   ]
  },
  {
   "cell_type": "code",
   "execution_count": 20,
   "id": "c50d2bd6-cf60-40d7-abf7-4afc14181e14",
   "metadata": {},
   "outputs": [
    {
     "data": {
      "text/plain": [
       "{'name': 'virat tiwari', 'mail': 'te@gmail'}"
      ]
     },
     "execution_count": 20,
     "metadata": {},
     "output_type": "execute_result"
    }
   ],
   "source": [
    "a"
   ]
  },
  {
   "cell_type": "code",
   "execution_count": 21,
   "id": "809a9fcb-a663-4652-9e34-60109678db8f",
   "metadata": {},
   "outputs": [
    {
     "data": {
      "text/plain": [
       "'virat tiwari'"
      ]
     },
     "execution_count": 21,
     "metadata": {},
     "output_type": "execute_result"
    }
   ],
   "source": [
    "a[\"name\"]"
   ]
  },
  {
   "cell_type": "code",
   "execution_count": 23,
   "id": "3c91ec48-5185-4aa1-bb4e-4d8bfa2d9116",
   "metadata": {},
   "outputs": [],
   "source": [
    "d2={\"Subject\":\"Data science\",\"skills\":[\"python\",\"machine learning\",\"NLP\",\"Computer vision\",\"DL\"]}"
   ]
  },
  {
   "cell_type": "code",
   "execution_count": 24,
   "id": "4b7bb535-be34-41c8-9fc9-eb54fbd739b2",
   "metadata": {},
   "outputs": [
    {
     "data": {
      "text/plain": [
       "{'Subject': 'Data science',\n",
       " 'skills': ['python', 'machine learning', 'NLP', 'Computer vision', 'DL']}"
      ]
     },
     "execution_count": 24,
     "metadata": {},
     "output_type": "execute_result"
    }
   ],
   "source": [
    "d2"
   ]
  },
  {
   "cell_type": "code",
   "execution_count": 25,
   "id": "3b60bdfe-a923-4fee-89e0-0952cec68746",
   "metadata": {},
   "outputs": [
    {
     "data": {
      "text/plain": [
       "['python', 'machine learning', 'NLP', 'Computer vision', 'DL']"
      ]
     },
     "execution_count": 25,
     "metadata": {},
     "output_type": "execute_result"
    }
   ],
   "source": [
    "d2[\"skills\"]"
   ]
  },
  {
   "cell_type": "code",
   "execution_count": 26,
   "id": "ef44e5be-a140-4e33-9f56-6d91ea145ede",
   "metadata": {},
   "outputs": [
    {
     "data": {
      "text/plain": [
       "['python', 'machine learning']"
      ]
     },
     "execution_count": 26,
     "metadata": {},
     "output_type": "execute_result"
    }
   ],
   "source": [
    "d2[\"skills\"][0:2]"
   ]
  },
  {
   "cell_type": "code",
   "execution_count": 32,
   "id": "ddcad425-bbe6-46ed-aae1-0b3831c9ea14",
   "metadata": {},
   "outputs": [],
   "source": [
    "s2={\"number\":[25,45,2,943,0,126,22],\"assignmenet\":(2,8,6,7,1023,640),\"launch date\":{414,95,120}}"
   ]
  },
  {
   "cell_type": "code",
   "execution_count": 33,
   "id": "ee33c92d-3807-45fb-973c-627bf3a589e7",
   "metadata": {},
   "outputs": [
    {
     "data": {
      "text/plain": [
       "{'number': [25, 45, 2, 943, 0, 126, 22],\n",
       " 'assignmenet': (2, 8, 6, 7, 1023, 640),\n",
       " 'launch date': {95, 120, 414}}"
      ]
     },
     "execution_count": 33,
     "metadata": {},
     "output_type": "execute_result"
    }
   ],
   "source": [
    "s2"
   ]
  },
  {
   "cell_type": "code",
   "execution_count": 36,
   "id": "cc2c1a35-c7a7-4bc1-9aa9-822082f83619",
   "metadata": {},
   "outputs": [
    {
     "data": {
      "text/plain": [
       "(2, 8, 6, 7, 1023, 640)"
      ]
     },
     "execution_count": 36,
     "metadata": {},
     "output_type": "execute_result"
    }
   ],
   "source": [
    "s2[\"assignmenet\"]"
   ]
  },
  {
   "cell_type": "code",
   "execution_count": 42,
   "id": "bf9b1f90-18e7-4e82-ad23-eea423102826",
   "metadata": {},
   "outputs": [],
   "source": [
    "#THIS IS HOW WE ADD ELEMENTS TO THE DICT\n",
    "\n",
    "s2[\"friends\"]=[\"yash\",\"rohit\",\"happy\"]"
   ]
  },
  {
   "cell_type": "code",
   "execution_count": 43,
   "id": "04b8f66a-9552-476d-94b0-7ebc8eba4ccc",
   "metadata": {},
   "outputs": [
    {
     "data": {
      "text/plain": [
       "{'number': [25, 45, 2, 943, 0, 126, 22],\n",
       " 'assignmenet': (2, 8, 6, 7, 1023, 640),\n",
       " 'launch date': {95, 120, 414},\n",
       " 'friends': ['yash', 'rohit', 'happy']}"
      ]
     },
     "execution_count": 43,
     "metadata": {},
     "output_type": "execute_result"
    }
   ],
   "source": [
    "s2"
   ]
  },
  {
   "cell_type": "code",
   "execution_count": 44,
   "id": "20acd26a-aaed-4786-99e6-fd12cbda145f",
   "metadata": {},
   "outputs": [],
   "source": [
    "#DEL ()FUNCTION IS USED FOR DELETING THE KEYS FROM THE DICT\n",
    "\n",
    "del s2[\"number\"]"
   ]
  },
  {
   "cell_type": "code",
   "execution_count": 45,
   "id": "e611c0cd-e5ed-4cc3-9952-5948fb5bf448",
   "metadata": {},
   "outputs": [
    {
     "data": {
      "text/plain": [
       "{'assignmenet': (2, 8, 6, 7, 1023, 640),\n",
       " 'launch date': {95, 120, 414},\n",
       " 'friends': ['yash', 'rohit', 'happy']}"
      ]
     },
     "execution_count": 45,
     "metadata": {},
     "output_type": "execute_result"
    }
   ],
   "source": [
    "s2"
   ]
  },
  {
   "cell_type": "code",
   "execution_count": 46,
   "id": "8bf9aba1-8bc6-4f14-a7f7-c8b2426c33a3",
   "metadata": {},
   "outputs": [
    {
     "data": {
      "text/plain": [
       "dict_keys(['assignmenet', 'launch date', 'friends'])"
      ]
     },
     "execution_count": 46,
     "metadata": {},
     "output_type": "execute_result"
    }
   ],
   "source": [
    "#KEYS() FUNCTION IS USED FOR GETTING ONLY KEYS FROM THE DICT\n",
    "\n",
    "s2.keys()"
   ]
  },
  {
   "cell_type": "code",
   "execution_count": 47,
   "id": "0809dbb8-253e-4447-bd32-377952105f2e",
   "metadata": {},
   "outputs": [
    {
     "data": {
      "text/plain": [
       "['assignmenet', 'launch date', 'friends']"
      ]
     },
     "execution_count": 47,
     "metadata": {},
     "output_type": "execute_result"
    }
   ],
   "source": [
    "list(s2.keys())"
   ]
  },
  {
   "cell_type": "code",
   "execution_count": 48,
   "id": "4945e061-0c88-4e94-a268-76e213e9753e",
   "metadata": {},
   "outputs": [
    {
     "data": {
      "text/plain": [
       "dict_values([(2, 8, 6, 7, 1023, 640), {120, 414, 95}, ['yash', 'rohit', 'happy']])"
      ]
     },
     "execution_count": 48,
     "metadata": {},
     "output_type": "execute_result"
    }
   ],
   "source": [
    "#VALUES()FUNCTION IS USED FOR GETTING ONLY VALUES FROM THE DICT\n",
    "\n",
    "s2.values()"
   ]
  },
  {
   "cell_type": "code",
   "execution_count": 49,
   "id": "d7f37349-10ba-48b6-b92e-b44455005aa8",
   "metadata": {},
   "outputs": [
    {
     "data": {
      "text/plain": [
       "[(2, 8, 6, 7, 1023, 640), {95, 120, 414}, ['yash', 'rohit', 'happy']]"
      ]
     },
     "execution_count": 49,
     "metadata": {},
     "output_type": "execute_result"
    }
   ],
   "source": [
    "#LIST()FUNCTION IS USED FOR TYPECASTING DICT INTO LIST\n",
    "\n",
    "list(s2.values())"
   ]
  },
  {
   "cell_type": "code",
   "execution_count": 52,
   "id": "8993c2bd-a907-4832-9c52-66363ff058c7",
   "metadata": {},
   "outputs": [
    {
     "data": {
      "text/plain": [
       "[('assignmenet', (2, 8, 6, 7, 1023, 640)),\n",
       " ('launch date', {95, 120, 414}),\n",
       " ('friends', ['yash', 'rohit', 'happy'])]"
      ]
     },
     "execution_count": 52,
     "metadata": {},
     "output_type": "execute_result"
    }
   ],
   "source": [
    "#ITEMS()FUNCTION IS USED FOR GETTING ALL ELEMENTS IN THE FORM OF ITMES IN LIST\n",
    "\n",
    "list(s2.items())"
   ]
  },
  {
   "cell_type": "code",
   "execution_count": 58,
   "id": "77e53e18-88af-4717-8f5c-84a1ea1d6599",
   "metadata": {},
   "outputs": [
    {
     "data": {
      "text/plain": [
       "(2, 8, 6, 7, 1023, 640)"
      ]
     },
     "execution_count": 58,
     "metadata": {},
     "output_type": "execute_result"
    }
   ],
   "source": [
    "s2.pop('assignmenet')"
   ]
  },
  {
   "cell_type": "code",
   "execution_count": 59,
   "id": "a0861dcc-f249-41fc-b97f-6f0e22e4e543",
   "metadata": {},
   "outputs": [
    {
     "data": {
      "text/plain": [
       "{'launch date': {95, 120, 414}, 'friends': ['yash', 'rohit', 'happy']}"
      ]
     },
     "execution_count": 59,
     "metadata": {},
     "output_type": "execute_result"
    }
   ],
   "source": [
    "s2"
   ]
  },
  {
   "cell_type": "code",
   "execution_count": 61,
   "id": "e878efd3-5743-43d2-abda-45b4844e0666",
   "metadata": {},
   "outputs": [],
   "source": [
    "#CONTROL FLOW OR DECION MAKING STATEMENT\n",
    "\n",
    "#EX - IF , ELSE ,  ELIF"
   ]
  },
  {
   "cell_type": "code",
   "execution_count": 71,
   "id": "c7f2ad47-3e7f-4b97-a0f7-b2df62fdf5ef",
   "metadata": {},
   "outputs": [
    {
     "name": "stdin",
     "output_type": "stream",
     "text": [
      "Enter your full name  :  Virat Tiwari\n",
      "Enter your marks 100\n"
     ]
    },
    {
     "name": "stdout",
     "output_type": "stream",
     "text": [
      "you will be a part of A1 batch\n",
      "All the very best Virat Tiwari\n"
     ]
    }
   ],
   "source": [
    "#INPUT()FUNCTION IS USED FOR TAKING FROM THE USER\n",
    "\n",
    "#SMALL BATCH ALLOCATION SYSTEM ON BEHALF OF MARKS\n",
    "\n",
    "Name=input(\"Enter your full name  : \")\n",
    "marks=int(input(\"Enter your marks : \"))\n",
    "if marks>=80:\n",
    "    print(\"you will be a part of A1 batch\")\n",
    "elif marks>=60 and marks<80:\n",
    "    print(\"You will be a part of A2 batch\")\n",
    "elif marks>=40 and marks<60:\n",
    "    print(\"You will be a part of A3 batch\")\n",
    "else:\n",
    "    print(\"You will be a part of A4 batch\")\n",
    "print(\"All the very best\", Name )    "
   ]
  },
  {
   "cell_type": "code",
   "execution_count": 76,
   "id": "e89c3f15-b670-4f14-a0f3-415a73f6e14c",
   "metadata": {},
   "outputs": [
    {
     "name": "stdin",
     "output_type": "stream",
     "text": [
      "Enter the price :  457\n"
     ]
    },
    {
     "name": "stdout",
     "output_type": "stream",
     "text": [
      "I will purchase\n"
     ]
    }
   ],
   "source": [
    "price=int(input(\"Enter the price : \"))\n",
    "if price>1000:\n",
    "    print(\"I will not purchase\")\n",
    "else:\n",
    "    print(\"I will purchase\")"
   ]
  },
  {
   "cell_type": "code",
   "execution_count": 82,
   "id": "9402151f-5167-4093-92bf-48bfadc09e0f",
   "metadata": {},
   "outputs": [
    {
     "name": "stdin",
     "output_type": "stream",
     "text": [
      "Enter the price :  245\n"
     ]
    },
    {
     "name": "stdout",
     "output_type": "stream",
     "text": [
      "I will buy definitely\n"
     ]
    }
   ],
   "source": [
    "#NESTED LOOP OR CONDITIONAL STATEMENT\n",
    "\n",
    "price=int(input(\"Enter the price : \"))\n",
    "if price>1000:\n",
    "    print(\"I will not purchase\")\n",
    "    if price>5000:\n",
    "        print(\"This is too high\")\n",
    "    elif price<2000:\n",
    "        print(\"Its ok to buy\")\n",
    "elif price<1000:\n",
    "    print(\"I will buy definitely\")\n",
    "else:\n",
    "    print(\"Not interested at all\")"
   ]
  },
  {
   "cell_type": "code",
   "execution_count": 84,
   "id": "60b12b42-14c3-4055-8f2c-84541de023cb",
   "metadata": {},
   "outputs": [],
   "source": [
    "l=[0,2,5,4,7,8,20,1,65,4,2]"
   ]
  },
  {
   "cell_type": "code",
   "execution_count": 85,
   "id": "c6ca679b-5f9f-45c5-a2e0-bf31f08813b6",
   "metadata": {},
   "outputs": [
    {
     "data": {
      "text/plain": [
       "[0, 2, 5, 4, 7, 8, 20, 1, 65, 4, 2]"
      ]
     },
     "execution_count": 85,
     "metadata": {},
     "output_type": "execute_result"
    }
   ],
   "source": [
    "l"
   ]
  },
  {
   "cell_type": "code",
   "execution_count": 86,
   "id": "8873ef8d-0727-46a8-9a1a-c50c659fed91",
   "metadata": {},
   "outputs": [
    {
     "name": "stdout",
     "output_type": "stream",
     "text": [
      "0\n",
      "2\n",
      "5\n",
      "4\n",
      "7\n",
      "8\n",
      "20\n",
      "1\n",
      "65\n",
      "4\n",
      "2\n"
     ]
    }
   ],
   "source": [
    "#for loop will fetch the data elements one by one untill its end the series\n",
    "\n",
    "for i in l:\n",
    "    print(i)"
   ]
  },
  {
   "cell_type": "code",
   "execution_count": 90,
   "id": "b2037e3f-e07f-412f-8499-1bc234d22e0f",
   "metadata": {},
   "outputs": [
    {
     "name": "stdout",
     "output_type": "stream",
     "text": [
      "1\n",
      "3\n",
      "6\n",
      "5\n",
      "8\n",
      "9\n",
      "21\n",
      "2\n",
      "66\n",
      "5\n",
      "3\n"
     ]
    },
    {
     "data": {
      "text/plain": [
       "[1, 3, 6, 5, 8, 9, 21, 2, 66, 5, 3]"
      ]
     },
     "execution_count": 90,
     "metadata": {},
     "output_type": "execute_result"
    }
   ],
   "source": [
    "#THIS IS HOW WE ADD ONE AND UPDATE THE LIST\n",
    "\n",
    "l1=[]\n",
    "for i in l:\n",
    "    print(i+1)\n",
    "    l1.append(i+1)\n",
    "l1"
   ]
  },
  {
   "cell_type": "code",
   "execution_count": 91,
   "id": "e582e38e-24e8-4b95-89b4-c0ad3920c37e",
   "metadata": {},
   "outputs": [],
   "source": [
    "v=[\"Virat\",\"Data science\",\"On going course\",\"skills\"]"
   ]
  },
  {
   "cell_type": "code",
   "execution_count": 92,
   "id": "bd85af70-678d-47b3-98c0-f12c51432ba3",
   "metadata": {},
   "outputs": [
    {
     "data": {
      "text/plain": [
       "['Virat', 'Data science', 'On going course', 'skills']"
      ]
     },
     "execution_count": 92,
     "metadata": {},
     "output_type": "execute_result"
    }
   ],
   "source": [
    "v"
   ]
  },
  {
   "cell_type": "code",
   "execution_count": 96,
   "id": "e0406b3d-275b-4a03-8eb6-83c4499c7e4d",
   "metadata": {},
   "outputs": [
    {
     "name": "stdout",
     "output_type": "stream",
     "text": [
      "Virat\n",
      "Data science\n",
      "On going course\n",
      "skills\n"
     ]
    }
   ],
   "source": [
    "#THIS IS HOW WE APPEND AND CAPITALIZE THE LETTERS OF NAMES IN FOR LOOP\n",
    "\n",
    "v1=[]\n",
    "for i in v:\n",
    "    print(i)\n",
    "    v1.append(i.upper())"
   ]
  },
  {
   "cell_type": "code",
   "execution_count": 97,
   "id": "d88e36f7-5037-4c8a-baab-a28fe07e8dbb",
   "metadata": {},
   "outputs": [
    {
     "data": {
      "text/plain": [
       "['VIRAT', 'DATA SCIENCE', 'ON GOING COURSE', 'SKILLS']"
      ]
     },
     "execution_count": 97,
     "metadata": {},
     "output_type": "execute_result"
    }
   ],
   "source": [
    "v1"
   ]
  },
  {
   "cell_type": "code",
   "execution_count": 98,
   "id": "c313b82e-20fc-4bb0-9949-3c6b59a9a73c",
   "metadata": {},
   "outputs": [],
   "source": [
    "b=[1,8,6,3,\"Virat\",\"classs\",24.02,3,54,\"rohit\"]"
   ]
  },
  {
   "cell_type": "code",
   "execution_count": 99,
   "id": "0141406b-39c2-43fb-baf1-1adaf05af242",
   "metadata": {},
   "outputs": [],
   "source": [
    "#THIS IS HOW WE SEPERATE THE NUMBERS AND STRING FROM THE LIST \n",
    "# WE USE CONDITIONAL STATEMENT IN FOR LOOP FOR THIS OPERATION\n",
    "\n",
    "b1_num=[]\n",
    "b2_str=[]\n",
    "for i in b:\n",
    "    if type(i)==int or type(i)==float:\n",
    "        b1_num.append(i)\n",
    "    else:\n",
    "        b2_str.append(i)\n",
    "    "
   ]
  },
  {
   "cell_type": "code",
   "execution_count": 100,
   "id": "19d1764a-1c3d-4eb8-8973-7c6ffb025cbf",
   "metadata": {},
   "outputs": [
    {
     "data": {
      "text/plain": [
       "[1, 8, 6, 3, 24.02, 3, 54]"
      ]
     },
     "execution_count": 100,
     "metadata": {},
     "output_type": "execute_result"
    }
   ],
   "source": [
    "b1_num"
   ]
  },
  {
   "cell_type": "code",
   "execution_count": 101,
   "id": "46d4d09d-7f6c-468a-bc1a-02ffbd03bdcc",
   "metadata": {},
   "outputs": [
    {
     "data": {
      "text/plain": [
       "['Virat', 'classs', 'rohit']"
      ]
     },
     "execution_count": 101,
     "metadata": {},
     "output_type": "execute_result"
    }
   ],
   "source": [
    "b2_str"
   ]
  },
  {
   "cell_type": "code",
   "execution_count": null,
   "id": "32bc9871-e7f3-4c05-82e1-6698291f079d",
   "metadata": {},
   "outputs": [],
   "source": []
  }
 ],
 "metadata": {
  "kernelspec": {
   "display_name": "Python 3 (ipykernel)",
   "language": "python",
   "name": "python3"
  },
  "language_info": {
   "codemirror_mode": {
    "name": "ipython",
    "version": 3
   },
   "file_extension": ".py",
   "mimetype": "text/x-python",
   "name": "python",
   "nbconvert_exporter": "python",
   "pygments_lexer": "ipython3",
   "version": "3.10.8"
  }
 },
 "nbformat": 4,
 "nbformat_minor": 5
}
