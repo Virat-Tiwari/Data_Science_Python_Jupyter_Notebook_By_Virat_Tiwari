{
 "cells": [
  {
   "cell_type": "markdown",
   "id": "85c772fa-ef01-484b-847c-8e53c9be98e4",
   "metadata": {},
   "source": [
    "OOPS - OBJECT ORIENTED PROGRAMMING SYSTEM"
   ]
  },
  {
   "cell_type": "code",
   "execution_count": 1,
   "id": "4e78fae5-f231-402e-95df-8be3006a9088",
   "metadata": {},
   "outputs": [],
   "source": [
    "a=1"
   ]
  },
  {
   "cell_type": "code",
   "execution_count": 3,
   "id": "90629cf4-201d-4fe0-a0f9-b2f7477fc4af",
   "metadata": {},
   "outputs": [
    {
     "name": "stdout",
     "output_type": "stream",
     "text": [
      "<class 'int'>\n"
     ]
    }
   ],
   "source": [
    "print(type(a))"
   ]
  },
  {
   "cell_type": "code",
   "execution_count": 4,
   "id": "351eb8d3-23f5-4ea4-bc10-51148a4cd7d9",
   "metadata": {},
   "outputs": [
    {
     "name": "stdout",
     "output_type": "stream",
     "text": [
      "<class 'str'>\n"
     ]
    }
   ],
   "source": [
    "print(type(\"Virat Tiwari\"))"
   ]
  },
  {
   "cell_type": "code",
   "execution_count": 5,
   "id": "5e4e3690-345c-4211-bfae-6acca58c6024",
   "metadata": {},
   "outputs": [
    {
     "name": "stdout",
     "output_type": "stream",
     "text": [
      "<class 'float'>\n"
     ]
    }
   ],
   "source": [
    "print(type(25.04))"
   ]
  },
  {
   "cell_type": "code",
   "execution_count": 6,
   "id": "99f78dda-10f3-44bf-992c-c7ed41897d4a",
   "metadata": {},
   "outputs": [
    {
     "name": "stdout",
     "output_type": "stream",
     "text": [
      "<class 'list'>\n"
     ]
    }
   ],
   "source": [
    "print(type([22,5,6,4,9,2]))"
   ]
  },
  {
   "cell_type": "code",
   "execution_count": 11,
   "id": "d0495d78-18c9-484a-81db-630e9034b5e7",
   "metadata": {},
   "outputs": [
    {
     "name": "stdout",
     "output_type": "stream",
     "text": [
      "<class 'dict'>\n"
     ]
    }
   ],
   "source": [
    "print(type({\"Name\":\"Virat Tiwari\",\"Age\":22}))"
   ]
  },
  {
   "cell_type": "markdown",
   "id": "f2842891-8f38-46c8-8d78-8b2558ee09e7",
   "metadata": {},
   "source": [
    "CONCEPT OF CLASSES - \" CLASS \" IS NOTHING BUT A CLASSIFICATION THAT IDENTIFY THE REAL WORLD ENTITY OR BLUEPRINT OF REAL WORLD ENTITY BUT NOT SPECIFIC TO A REAL WORLD ENTITY"
   ]
  },
  {
   "cell_type": "markdown",
   "id": "37443aa2-7239-4eb5-bfa7-ba67a9a5200f",
   "metadata": {},
   "source": [
    "CONCEPT OF OBJECT - \" OBJECT \" IS A REAL WORLD ENTITY , WE CALL OBEJCT AS \"VARIABLE\" OR \"INSTANCE\" AS WELL"
   ]
  },
  {
   "cell_type": "markdown",
   "id": "3f105454-be3b-4230-888c-6dde2be650b0",
   "metadata": {},
   "source": [
    "IMPORTANT - FOR CREATING \"CLASS\" IN PYTHON WE USE \"CLASS\" KEYWORD"
   ]
  },
  {
   "cell_type": "code",
   "execution_count": 13,
   "id": "8e6cab65-eda3-4cef-aba6-580caf10a24d",
   "metadata": {},
   "outputs": [],
   "source": [
    "#THIS IS HOW WE CREATE BLANK CLASS BY USING THE \"PASS\" KEYWORD\n",
    "\n",
    "class test:\n",
    "    pass"
   ]
  },
  {
   "cell_type": "markdown",
   "id": "41b45ff0-8ee3-4a79-bf54-1e8b406a9600",
   "metadata": {},
   "source": [
    "WHY WE CREATE CLASS IN PYTHON -:\n",
    "\n",
    "WHENEVER WE WORK ON PROJECT WE CREATES DIFFERENT TYPES OF MODULES , DATABASE MODULE , BACKEND , FRONTEND MODULES SO MAKE ALL THESE IN STRUCTURED FORM WE USE CLASSES , CLASSES SIMPLY GAVE OUR CODE A STRUCTURED FORM THAT HELPFUL FOR THE OTHER DEVELOPERS WHO WANTS TO CONTRIBUTE IN THAT CODE IN FUTURE AND IT ALSO ENHANCE THE REUSABILITY OF CODE"
   ]
  },
  {
   "cell_type": "markdown",
   "id": "736b228a-ffe7-4ed4-ad60-f1ea510704b3",
   "metadata": {},
   "source": [
    "\n",
    "WHY WE USE OBEJCT ORIENTED PROGRAMMING - : \n",
    "\n",
    "IT SIMPLY MAKE OUR CODE STRUCTURED FOR FURTHER USE AND ENHANCE THE RESUABILITY OF CODE SO OTHER DVELOPERS CAN EASILY CONTRUBUTION IN THAT CODE IN FUTURE IF THEY WANT"
   ]
  },
  {
   "cell_type": "code",
   "execution_count": 15,
   "id": "c0086c24-3d68-42f4-96d4-bf2bc68bdfbc",
   "metadata": {},
   "outputs": [],
   "source": [
    "class test:\n",
    "    pass"
   ]
  },
  {
   "cell_type": "code",
   "execution_count": 16,
   "id": "459ea624-dc4c-41a3-881c-6be2f494f9f5",
   "metadata": {},
   "outputs": [],
   "source": [
    "a=test()"
   ]
  },
  {
   "cell_type": "code",
   "execution_count": 17,
   "id": "2b3e4bf0-38d5-4b44-bde7-3ad637661a9f",
   "metadata": {},
   "outputs": [
    {
     "data": {
      "text/plain": [
       "__main__.test"
      ]
     },
     "execution_count": 17,
     "metadata": {},
     "output_type": "execute_result"
    }
   ],
   "source": [
    "type(a)"
   ]
  },
  {
   "cell_type": "code",
   "execution_count": 21,
   "id": "9eea35ef-8f2a-40e6-b45f-cc8f32c9c82e",
   "metadata": {},
   "outputs": [
    {
     "name": "stdout",
     "output_type": "stream",
     "text": [
      "<class '__main__.test'>\n"
     ]
    }
   ],
   "source": [
    "print(type(a))"
   ]
  },
  {
   "cell_type": "markdown",
   "id": "2a916cf5-c414-4a0d-aea5-308beba2b8e2",
   "metadata": {},
   "source": [
    "\" SELF \" - THE FUNCTION THAT WE WRITE INSIDE THE CLASS , IT SHOULD BE BINDED WITH THE CLASS THAN CLASS UNDERSTAND THE METHOD INSIDE THE FUNCTION SO WE USE \" SELF \" AS A VERY VERY FIRST PARAMETER  "
   ]
  },
  {
   "cell_type": "code",
   "execution_count": 32,
   "id": "9ab966c5-8d78-4a41-9960-2e0ae78bc9c0",
   "metadata": {},
   "outputs": [],
   "source": [
    "class DataMinds:\n",
    "    def welcome_msg(self):\n",
    "        print(\"Welcome to Data Minds\")"
   ]
  },
  {
   "cell_type": "code",
   "execution_count": 33,
   "id": "423ae1aa-6c95-4afc-98aa-8649e89c8d28",
   "metadata": {},
   "outputs": [],
   "source": [
    "Virat=DataMinds()"
   ]
  },
  {
   "cell_type": "code",
   "execution_count": 34,
   "id": "6bbf5f53-c8e2-4dbd-abeb-027e1339c926",
   "metadata": {},
   "outputs": [
    {
     "name": "stdout",
     "output_type": "stream",
     "text": [
      "<class '__main__.DataMinds'>\n"
     ]
    }
   ],
   "source": [
    "print(type(Virat))"
   ]
  },
  {
   "cell_type": "code",
   "execution_count": 35,
   "id": "eba8c178-83ad-4241-a65c-8541c7cea0ef",
   "metadata": {},
   "outputs": [
    {
     "name": "stdout",
     "output_type": "stream",
     "text": [
      "Welcome to Data Minds\n"
     ]
    }
   ],
   "source": [
    "Virat.welcome_msg()"
   ]
  },
  {
   "cell_type": "code",
   "execution_count": 37,
   "id": "4f747147-f79c-45f0-a20a-296290cf1b99",
   "metadata": {},
   "outputs": [],
   "source": [
    "Yash=DataMinds()"
   ]
  },
  {
   "cell_type": "code",
   "execution_count": 38,
   "id": "57cc0770-efc8-487a-afbd-512f81ca1127",
   "metadata": {},
   "outputs": [
    {
     "name": "stdout",
     "output_type": "stream",
     "text": [
      "Welcome to Data Minds\n"
     ]
    }
   ],
   "source": [
    "Yash.welcome_msg()"
   ]
  },
  {
   "cell_type": "code",
   "execution_count": 39,
   "id": "ba275170-fe12-4616-8748-51b88864f92a",
   "metadata": {},
   "outputs": [],
   "source": [
    "Rohit=DataMinds()"
   ]
  },
  {
   "cell_type": "code",
   "execution_count": 40,
   "id": "2d5f6af7-47a3-4613-a5df-9cfc91931d42",
   "metadata": {},
   "outputs": [
    {
     "name": "stdout",
     "output_type": "stream",
     "text": [
      "Welcome to Data Minds\n"
     ]
    }
   ],
   "source": [
    "Rohit.welcome_msg()"
   ]
  },
  {
   "cell_type": "markdown",
   "id": "95ae0e67-d33b-4267-9940-db53c3c0e9c8",
   "metadata": {},
   "source": [
    "\"\" __init__ \"\" = THIS IS INBUILT FUNCTION , IT IS KNOWN AS INITIALISATION , WHENEVER WE WANT TO PASS THE DATA OR SOMETHING INSIDE THE CLASS THAN WE WILL CALL THIS FUNCTION OR SIMPLY USE IT.\n",
    "\n",
    "IT IS SIMPLY A CONSTRUCTOR."
   ]
  },
  {
   "cell_type": "code",
   "execution_count": 49,
   "id": "23ea912c-ea9c-47dd-a307-c178c4737c94",
   "metadata": {},
   "outputs": [],
   "source": [
    "class DataMinds:\n",
    "    def __init__(self,mob_no,email_id,student_id):\n",
    "        self.mob_no=mob_no\n",
    "        self.email_id=email_id\n",
    "        self.student_id=student_id\n",
    "        \n",
    "    def return_student_details(self):\n",
    "        return self.student_id,self.mob_no,self.email_id"
   ]
  },
  {
   "cell_type": "code",
   "execution_count": 71,
   "id": "47903aa8-ede0-49f6-96f2-9a4c64dcc8f5",
   "metadata": {},
   "outputs": [
    {
     "data": {
      "text/plain": [
       "2014567"
      ]
     },
     "execution_count": 71,
     "metadata": {},
     "output_type": "execute_result"
    }
   ],
   "source": [
    "Virat.mob_no"
   ]
  },
  {
   "cell_type": "code",
   "execution_count": 75,
   "id": "ef3379fe-ccfb-4413-8865-8fa99beca96f",
   "metadata": {},
   "outputs": [
    {
     "data": {
      "text/plain": [
       "'Virat@gmail.com'"
      ]
     },
     "execution_count": 75,
     "metadata": {},
     "output_type": "execute_result"
    }
   ],
   "source": [
    "Virat.email_id"
   ]
  },
  {
   "cell_type": "code",
   "execution_count": 76,
   "id": "cf47dd40-a52c-4784-97dc-9a0ca6854deb",
   "metadata": {},
   "outputs": [
    {
     "data": {
      "text/plain": [
       "21"
      ]
     },
     "execution_count": 76,
     "metadata": {},
     "output_type": "execute_result"
    }
   ],
   "source": [
    "Virat.student_id"
   ]
  },
  {
   "cell_type": "code",
   "execution_count": 50,
   "id": "aed5e0d2-9187-472b-a16d-eb3457448ed5",
   "metadata": {},
   "outputs": [
    {
     "ename": "TypeError",
     "evalue": "DataMinds.__init__() missing 3 required positional arguments: 'mob_no', 'email_id', and 'student_id'",
     "output_type": "error",
     "traceback": [
      "\u001b[0;31m---------------------------------------------------------------------------\u001b[0m",
      "\u001b[0;31mTypeError\u001b[0m                                 Traceback (most recent call last)",
      "Cell \u001b[0;32mIn[50], line 3\u001b[0m\n\u001b[1;32m      1\u001b[0m \u001b[38;5;66;03m#NOTE - DUE IT __INIT__ FUNCTION IT REQUIRE THE DATA WHENEVER WE EXECUTE THE CODE\u001b[39;00m\n\u001b[0;32m----> 3\u001b[0m Virat\u001b[38;5;241m=\u001b[39m\u001b[43mDataMinds\u001b[49m\u001b[43m(\u001b[49m\u001b[43m)\u001b[49m\n",
      "\u001b[0;31mTypeError\u001b[0m: DataMinds.__init__() missing 3 required positional arguments: 'mob_no', 'email_id', and 'student_id'"
     ]
    }
   ],
   "source": [
    "#NOTE - DUE IT __INIT__ FUNCTION IT REQUIRE THE DATA WHENEVER WE EXECUTE THE CODE\n",
    "\n",
    "Virat=DataMinds()"
   ]
  },
  {
   "cell_type": "code",
   "execution_count": 52,
   "id": "364f8d31-4de7-430e-806e-2036b5d04495",
   "metadata": {},
   "outputs": [],
   "source": [
    "Virat=DataMinds(123654789,\"Virat@gmail.com\",101)"
   ]
  },
  {
   "cell_type": "markdown",
   "id": "408ea256-9d18-4d11-8ad6-deea489d572b",
   "metadata": {},
   "source": [
    "NOTE - \" SELF \" IS NOTHING BUT THE WAY TO ACCESS THE CLASS VARIABLE "
   ]
  },
  {
   "cell_type": "code",
   "execution_count": 55,
   "id": "591579f4-98e2-4b7f-a236-17a4eaab4f62",
   "metadata": {},
   "outputs": [
    {
     "data": {
      "text/plain": [
       "(101, 123654789, 'Virat@gmail.com')"
      ]
     },
     "execution_count": 55,
     "metadata": {},
     "output_type": "execute_result"
    }
   ],
   "source": [
    "Virat.return_student_details()"
   ]
  },
  {
   "cell_type": "code",
   "execution_count": 56,
   "id": "43aed2b0-3638-4e66-ac02-059fd0c57039",
   "metadata": {},
   "outputs": [],
   "source": [
    "Yash=DataMinds(54698726,\"Yahs@gmail.com\",102)"
   ]
  },
  {
   "cell_type": "code",
   "execution_count": 57,
   "id": "be0d6e64-bd31-4601-bb9c-a158f3125ab4",
   "metadata": {},
   "outputs": [
    {
     "data": {
      "text/plain": [
       "(102, 54698726, 'Yahs@gmail.com')"
      ]
     },
     "execution_count": 57,
     "metadata": {},
     "output_type": "execute_result"
    }
   ],
   "source": [
    "Yash.return_student_details()"
   ]
  },
  {
   "cell_type": "code",
   "execution_count": 58,
   "id": "3c583dc5-946f-43b5-a3dd-6e4330a77049",
   "metadata": {},
   "outputs": [],
   "source": [
    "Rohit=DataMinds(94567,\"Rohit@gmail.com\",103)"
   ]
  },
  {
   "cell_type": "code",
   "execution_count": 59,
   "id": "b9855e8d-ab80-447d-bce4-37a641f2109c",
   "metadata": {},
   "outputs": [
    {
     "data": {
      "text/plain": [
       "(103, 94567, 'Rohit@gmail.com')"
      ]
     },
     "execution_count": 59,
     "metadata": {},
     "output_type": "execute_result"
    }
   ],
   "source": [
    "Rohit.return_student_details()"
   ]
  },
  {
   "cell_type": "code",
   "execution_count": 62,
   "id": "23480f0d-7331-4364-9e8a-7073ff98c0f6",
   "metadata": {},
   "outputs": [],
   "source": [
    "Happy=DataMinds(80467,\"Happy@gmail.com\",104)"
   ]
  },
  {
   "cell_type": "code",
   "execution_count": 65,
   "id": "4043ed6f-a903-414a-96ce-e36580748854",
   "metadata": {},
   "outputs": [
    {
     "data": {
      "text/plain": [
       "(104, 80467, 'Happy@gmail.com')"
      ]
     },
     "execution_count": 65,
     "metadata": {},
     "output_type": "execute_result"
    }
   ],
   "source": [
    "Happy.return_student_details()"
   ]
  },
  {
   "cell_type": "code",
   "execution_count": 83,
   "id": "410ad8c5-6a0c-4478-a940-7ee562342f1c",
   "metadata": {},
   "outputs": [],
   "source": [
    "class DataMinds1:\n",
    "    def __init__(self,mob_no1,email_id1,student_id1):\n",
    "        self.mob_no1=mob_no1\n",
    "        self.email_id1=email_id1\n",
    "        self.student_id1=student_id1\n",
    "        \n",
    "    def return_student_details(self):\n",
    "        return self.student_id1,self.mob_no1,self.email_id1"
   ]
  },
  {
   "cell_type": "code",
   "execution_count": 93,
   "id": "a4563f35-e034-42ec-b8f0-82842f91fc7b",
   "metadata": {},
   "outputs": [],
   "source": [
    "Virat=DataMinds1(2014567,\"Virat@gmail.com\",22)"
   ]
  },
  {
   "cell_type": "code",
   "execution_count": 94,
   "id": "5c51e2eb-96fd-4a15-a5d9-04bdc9e3e74f",
   "metadata": {},
   "outputs": [
    {
     "data": {
      "text/plain": [
       "<__main__.DataMinds1 at 0x7fb05049efb0>"
      ]
     },
     "execution_count": 94,
     "metadata": {},
     "output_type": "execute_result"
    }
   ],
   "source": [
    "Virat"
   ]
  },
  {
   "cell_type": "code",
   "execution_count": 95,
   "id": "98e9a106-71e3-4921-8d88-f1ccdb6ab680",
   "metadata": {},
   "outputs": [
    {
     "data": {
      "text/plain": [
       "22"
      ]
     },
     "execution_count": 95,
     "metadata": {},
     "output_type": "execute_result"
    }
   ],
   "source": [
    "Virat.student_id1"
   ]
  },
  {
   "cell_type": "code",
   "execution_count": 98,
   "id": "99634dc4-093d-44d6-a95d-53a071ecbd20",
   "metadata": {},
   "outputs": [
    {
     "data": {
      "text/plain": [
       "(22, 2014567, 'Virat@gmail.com')"
      ]
     },
     "execution_count": 98,
     "metadata": {},
     "output_type": "execute_result"
    }
   ],
   "source": [
    "Virat.return_student_details()"
   ]
  },
  {
   "cell_type": "code",
   "execution_count": 101,
   "id": "f6add91f-bc9b-400f-a195-6f31c31a39b8",
   "metadata": {},
   "outputs": [
    {
     "data": {
      "text/plain": [
       "'Virat@gmail.com'"
      ]
     },
     "execution_count": 101,
     "metadata": {},
     "output_type": "execute_result"
    }
   ],
   "source": [
    "Virat.email_id1"
   ]
  },
  {
   "cell_type": "code",
   "execution_count": 102,
   "id": "b2890faa-cef1-465d-a35e-bdf7b07f8e2d",
   "metadata": {},
   "outputs": [],
   "source": [
    "class DataMinds1:\n",
    "    def __init__(virat,mob_no1,email_id1,student_id1):\n",
    "        virat.mob_no1=mob_no1\n",
    "        virat.email_id1=email_id1\n",
    "        virat.student_id1=student_id1\n",
    "        \n",
    "    def return_student_details(virat):\n",
    "        return virat.student_id1,virat.mob_no1,virat.email_id1"
   ]
  },
  {
   "cell_type": "code",
   "execution_count": 105,
   "id": "c60e162c-d94b-4b5d-9f33-5371756a7fa3",
   "metadata": {},
   "outputs": [],
   "source": [
    "Virat=DataMinds1(984036,\"Virat20@gmsil.vom\",105)"
   ]
  },
  {
   "cell_type": "code",
   "execution_count": 106,
   "id": "ad6c3c59-125e-4581-b02c-e4c52b58139a",
   "metadata": {},
   "outputs": [
    {
     "data": {
      "text/plain": [
       "'Virat20@gmsil.vom'"
      ]
     },
     "execution_count": 106,
     "metadata": {},
     "output_type": "execute_result"
    }
   ],
   "source": [
    "Virat.email_id1"
   ]
  },
  {
   "cell_type": "markdown",
   "id": "529f6e32-23f0-428c-a330-a9d5de6f240d",
   "metadata": {},
   "source": [
    "NOTE - \" SELF \" IS NOT A RESERVED KEYWORD , WE CAN USE ANYTHING IN PLACE OF SELF , WE USE OUR NAME , ANYTHING THAT WE WANT TO WRITE ."
   ]
  },
  {
   "cell_type": "markdown",
   "id": "19fd7ccb-eaf9-4e78-8e31-4943fce9a9b5",
   "metadata": {},
   "source": [
    "IN THE UPCOMING SESSIONS WE WILL DEEP DIVE MORE N MORE IN OOPS"
   ]
  },
  {
   "cell_type": "markdown",
   "id": "b194c518-49d0-4ca3-9dc4-5c8a45912d39",
   "metadata": {},
   "source": [
    "STAY TUNED - VIRAT TIWARI"
   ]
  },
  {
   "cell_type": "code",
   "execution_count": null,
   "id": "aed1d7a5-5233-4275-83a9-4d845a781cc6",
   "metadata": {},
   "outputs": [],
   "source": []
  }
 ],
 "metadata": {
  "kernelspec": {
   "display_name": "Python 3 (ipykernel)",
   "language": "python",
   "name": "python3"
  },
  "language_info": {
   "codemirror_mode": {
    "name": "ipython",
    "version": 3
   },
   "file_extension": ".py",
   "mimetype": "text/x-python",
   "name": "python",
   "nbconvert_exporter": "python",
   "pygments_lexer": "ipython3",
   "version": "3.10.8"
  }
 },
 "nbformat": 4,
 "nbformat_minor": 5
}
