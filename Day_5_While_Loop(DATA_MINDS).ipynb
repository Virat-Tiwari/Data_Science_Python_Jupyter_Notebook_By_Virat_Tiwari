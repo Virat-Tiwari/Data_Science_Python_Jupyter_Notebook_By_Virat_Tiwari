{
 "cells": [
  {
   "cell_type": "code",
   "execution_count": null,
   "id": "d530aa6a-5702-433e-99c7-3076fed5622b",
   "metadata": {},
   "outputs": [
    {
     "name": "stdout",
     "output_type": "stream",
     "text": [
      "1\n",
      "2\n",
      "3\n",
      "4\n",
      "5\n",
      "6\n",
      "7\n",
      "8\n",
      "9\n",
      "10\n"
     ]
    }
   ],
   "source": [
    "#While loop first check the condition is right or wrong but for loop is not do this \n",
    "#after that while loop will execute the next step\n",
    "\n",
    "a=1\n",
    "while a<=10:\n",
    "    print(a)\n",
    "    a=a+1\n",
    "    "
   ]
  },
  {
   "cell_type": "code",
   "execution_count": null,
   "id": "bcf08611-cab0-4ac5-8a31-e785e16a97d8",
   "metadata": {},
   "outputs": [],
   "source": [
    "#SUM UP THE NO TILL SOME POINT"
   ]
  },
  {
   "cell_type": "code",
   "execution_count": 7,
   "id": "61f8b411-818c-4425-8b1b-08a467913c4b",
   "metadata": {},
   "outputs": [
    {
     "name": "stdin",
     "output_type": "stream",
     "text": [
      "Enter your limit 5\n"
     ]
    },
    {
     "data": {
      "text/plain": [
       "15"
      ]
     },
     "execution_count": 7,
     "metadata": {},
     "output_type": "execute_result"
    }
   ],
   "source": [
    "n=int(input(\"Enter your limit\"))\n",
    "starting_point=0\n",
    "counter=1\n",
    "while counter<=n:\n",
    "            starting_point=starting_point+counter\n",
    "            counter = counter+1\n",
    "starting_point\n",
    "                                              "
   ]
  },
  {
   "cell_type": "code",
   "execution_count": null,
   "id": "a7f357dc-06ac-49af-a876-44e83dbbfaf5",
   "metadata": {},
   "outputs": [],
   "source": [
    "#FACTORIAL"
   ]
  },
  {
   "cell_type": "code",
   "execution_count": 11,
   "id": "10bc8b44-524d-4937-93f4-0544dba9d662",
   "metadata": {},
   "outputs": [
    {
     "name": "stdin",
     "output_type": "stream",
     "text": [
      "Enter your no :  5\n"
     ]
    },
    {
     "data": {
      "text/plain": [
       "120"
      ]
     },
     "execution_count": 11,
     "metadata": {},
     "output_type": "execute_result"
    }
   ],
   "source": [
    "b=int(input(\"Enter your no : \"))\n",
    "factorial=1\n",
    "while b>0:\n",
    "    factorial=factorial*b\n",
    "    b=b-1\n",
    "factorial"
   ]
  },
  {
   "cell_type": "code",
   "execution_count": 12,
   "id": "ee3346c0-6825-4501-9497-88c2bcdcdb89",
   "metadata": {},
   "outputs": [],
   "source": [
    "#FIBONACCI SERIES"
   ]
  },
  {
   "cell_type": "code",
   "execution_count": 13,
   "id": "459d0146-94da-436c-a6ec-cc429c04b362",
   "metadata": {},
   "outputs": [
    {
     "name": "stdin",
     "output_type": "stream",
     "text": [
      "Enter your value  :  10\n"
     ]
    },
    {
     "name": "stdout",
     "output_type": "stream",
     "text": [
      "0\n",
      "1\n",
      "1\n",
      "2\n",
      "3\n",
      "5\n",
      "8\n",
      "13\n",
      "21\n",
      "34\n"
     ]
    }
   ],
   "source": [
    "c=int(input(\"Enter your value  : \"))\n",
    "a,b=0,1\n",
    "counter=0\n",
    "while counter < c:\n",
    "    print(a)\n",
    "    d=a+b\n",
    "    a=b\n",
    "    b=d\n",
    "    counter=counter+1\n",
    "    "
   ]
  },
  {
   "cell_type": "code",
   "execution_count": 1,
   "id": "9901ce93-b554-4b8f-b26b-0276c671b941",
   "metadata": {},
   "outputs": [
    {
     "name": "stdout",
     "output_type": "stream",
     "text": [
      "0\n",
      "1\n",
      "1\n",
      "2\n",
      "3\n",
      "5\n",
      "8\n",
      "13\n",
      "21\n",
      "34\n"
     ]
    }
   ],
   "source": [
    "a,b=0,1\n",
    "for i in range(10):\n",
    "    print(a)\n",
    "    d=a+b\n",
    "    a=b\n",
    "    b=d\n",
    "    "
   ]
  },
  {
   "cell_type": "code",
   "execution_count": 2,
   "id": "6b3446fe-3c47-4ab4-9355-bd61b0b5e8ec",
   "metadata": {},
   "outputs": [],
   "source": [
    "a=\"virat\""
   ]
  },
  {
   "cell_type": "code",
   "execution_count": 3,
   "id": "5c9102e0-7562-411f-92fa-5998a0e3ae7d",
   "metadata": {},
   "outputs": [
    {
     "data": {
      "text/plain": [
       "'tariv'"
      ]
     },
     "execution_count": 3,
     "metadata": {},
     "output_type": "execute_result"
    }
   ],
   "source": [
    "a[::-1]"
   ]
  },
  {
   "cell_type": "code",
   "execution_count": 5,
   "id": "b69af497-b2ca-43ca-a4d6-53d7786621e7",
   "metadata": {},
   "outputs": [
    {
     "name": "stdin",
     "output_type": "stream",
     "text": [
      "Enter your name :  virat\n"
     ]
    }
   ],
   "source": [
    "name=input(\"Enter your name : \")\n"
   ]
  },
  {
   "cell_type": "code",
   "execution_count": null,
   "id": "01cab07d-683e-49dd-848a-517bc4a7fc09",
   "metadata": {},
   "outputs": [],
   "source": [
    "reverse=\"\"\n",
    "length=len(name)\n",
    "while length>0:\n",
    "    reverse=reverse+name[length-1]\n",
    "    length=length-1\n",
    "print(reverse)"
   ]
  },
  {
   "cell_type": "code",
   "execution_count": null,
   "id": "ebef9820-44ac-4e6c-848a-ade65ca214e3",
   "metadata": {},
   "outputs": [],
   "source": [
    "#PRINT TABLE OF NUMBERS"
   ]
  },
  {
   "cell_type": "code",
   "execution_count": null,
   "id": "05f88cef-460f-401c-bb3a-6ca9a4b7b753",
   "metadata": {},
   "outputs": [],
   "source": [
    "n=int(input(\"Enter your number : \"))\n",
    "i=1\n",
    "while i<=10:\n",
    "    result=n*i\n",
    "    print(n,\"*\",i,\"=\",result)\n",
    "    i=i+1"
   ]
  },
  {
   "cell_type": "code",
   "execution_count": null,
   "id": "2460d10a-b375-4139-aaf9-a6800f22e901",
   "metadata": {},
   "outputs": [],
   "source": []
  }
 ],
 "metadata": {
  "kernelspec": {
   "display_name": "Python 3 (ipykernel)",
   "language": "python",
   "name": "python3"
  },
  "language_info": {
   "codemirror_mode": {
    "name": "ipython",
    "version": 3
   },
   "file_extension": ".py",
   "mimetype": "text/x-python",
   "name": "python",
   "nbconvert_exporter": "python",
   "pygments_lexer": "ipython3",
   "version": "3.10.8"
  }
 },
 "nbformat": 4,
 "nbformat_minor": 5
}
