{
 "cells": [
  {
   "cell_type": "markdown",
   "id": "5b348b12-602e-4ab2-8062-88e0c45a613b",
   "metadata": {},
   "source": [
    "INHERITANCE :- IN INHERITANCE WE USE THE CLASS OF OTHER COFE IN OUR CLASS OR CODE WITHOUT MAKING THE NEW CLASS OR FUNCTION , IT REDUCE THE SIZE OF CODE AND IMPROVE THE REUSABILTY OF CODE\n",
    "\n",
    "WE SIMPLY INHERIT THE PROPERTIES OF PARENT CLASS TO CHILD CLASS WITHOUT MAKING NEW CLASS  OR CODE\n",
    "\n",
    "NOTE - IN INHERITANCE WE ACCESS THE ONE CLASS INTO THE OTHER CLASS"
   ]
  },
  {
   "cell_type": "code",
   "execution_count": 5,
   "id": "faa961d8-afc9-48e1-885c-a704f4cc981a",
   "metadata": {},
   "outputs": [],
   "source": [
    "class test:\n",
    "    def test_meth(self):\n",
    "        return \"This is my first class by Virat Tiwari\""
   ]
  },
  {
   "cell_type": "code",
   "execution_count": 6,
   "id": "11c45c93-4e4b-4878-8928-8f4134122d4a",
   "metadata": {},
   "outputs": [],
   "source": [
    "class child_test(test):\n",
    "    pass"
   ]
  },
  {
   "cell_type": "code",
   "execution_count": 7,
   "id": "710d5190-6f52-4fe0-8a08-0117f9e1995f",
   "metadata": {},
   "outputs": [],
   "source": [
    "child_test_obj=child_test()\n"
   ]
  },
  {
   "cell_type": "code",
   "execution_count": 8,
   "id": "4e9a6ca2-608c-4671-9ffb-2bd76ef82a11",
   "metadata": {},
   "outputs": [
    {
     "data": {
      "text/plain": [
       "'This is my first class by Virat Tiwari'"
      ]
     },
     "execution_count": 8,
     "metadata": {},
     "output_type": "execute_result"
    }
   ],
   "source": [
    "child_test_obj.test_meth()"
   ]
  },
  {
   "cell_type": "markdown",
   "id": "3bd35d48-0e31-4fe8-9fdc-f628b7f412bc",
   "metadata": {},
   "source": [
    "MULTILEVEL INHERITANCE : - IN MULTILEVEL INHERITANCE IT INHERIT OR INVOKE THE CLASS IN HEIRARICHI LIKE THERE ARE THREE(3) CLASSES - CLASS 1, CLASS 2 ,CLASS 3 , SO CLASS 2 IS HERIT THE PROPERTIES OF CLASS 1 AND CLASS 3 IS INHERIT THE PROPERTIES OF CLASS 2"
   ]
  },
  {
   "cell_type": "code",
   "execution_count": 19,
   "id": "b0665877-c83d-4ee1-97e1-e3ca07295708",
   "metadata": {},
   "outputs": [],
   "source": [
    "class class1:\n",
    "    def test_class1(self):\n",
    "        return \"This is method from class1\""
   ]
  },
  {
   "cell_type": "code",
   "execution_count": 20,
   "id": "322389de-3732-4f98-9e0c-25d32e7964f3",
   "metadata": {},
   "outputs": [],
   "source": [
    "class class2(class1):\n",
    "    def test_class2(self):\n",
    "        return \"This is method of class2\""
   ]
  },
  {
   "cell_type": "code",
   "execution_count": 21,
   "id": "3d44a92b-f608-40bc-9d35-c1075ffb2e50",
   "metadata": {},
   "outputs": [],
   "source": [
    "class class3(class2):\n",
    "    pass"
   ]
  },
  {
   "cell_type": "code",
   "execution_count": 22,
   "id": "32564451-f4a5-448f-8e46-a6b5a1296199",
   "metadata": {},
   "outputs": [],
   "source": [
    "obj_class3=class3()"
   ]
  },
  {
   "cell_type": "code",
   "execution_count": 23,
   "id": "d462c4dd-e406-40ff-9980-fc69b42b01f5",
   "metadata": {},
   "outputs": [
    {
     "data": {
      "text/plain": [
       "'This is method from class1'"
      ]
     },
     "execution_count": 23,
     "metadata": {},
     "output_type": "execute_result"
    }
   ],
   "source": [
    "obj_class3.test_class1()"
   ]
  },
  {
   "cell_type": "code",
   "execution_count": 24,
   "id": "8e01f978-8c2d-4401-9ea7-ebd7bf9de0ee",
   "metadata": {},
   "outputs": [
    {
     "data": {
      "text/plain": [
       "'This is method of class2'"
      ]
     },
     "execution_count": 24,
     "metadata": {},
     "output_type": "execute_result"
    }
   ],
   "source": [
    "obj_class3.test_class2()"
   ]
  },
  {
   "cell_type": "markdown",
   "id": "0d2403bc-b3c5-4101-9929-2500c735cdc6",
   "metadata": {},
   "source": [
    "MULTIPLE INHERITANCE : - IN MULTIPLE INHERITANCE WE ACCESS THE CLASSES FROM MULTILE CLASS LIKE \"CLASS OF SON\" ACCESS THE PROPERTIES FROM \"CLASS OF FATHER\" AND \"CLASS OF MOTHER\" BOTH "
   ]
  },
  {
   "cell_type": "code",
   "execution_count": 27,
   "id": "445201e6-0068-4494-bb3c-f7f4ad06d35a",
   "metadata": {},
   "outputs": [],
   "source": [
    "class class1:\n",
    "    def test_class1(self):\n",
    "        return \"This is class1 by Virat Tiwari\""
   ]
  },
  {
   "cell_type": "code",
   "execution_count": 28,
   "id": "6d656bc0-ee7c-4b99-a148-85c6b62eea6c",
   "metadata": {},
   "outputs": [],
   "source": [
    "class class2:\n",
    "    def test_class2(self):\n",
    "        return \"This is class2 by Virat tiwari\""
   ]
  },
  {
   "cell_type": "code",
   "execution_count": 29,
   "id": "8098c9dc-3696-46df-bd87-7f9f88c19ed3",
   "metadata": {},
   "outputs": [],
   "source": [
    "class class3(class1,class2):\n",
    "    pass"
   ]
  },
  {
   "cell_type": "code",
   "execution_count": 30,
   "id": "921bd98f-e82e-4a35-8841-be7bb593593f",
   "metadata": {},
   "outputs": [],
   "source": [
    "obj_class3=class3()"
   ]
  },
  {
   "cell_type": "code",
   "execution_count": 31,
   "id": "2f286df4-034c-41cf-b7c7-7fc25f4efe35",
   "metadata": {},
   "outputs": [
    {
     "data": {
      "text/plain": [
       "'This is class1 by Virat Tiwari'"
      ]
     },
     "execution_count": 31,
     "metadata": {},
     "output_type": "execute_result"
    }
   ],
   "source": [
    "obj_class3.test_class1()"
   ]
  },
  {
   "cell_type": "code",
   "execution_count": 32,
   "id": "9fb976af-8443-4dad-ab40-06c4699eaef0",
   "metadata": {},
   "outputs": [
    {
     "data": {
      "text/plain": [
       "'This is class2 by Virat tiwari'"
      ]
     },
     "execution_count": 32,
     "metadata": {},
     "output_type": "execute_result"
    }
   ],
   "source": [
    "obj_class3.test_class2()"
   ]
  }
 ],
 "metadata": {
  "kernelspec": {
   "display_name": "Python 3 (ipykernel)",
   "language": "python",
   "name": "python3"
  },
  "language_info": {
   "codemirror_mode": {
    "name": "ipython",
    "version": 3
   },
   "file_extension": ".py",
   "mimetype": "text/x-python",
   "name": "python",
   "nbconvert_exporter": "python",
   "pygments_lexer": "ipython3",
   "version": "3.10.8"
  }
 },
 "nbformat": 4,
 "nbformat_minor": 5
}
