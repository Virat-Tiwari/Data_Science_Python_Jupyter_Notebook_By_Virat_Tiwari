{
 "cells": [
  {
   "cell_type": "markdown",
   "id": "dbf6b89c-4c9a-485c-b3b9-8ebc79f0880e",
   "metadata": {},
   "source": [
    "TOPIC - LOGGING "
   ]
  },
  {
   "cell_type": "markdown",
   "id": "b917b867-8635-4c4a-91fc-680deff516a2",
   "metadata": {},
   "source": [
    "LOGGING - IT GENRALLY CREATES A FILE IN WHICH IT HOLDS ALL THE DATA THAT WE WANT TO USE WHENEVER WE PERFOR THE INVESTIGATION IN FUTURE .\n",
    "\n",
    "LIKE IF WE PRINT SOMETHING SO OBIOUSLY IT PRINT ON THE CONSOLE BUT AFTER USING THE LOGGING IT DOES NOT PRINT ON CONSOLE IT PRINT OR STORE IN A FILE,\n",
    "IN PRODUCTION GRADE CODE WE ALWAYS TRY TO WRITE OR PUT CODE IN LOGGING  MANNER WITHOUT USING THE PRINT ( ) FUNCTION.\n",
    "\n",
    "WE SHOULD REPLACE THE PRINT ( ) FUNCTION BY USING LOGGING MODULE.\n",
    "\n",
    "NOTE - BY USING THE LOGGING WE CREATE THE FILE OF OUTPUT THAT PRINT IN CONSOLE AND IT STORED IN HARD DISK FOR A VERY VERY LONG TIME"
   ]
  },
  {
   "cell_type": "code",
   "execution_count": 5,
   "id": "19f81285-63d2-479b-b6f3-7e55d20a68bd",
   "metadata": {},
   "outputs": [],
   "source": [
    "import logging"
   ]
  },
  {
   "cell_type": "code",
   "execution_count": 6,
   "id": "72746b0d-a028-43ea-bcc9-579d0a8d8417",
   "metadata": {},
   "outputs": [],
   "source": [
    "logging.basicConfig(filename=\"test.log\" , level=logging.INFO)"
   ]
  },
  {
   "cell_type": "code",
   "execution_count": 7,
   "id": "e445b806-d2a3-4476-8ae1-3c86411ac52f",
   "metadata": {},
   "outputs": [],
   "source": [
    "logging.info(\"This is Virat Tiwari\")"
   ]
  },
  {
   "cell_type": "code",
   "execution_count": 8,
   "id": "0a91ca71-c142-40b0-9c84-cac4910eb897",
   "metadata": {},
   "outputs": [],
   "source": [
    "logging.info(\"I read and write Data Science Code \")"
   ]
  },
  {
   "cell_type": "code",
   "execution_count": 9,
   "id": "dbb114f8-3bc3-4ebf-800c-bde0c2aa2470",
   "metadata": {},
   "outputs": [],
   "source": [
    "logging.info(\"Data Science is the art of uncovering hidden patterns behind the data\")"
   ]
  },
  {
   "cell_type": "markdown",
   "id": "cbdbd2b1-6b0e-4308-900b-f2094fde906a",
   "metadata": {},
   "source": [
    "NOTE - IN PRINT ( ) FUNCTION WE HAVE ONLY A PRINT FUNCTION THAT SIMPLY PRINT THE OUTPUT IN CONSOLE \n",
    "BUT IN LOGGING MODULE WE HAVE DIFFERNT KINDS OF LEVELS OR WE SAY TEMPLATES ALSO - : \n",
    "\n",
    "1 ) NOTESET,\n",
    "\n",
    "2 ) DEBUG,\n",
    "\n",
    "3 ) INFO,\n",
    "\n",
    "4 ) WARNING,\n",
    "\n",
    "5 ) ERROR,\n",
    "\n",
    "6 ) CRITICAL"
   ]
  },
  {
   "cell_type": "code",
   "execution_count": 10,
   "id": "e1348d15-9d89-44de-b8fa-49cb6534c968",
   "metadata": {},
   "outputs": [],
   "source": [
    "logging.warning(\"This is my warning message \")"
   ]
  },
  {
   "cell_type": "code",
   "execution_count": 11,
   "id": "012bfc5e-5415-4bcc-ae0e-3bf8e5d8abd7",
   "metadata": {},
   "outputs": [],
   "source": [
    "logging.error(\"We found error in the name of Virat\")"
   ]
  },
  {
   "cell_type": "code",
   "execution_count": 12,
   "id": "d9371793-eecc-4f51-85af-80f3373105ab",
   "metadata": {},
   "outputs": [],
   "source": [
    "logging.critical(\"This is critical case of logging\")"
   ]
  },
  {
   "cell_type": "code",
   "execution_count": null,
   "id": "67bbdf8b-a8a7-446b-9574-3faceb1426ef",
   "metadata": {},
   "outputs": [],
   "source": [
    "logging.shutdown()"
   ]
  },
  {
   "cell_type": "code",
   "execution_count": null,
   "id": "4f6c0f63-3616-4c9b-a845-b0c4a67fc5f4",
   "metadata": {},
   "outputs": [],
   "source": [
    "import logging"
   ]
  },
  {
   "cell_type": "code",
   "execution_count": null,
   "id": "004fddfa-715c-4730-a84e-68f39e6123d3",
   "metadata": {},
   "outputs": [],
   "source": [
    "logging.basicConfig(filename=\"Data.log\",level=logging.DEBUG,format=\"%(asctime)s %(message)s\")"
   ]
  },
  {
   "cell_type": "code",
   "execution_count": null,
   "id": "9f294d3c-4c77-4bc0-a49d-03d272f0d823",
   "metadata": {},
   "outputs": [],
   "source": [
    "logging.info(\"This is logging info file\")\n",
    "logging.error(\"This is my error file\")\n",
    "logging.warning(\"This is my warning\")\n",
    "logging.critical(\"This is critical file\")"
   ]
  },
  {
   "cell_type": "code",
   "execution_count": null,
   "id": "944315ad-9fef-44af-b2c6-261261cecb52",
   "metadata": {},
   "outputs": [],
   "source": [
    "logging.shutdown()"
   ]
  },
  {
   "cell_type": "code",
   "execution_count": 14,
   "id": "a32b2801-3737-4078-853d-7f4c5ae62da6",
   "metadata": {},
   "outputs": [],
   "source": [
    "import logging"
   ]
  },
  {
   "cell_type": "code",
   "execution_count": 15,
   "id": "8401344a-eb5e-4c09-82c1-ce20f142f7f0",
   "metadata": {},
   "outputs": [],
   "source": [
    "logging.basicConfig(filename=\"New.log\",level=logging.DEBUG,format=\"%(asctime)s %(levelname)s %(message)s\")"
   ]
  },
  {
   "cell_type": "code",
   "execution_count": 16,
   "id": "7b10fa4d-cf7a-489c-8027-d0c583c43898",
   "metadata": {},
   "outputs": [],
   "source": [
    "logging.info(\"This is logging info file\")\n",
    "logging.error(\"This is my error file\")\n",
    "logging.warning(\"This is my warning\")\n",
    "logging.critical(\"This is critical file\")"
   ]
  },
  {
   "cell_type": "markdown",
   "id": "0669f7b8-5bf1-4b2a-b8c0-4eca83d182a8",
   "metadata": {},
   "source": [
    "PRACTICAL APPLICATION OF LOGGING - :"
   ]
  },
  {
   "cell_type": "code",
   "execution_count": 25,
   "id": "9c70156d-9148-487d-83e1-ebcf9b237a26",
   "metadata": {},
   "outputs": [],
   "source": [
    "l = [1,2,3,[9,8,7],\"Virat Tiwari\",\"Data Science\"]"
   ]
  },
  {
   "cell_type": "code",
   "execution_count": 26,
   "id": "5aaf378e-1388-4d3b-a86b-cc923c51fa74",
   "metadata": {},
   "outputs": [
    {
     "data": {
      "text/plain": [
       "[1, 2, 3, [9, 8, 7], 'Virat Tiwari', 'Data Science']"
      ]
     },
     "execution_count": 26,
     "metadata": {},
     "output_type": "execute_result"
    }
   ],
   "source": [
    "l"
   ]
  },
  {
   "cell_type": "code",
   "execution_count": 30,
   "id": "12307fb2-e133-478f-a126-243349c83af2",
   "metadata": {},
   "outputs": [],
   "source": [
    "l1_int=[]\n",
    "l2_str=[]\n",
    "for i in l:\n",
    "    logging.info(\"We are iterating through our list and local varables is i\"+str(l))\n",
    "    if type(i)==list:\n",
    "        logging.info(\"I am inside if statement and i am trying to check list type\")\n",
    "        for j in i:\n",
    "            logging.info(\"I am in another for loop for list inside element\")\n",
    "            if type(j)==int:\n",
    "                logging.info(\"I am inside the if statement\")\n",
    "                l1_int.append(j)\n",
    "    elif type(i)==int:\n",
    "        l1_int.append(i)\n",
    "    else:\n",
    "        if type(i)==str:\n",
    "            l2_str.append(i)"
   ]
  },
  {
   "cell_type": "code",
   "execution_count": 31,
   "id": "3c151514-4173-4d5b-b4ff-a87476550183",
   "metadata": {},
   "outputs": [
    {
     "data": {
      "text/plain": [
       "[1, 2, 3, 9, 8, 7]"
      ]
     },
     "execution_count": 31,
     "metadata": {},
     "output_type": "execute_result"
    }
   ],
   "source": [
    "l1_int"
   ]
  },
  {
   "cell_type": "code",
   "execution_count": 29,
   "id": "2bb57ec6-f05b-4323-a2d0-127031f57526",
   "metadata": {},
   "outputs": [
    {
     "data": {
      "text/plain": [
       "['Virat Tiwari', 'Data Science']"
      ]
     },
     "execution_count": 29,
     "metadata": {},
     "output_type": "execute_result"
    }
   ],
   "source": [
    "l2_str"
   ]
  },
  {
   "cell_type": "code",
   "execution_count": 32,
   "id": "4f5bf944-400b-4592-9fbd-3f7da18f766f",
   "metadata": {},
   "outputs": [
    {
     "data": {
      "text/plain": [
       "list"
      ]
     },
     "execution_count": 32,
     "metadata": {},
     "output_type": "execute_result"
    }
   ],
   "source": [
    "type(l)"
   ]
  },
  {
   "cell_type": "markdown",
   "id": "28589707-8633-4092-804d-57d8879dfd42",
   "metadata": {},
   "source": [
    "THANK YOU SO MUCH !!\n",
    "\n",
    "YOURS VIRAT TIWARI :)"
   ]
  }
 ],
 "metadata": {
  "kernelspec": {
   "display_name": "Python 3 (ipykernel)",
   "language": "python",
   "name": "python3"
  },
  "language_info": {
   "codemirror_mode": {
    "name": "ipython",
    "version": 3
   },
   "file_extension": ".py",
   "mimetype": "text/x-python",
   "name": "python",
   "nbconvert_exporter": "python",
   "pygments_lexer": "ipython3",
   "version": "3.10.8"
  }
 },
 "nbformat": 4,
 "nbformat_minor": 5
}
