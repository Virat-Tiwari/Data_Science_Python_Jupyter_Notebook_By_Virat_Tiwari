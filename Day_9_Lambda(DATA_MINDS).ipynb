{
 "cells": [
  {
   "cell_type": "markdown",
   "id": "caa270bd-f667-4688-967c-ebc578341029",
   "metadata": {},
   "source": [
    "LAMBDA"
   ]
  },
  {
   "cell_type": "code",
   "execution_count": 3,
   "id": "565794f0-eaba-4df5-8e99-4098fa374bac",
   "metadata": {},
   "outputs": [],
   "source": [
    "a=5\n",
    "b=2"
   ]
  },
  {
   "cell_type": "code",
   "execution_count": 4,
   "id": "1c0783fb-3f0f-4af5-b58e-b60de2976588",
   "metadata": {},
   "outputs": [],
   "source": [
    "def test(a,b):\n",
    "    return a**b"
   ]
  },
  {
   "cell_type": "code",
   "execution_count": 5,
   "id": "d803bee3-c579-410e-81be-886746e13433",
   "metadata": {},
   "outputs": [
    {
     "data": {
      "text/plain": [
       "25"
      ]
     },
     "execution_count": 5,
     "metadata": {},
     "output_type": "execute_result"
    }
   ],
   "source": [
    "test(5,2)"
   ]
  },
  {
   "cell_type": "markdown",
   "id": "f64f13df-865d-49ea-a911-37ea8f8cbb8b",
   "metadata": {},
   "source": [
    "LAMBDA - IT IS RESERVED KEYWORD IN PYTHON , we can write functions in one line with the help of Lambda"
   ]
  },
  {
   "cell_type": "code",
   "execution_count": 7,
   "id": "760061fd-cceb-4a1d-9774-8c29dd4f965e",
   "metadata": {},
   "outputs": [],
   "source": [
    "c=lambda n,p:n+p"
   ]
  },
  {
   "cell_type": "code",
   "execution_count": 8,
   "id": "b6fa909e-3969-4934-b2d7-08276430f111",
   "metadata": {},
   "outputs": [
    {
     "data": {
      "text/plain": [
       "7"
      ]
     },
     "execution_count": 8,
     "metadata": {},
     "output_type": "execute_result"
    }
   ],
   "source": [
    "c(5,2)"
   ]
  },
  {
   "cell_type": "code",
   "execution_count": 10,
   "id": "a0c341f7-a42a-4851-8306-9cb796174327",
   "metadata": {},
   "outputs": [],
   "source": [
    "a=lambda n,m:n**m"
   ]
  },
  {
   "cell_type": "code",
   "execution_count": 11,
   "id": "91a9c8e6-cdb0-4eb0-9bba-37d6f2b668d7",
   "metadata": {},
   "outputs": [
    {
     "data": {
      "text/plain": [
       "64"
      ]
     },
     "execution_count": 11,
     "metadata": {},
     "output_type": "execute_result"
    }
   ],
   "source": [
    "a(4,3)"
   ]
  },
  {
   "cell_type": "code",
   "execution_count": 12,
   "id": "1a99e82b-438f-473d-9123-3338d010aac8",
   "metadata": {},
   "outputs": [],
   "source": [
    "v=lambda a,b:a/b"
   ]
  },
  {
   "cell_type": "code",
   "execution_count": 13,
   "id": "48f18f34-6e83-458c-a803-faf03deaaba8",
   "metadata": {},
   "outputs": [
    {
     "data": {
      "text/plain": [
       "5.0"
      ]
     },
     "execution_count": 13,
     "metadata": {},
     "output_type": "execute_result"
    }
   ],
   "source": [
    "v(15,3)"
   ]
  },
  {
   "cell_type": "code",
   "execution_count": 16,
   "id": "a41878bb-847e-45f2-ad43-67e56e61535c",
   "metadata": {},
   "outputs": [],
   "source": [
    "add=lambda c,b:c+b"
   ]
  },
  {
   "cell_type": "code",
   "execution_count": 17,
   "id": "f5ff0140-543c-4a77-8728-711ca9e74e40",
   "metadata": {},
   "outputs": [
    {
     "data": {
      "text/plain": [
       "8"
      ]
     },
     "execution_count": 17,
     "metadata": {},
     "output_type": "execute_result"
    }
   ],
   "source": [
    "add(2,6)"
   ]
  },
  {
   "cell_type": "code",
   "execution_count": 22,
   "id": "802f85ed-fbe3-4d77-be0e-870b4e4c6f1d",
   "metadata": {},
   "outputs": [],
   "source": [
    "sub=lambda c,b:c-b"
   ]
  },
  {
   "cell_type": "code",
   "execution_count": 24,
   "id": "e6657e40-2331-4ae1-871d-c19e2eaf6211",
   "metadata": {},
   "outputs": [
    {
     "data": {
      "text/plain": [
       "475"
      ]
     },
     "execution_count": 24,
     "metadata": {},
     "output_type": "execute_result"
    }
   ],
   "source": [
    "sub(500,25)"
   ]
  },
  {
   "cell_type": "code",
   "execution_count": 25,
   "id": "33e25db8-0e15-407e-a51d-f0227c80c3e7",
   "metadata": {},
   "outputs": [],
   "source": [
    "mul=lambda a,b:a*b"
   ]
  },
  {
   "cell_type": "code",
   "execution_count": 26,
   "id": "4d399a1b-ee4d-4000-a966-79f2c81dcd61",
   "metadata": {},
   "outputs": [
    {
     "data": {
      "text/plain": [
       "16"
      ]
     },
     "execution_count": 26,
     "metadata": {},
     "output_type": "execute_result"
    }
   ],
   "source": [
    "mul(8,2)"
   ]
  },
  {
   "cell_type": "code",
   "execution_count": 27,
   "id": "1c831d5c-a4c9-4c10-bf86-fdaaf0b67cbb",
   "metadata": {},
   "outputs": [],
   "source": [
    "div=lambda a,b:a/b"
   ]
  },
  {
   "cell_type": "code",
   "execution_count": 28,
   "id": "4af20da2-8f64-43b8-b246-09271481caa7",
   "metadata": {},
   "outputs": [
    {
     "data": {
      "text/plain": [
       "3.4285714285714284"
      ]
     },
     "execution_count": 28,
     "metadata": {},
     "output_type": "execute_result"
    }
   ],
   "source": [
    "div(24,7)"
   ]
  },
  {
   "cell_type": "code",
   "execution_count": 29,
   "id": "e1f77e6d-f5c2-4b41-b3c7-a7426e15448a",
   "metadata": {},
   "outputs": [],
   "source": [
    "squ=lambda a,b:a**b"
   ]
  },
  {
   "cell_type": "code",
   "execution_count": 30,
   "id": "5e65182c-e407-4607-a346-d8fd1d9ace1d",
   "metadata": {},
   "outputs": [
    {
     "data": {
      "text/plain": [
       "441"
      ]
     },
     "execution_count": 30,
     "metadata": {},
     "output_type": "execute_result"
    }
   ],
   "source": [
    "squ(21,2)"
   ]
  },
  {
   "cell_type": "markdown",
   "id": "e4c056ba-ee57-410f-8289-ab30eba3865b",
   "metadata": {},
   "source": [
    "Celsius to Fahrenheit CONVERSION"
   ]
  },
  {
   "cell_type": "code",
   "execution_count": 35,
   "id": "05e5898b-d76b-47fc-9662-f999c4de72a1",
   "metadata": {},
   "outputs": [],
   "source": [
    "c_to_f=lambda c:(9/5)*c+32"
   ]
  },
  {
   "cell_type": "code",
   "execution_count": 36,
   "id": "2ba8d871-6c09-473f-898e-afd9cf780e69",
   "metadata": {},
   "outputs": [
    {
     "data": {
      "text/plain": [
       "77.0"
      ]
     },
     "execution_count": 36,
     "metadata": {},
     "output_type": "execute_result"
    }
   ],
   "source": [
    "c_to_f(25)"
   ]
  },
  {
   "cell_type": "code",
   "execution_count": 37,
   "id": "ee199682-7369-41be-9458-8fd2c1fbb0ef",
   "metadata": {},
   "outputs": [],
   "source": [
    "finding_max=lambda a,b:a if a>b else b"
   ]
  },
  {
   "cell_type": "code",
   "execution_count": 39,
   "id": "7a7d3f56-a8f6-4fcb-8fcd-e706d825dfdb",
   "metadata": {},
   "outputs": [
    {
     "data": {
      "text/plain": [
       "34"
      ]
     },
     "execution_count": 39,
     "metadata": {},
     "output_type": "execute_result"
    }
   ],
   "source": [
    "finding_max(25,34)"
   ]
  },
  {
   "cell_type": "code",
   "execution_count": 40,
   "id": "a1883890-daf0-452a-815e-687e827908dd",
   "metadata": {},
   "outputs": [],
   "source": [
    "finding_min=lambda a,b:a if a<b else b"
   ]
  },
  {
   "cell_type": "code",
   "execution_count": 41,
   "id": "672db618-9725-4a83-a779-76e3b8c04195",
   "metadata": {},
   "outputs": [
    {
     "data": {
      "text/plain": [
       "36"
      ]
     },
     "execution_count": 41,
     "metadata": {},
     "output_type": "execute_result"
    }
   ],
   "source": [
    "finding_min(44,36)"
   ]
  },
  {
   "cell_type": "code",
   "execution_count": 42,
   "id": "cb322922-fda6-491c-a7e5-1e465467b849",
   "metadata": {},
   "outputs": [],
   "source": [
    "s=\"Virat Tiwari\""
   ]
  },
  {
   "cell_type": "code",
   "execution_count": 43,
   "id": "cb62696a-771a-4daa-a95b-4511bac171d9",
   "metadata": {},
   "outputs": [
    {
     "data": {
      "text/plain": [
       "12"
      ]
     },
     "execution_count": 43,
     "metadata": {},
     "output_type": "execute_result"
    }
   ],
   "source": [
    "len(s)"
   ]
  },
  {
   "cell_type": "code",
   "execution_count": 44,
   "id": "6a5dde75-9304-4239-9d07-b77df87d77d4",
   "metadata": {},
   "outputs": [],
   "source": [
    "find_len=lambda s:len(s)"
   ]
  },
  {
   "cell_type": "code",
   "execution_count": 45,
   "id": "06108d58-9ca6-43b0-b654-0288bab8c16e",
   "metadata": {},
   "outputs": [
    {
     "data": {
      "text/plain": [
       "12"
      ]
     },
     "execution_count": 45,
     "metadata": {},
     "output_type": "execute_result"
    }
   ],
   "source": [
    "find_len(s)"
   ]
  },
  {
   "cell_type": "markdown",
   "id": "8f3d3587-2ac6-4faf-a957-5400dad72699",
   "metadata": {},
   "source": [
    "NOTE - LAMBDA IS BASICALLY ANONYMOUS FUNCTION IN WHICH WE MAKE FUNCTION AND PUT IT INTO THE VARIABLE AND WE CALL THEM VARIABLE WHENEVER WE REQUIRE THAT FUNCTION\n",
    "\n",
    "NOTE - WE CAN USE \"DEF\" KEYWORD "
   ]
  }
 ],
 "metadata": {
  "kernelspec": {
   "display_name": "Python 3 (ipykernel)",
   "language": "python",
   "name": "python3"
  },
  "language_info": {
   "codemirror_mode": {
    "name": "ipython",
    "version": 3
   },
   "file_extension": ".py",
   "mimetype": "text/x-python",
   "name": "python",
   "nbconvert_exporter": "python",
   "pygments_lexer": "ipython3",
   "version": "3.10.8"
  }
 },
 "nbformat": 4,
 "nbformat_minor": 5
}
