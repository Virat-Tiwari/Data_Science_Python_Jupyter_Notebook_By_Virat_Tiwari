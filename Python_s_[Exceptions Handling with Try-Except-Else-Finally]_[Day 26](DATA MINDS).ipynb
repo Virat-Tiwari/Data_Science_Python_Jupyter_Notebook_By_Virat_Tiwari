{
 "cells": [
  {
   "cell_type": "markdown",
   "id": "ef05267b-0af4-4f27-9528-fc23d083fa5f",
   "metadata": {},
   "source": [
    "EXCEPTION HANDLING - WE HAVE GENERALLY BLOCKS like \"Try\"  and \"Except\" IN EXCEPTION HANDLING\n",
    "\n",
    "1 ) THE LINE GIVES THE ERROR OR WE THINK IT GIVES THE ERROR IN FUTURE SO WE PUT THAT IN BETWEEN THE TRY AND EXCEPT BLOCK , AND BY USING THE TRY ( ) FUNCTION WE PUT ERROR LINE BELOW THE IN TRY AND CLOSE IT  BY USING EXCEPT ( ) FUNCTION WE HANDLE THE EXCEPTIONS AND IN EXCEPT F( ) FUNCTION WE GIVEN ANY NAME OF ERROR LINE OF CODE AND PRINT IT BY USING PRINT IN PRINT ( ) FUNCTION UNDER THE EXCEPT ( ) FUNCTION \n",
    "\n",
    "2 ) THERE ARE GENERALLY FOUR(4) BLOCKS IN EXCEPTION HANDLING -:\n",
    "\n",
    "(A) TRY ( ) BLOCK,\n",
    "\n",
    "(B) EXCEPT ( ) BLOCK,\n",
    "\n",
    "(C) ELSE ( ) BLOCK ,\n",
    "\n",
    "(D) FINALLY ( ) BLOCK\n",
    "\n",
    "\n",
    "3 ) THERE IS NO HEIRACHY ISSUE IN TRY OR EXCEPT FUNCTIONS LIKE WE PUT TRY UNDER THE TRY AND EXCEPT UNDER THE EXCEPT SOMETHING LIKE THAT IN EXCEPTIONS HANDING"
   ]
  },
  {
   "cell_type": "code",
   "execution_count": 1,
   "id": "7b8e5cf5-dc6c-4fc9-a339-45c68ef80faa",
   "metadata": {},
   "outputs": [],
   "source": [
    "a=10"
   ]
  },
  {
   "cell_type": "code",
   "execution_count": 2,
   "id": "cb937b4d-c717-4f81-b9fa-d64b19efd6dd",
   "metadata": {},
   "outputs": [
    {
     "ename": "ZeroDivisionError",
     "evalue": "division by zero",
     "output_type": "error",
     "traceback": [
      "\u001b[0;31m---------------------------------------------------------------------------\u001b[0m",
      "\u001b[0;31mZeroDivisionError\u001b[0m                         Traceback (most recent call last)",
      "Cell \u001b[0;32mIn[2], line 1\u001b[0m\n\u001b[0;32m----> 1\u001b[0m \u001b[43ma\u001b[49m\u001b[38;5;241;43m/\u001b[39;49m\u001b[38;5;241;43m0\u001b[39;49m\n",
      "\u001b[0;31mZeroDivisionError\u001b[0m: division by zero"
     ]
    }
   ],
   "source": [
    "a/0"
   ]
  },
  {
   "cell_type": "code",
   "execution_count": 4,
   "id": "cce62387-f1f5-48cd-a33f-ee6896095425",
   "metadata": {},
   "outputs": [
    {
     "ename": "FileNotFoundError",
     "evalue": "[Errno 2] No such file or directory: 'test.xt'",
     "output_type": "error",
     "traceback": [
      "\u001b[0;31m---------------------------------------------------------------------------\u001b[0m",
      "\u001b[0;31mFileNotFoundError\u001b[0m                         Traceback (most recent call last)",
      "Cell \u001b[0;32mIn[4], line 1\u001b[0m\n\u001b[0;32m----> 1\u001b[0m f\u001b[38;5;241m=\u001b[39m\u001b[38;5;28;43mopen\u001b[39;49m\u001b[43m(\u001b[49m\u001b[38;5;124;43m\"\u001b[39;49m\u001b[38;5;124;43mtest.xt\u001b[39;49m\u001b[38;5;124;43m\"\u001b[39;49m\u001b[43m,\u001b[49m\u001b[38;5;124;43m\"\u001b[39;49m\u001b[38;5;124;43mr\u001b[39;49m\u001b[38;5;124;43m\"\u001b[39;49m\u001b[43m)\u001b[49m\n\u001b[1;32m      2\u001b[0m \u001b[38;5;28mprint\u001b[39m(\u001b[38;5;124m\"\u001b[39m\u001b[38;5;124mThis is my Print\u001b[39m\u001b[38;5;124m\"\u001b[39m)\n",
      "File \u001b[0;32m/opt/conda/lib/python3.10/site-packages/IPython/core/interactiveshell.py:282\u001b[0m, in \u001b[0;36m_modified_open\u001b[0;34m(file, *args, **kwargs)\u001b[0m\n\u001b[1;32m    275\u001b[0m \u001b[38;5;28;01mif\u001b[39;00m file \u001b[38;5;129;01min\u001b[39;00m {\u001b[38;5;241m0\u001b[39m, \u001b[38;5;241m1\u001b[39m, \u001b[38;5;241m2\u001b[39m}:\n\u001b[1;32m    276\u001b[0m     \u001b[38;5;28;01mraise\u001b[39;00m \u001b[38;5;167;01mValueError\u001b[39;00m(\n\u001b[1;32m    277\u001b[0m         \u001b[38;5;124mf\u001b[39m\u001b[38;5;124m\"\u001b[39m\u001b[38;5;124mIPython won\u001b[39m\u001b[38;5;124m'\u001b[39m\u001b[38;5;124mt let you open fd=\u001b[39m\u001b[38;5;132;01m{\u001b[39;00mfile\u001b[38;5;132;01m}\u001b[39;00m\u001b[38;5;124m by default \u001b[39m\u001b[38;5;124m\"\u001b[39m\n\u001b[1;32m    278\u001b[0m         \u001b[38;5;124m\"\u001b[39m\u001b[38;5;124mas it is likely to crash IPython. If you know what you are doing, \u001b[39m\u001b[38;5;124m\"\u001b[39m\n\u001b[1;32m    279\u001b[0m         \u001b[38;5;124m\"\u001b[39m\u001b[38;5;124myou can use builtins\u001b[39m\u001b[38;5;124m'\u001b[39m\u001b[38;5;124m open.\u001b[39m\u001b[38;5;124m\"\u001b[39m\n\u001b[1;32m    280\u001b[0m     )\n\u001b[0;32m--> 282\u001b[0m \u001b[38;5;28;01mreturn\u001b[39;00m \u001b[43mio_open\u001b[49m\u001b[43m(\u001b[49m\u001b[43mfile\u001b[49m\u001b[43m,\u001b[49m\u001b[43m \u001b[49m\u001b[38;5;241;43m*\u001b[39;49m\u001b[43margs\u001b[49m\u001b[43m,\u001b[49m\u001b[43m \u001b[49m\u001b[38;5;241;43m*\u001b[39;49m\u001b[38;5;241;43m*\u001b[39;49m\u001b[43mkwargs\u001b[49m\u001b[43m)\u001b[49m\n",
      "\u001b[0;31mFileNotFoundError\u001b[0m: [Errno 2] No such file or directory: 'test.xt'"
     ]
    }
   ],
   "source": [
    "f=open(\"test.xt\",\"r\")\n",
    "print(\"This is my Print\")"
   ]
  },
  {
   "cell_type": "markdown",
   "id": "0a566e56-d52a-47f9-a0c1-e8e3011186dd",
   "metadata": {},
   "source": [
    "NOTE : -\n",
    "\n",
    "1 ) IN PYTHON CODE IS EXECUTE LINE BY LINE IF THERE IS ANY ERROR IN THE PREVIOUS LINE SO NEXT LIVE WILL AOTOAMATICALLY GIVES YOU ERROR \n",
    "\n",
    "2 ) SO FOR HANDLING SUCH KUND OF CODE WE USE EXCEPTION HANDLING\n",
    "\n",
    "3 ) IN GENRAL IN SUSPIOUS CODE OR PRODUCTION GRADE CODE WE USE TO PUT OUR CODE IN BETWEEN TRY AND EXCEPT FOR HANDLING SICH KIND OF PROBLEMS\n",
    "\n",
    "4 ) IMPORTANT WE ALWAYS USE LOGGING ( ) FUNCTION AND EXCEPTION HANDLING IN PROJECTS AND CODING TASKS ALWAYS "
   ]
  },
  {
   "cell_type": "markdown",
   "id": "98ed0cc3-75d2-4944-8a7e-1c073868f7b1",
   "metadata": {},
   "source": [
    "LOOK AT THE \" BELOW EXAMPLE \" OF EXCEPTION HANDLING BY USING TRY AND EXCEPT : -\n",
    "\n",
    "1 ) THE LINE GIVES THE ERROR OR WE THINK IT GIVES THE ERROR IN FUTURE SO WE PUT THAT IN BETWEEN THE TRY AND EXCEPT BLOCK , AND BY USING THE TRY ( ) FUNCTION WE PUT ERROR LINE BELOW THE IN TRY AND CLOSE IT  BY USING EXCEPT ( ) FUNCTION WE HANDLE THE EXCEPTIONS AND IN EXCEPT F( ) FUNCTION WE GIVEN ANY NAME OF ERROR LINE OF CODE AND PRINT IT BY USING PRINT IN PRINT ( ) FUNCTION UNDER THE EXCEPT ( ) FUNCTION "
   ]
  },
  {
   "cell_type": "code",
   "execution_count": 6,
   "id": "f1274b97-d81d-4709-b66e-728a91c862f1",
   "metadata": {},
   "outputs": [
    {
     "name": "stdout",
     "output_type": "stream",
     "text": [
      "This is my except block [Errno 2] No such file or directory: 'test.xt'\n"
     ]
    },
    {
     "data": {
      "text/plain": [
       "20"
      ]
     },
     "execution_count": 6,
     "metadata": {},
     "output_type": "execute_result"
    }
   ],
   "source": [
    "try:\n",
    "    f=open(\"test.xt\",\"r\")\n",
    "except Exception as e:\n",
    "    print(\"This is my except block\",e)\n",
    "a=5\n",
    "b=15\n",
    "a+b"
   ]
  },
  {
   "cell_type": "code",
   "execution_count": 9,
   "id": "729ea50b-00d0-4568-acbe-470c0bce0447",
   "metadata": {},
   "outputs": [],
   "source": [
    "try:\n",
    "    f=open(\"test.xt\",\"w\")\n",
    "    f.write(\"This is Virat Tiwari\")\n",
    "    f.close()\n",
    "except Exception as e:\n",
    "    print(\"This is my except block\",e)"
   ]
  },
  {
   "cell_type": "markdown",
   "id": "3afb3af9-4e1b-4d0c-a7b0-85ddc4e7d7d3",
   "metadata": {},
   "source": [
    "NOTE : -\n",
    "\n",
    "ELSE ( ) BLOCK IS THAT BLOCK WHICH EXECUTE ONLY WHEN THAN TRY ( )  FUNCTION EXECUTE THEMSELVE SUCCESSFULLY , IF IN ANY CASE TRY ( ) BLOCK IS CRASHED OR IT DOES NOT EXCEUTE THAN ELSE ( ) BLOCK IS NOT EXECUTE"
   ]
  },
  {
   "cell_type": "code",
   "execution_count": 10,
   "id": "050e4f76-cf14-41d2-aac6-a4886075e804",
   "metadata": {},
   "outputs": [
    {
     "name": "stdout",
     "output_type": "stream",
     "text": [
      "This will be executed once our 'try' will execute without error\n"
     ]
    }
   ],
   "source": [
    "# THIS EXAMPLE OF WHERE ELSE ( ) BLOCK SUCCESSFULLY EXECUTED\n",
    "\n",
    "try:\n",
    "    f=open(\"test.xt\",\"w\")\n",
    "    f.write(\"This is Virat Tiwari\")\n",
    "except Exception as e:\n",
    "    print(\"This is my except block\",e)\n",
    "else:\n",
    "    f.close()\n",
    "    print(\"This will be executed once our 'try' will execute without error\")"
   ]
  },
  {
   "cell_type": "code",
   "execution_count": 11,
   "id": "81639ab0-d7aa-46fe-842d-94a5cf98a792",
   "metadata": {},
   "outputs": [
    {
     "name": "stdout",
     "output_type": "stream",
     "text": [
      "This is my except block [Errno 2] No such file or directory: 'tes1t.xt'\n"
     ]
    }
   ],
   "source": [
    "# THIS EXAMPLE OF WHERE ELSE ( ) BLOCK IS NOT  EXECUTED DUE TO CRASHED CODE IN TRY ( ) BLOCK\n",
    "\n",
    "try:\n",
    "    f=open(\"tes1t.xt\",\"r\")\n",
    "    f.write(\"This is Virat Tiwari\")\n",
    "except Exception as e:\n",
    "    print(\"This is my except block\",e)\n",
    "else:\n",
    "    f.close()\n",
    "    print(\"This will be executed once our 'try' will execute without error\")"
   ]
  },
  {
   "cell_type": "code",
   "execution_count": 13,
   "id": "117f7d12-8654-468e-8234-ff5f61d7734d",
   "metadata": {},
   "outputs": [
    {
     "name": "stdout",
     "output_type": "stream",
     "text": [
      "Finally will execute itself in any situation\n"
     ]
    }
   ],
   "source": [
    "# IN THIS CODE OF LINE WE GET THE OUTPUT BECOUSE WE WRITE THE FILE AND THERE IS NO USE OF EXCEPT ( )  BLOCK BECOUSE WE JUST WRITE THE FILE WITHOUT READING IT\n",
    "\n",
    "try : \n",
    "    f=open(\"test1.txt\",\"w\")\n",
    "    f.write(\"Aspiring Data Scientist\")\n",
    "finally:\n",
    "    print(\"Finally will execute itself in any situation\")"
   ]
  },
  {
   "cell_type": "code",
   "execution_count": 14,
   "id": "7226c675-cfe4-464d-9e6b-84b64044e304",
   "metadata": {},
   "outputs": [
    {
     "name": "stdout",
     "output_type": "stream",
     "text": [
      "Finally will execute itself in any situation\n"
     ]
    },
    {
     "ename": "FileNotFoundError",
     "evalue": "[Errno 2] No such file or directory: 'test2.txt'",
     "output_type": "error",
     "traceback": [
      "\u001b[0;31m---------------------------------------------------------------------------\u001b[0m",
      "\u001b[0;31mFileNotFoundError\u001b[0m                         Traceback (most recent call last)",
      "Cell \u001b[0;32mIn[14], line 2\u001b[0m\n\u001b[1;32m      1\u001b[0m \u001b[38;5;28;01mtry\u001b[39;00m : \n\u001b[0;32m----> 2\u001b[0m     f\u001b[38;5;241m=\u001b[39m\u001b[38;5;28;43mopen\u001b[39;49m\u001b[43m(\u001b[49m\u001b[38;5;124;43m\"\u001b[39;49m\u001b[38;5;124;43mtest2.txt\u001b[39;49m\u001b[38;5;124;43m\"\u001b[39;49m\u001b[43m,\u001b[49m\u001b[38;5;124;43m\"\u001b[39;49m\u001b[38;5;124;43mr\u001b[39;49m\u001b[38;5;124;43m\"\u001b[39;49m\u001b[43m)\u001b[49m\n\u001b[1;32m      3\u001b[0m     f\u001b[38;5;241m.\u001b[39mwrite(\u001b[38;5;124m\"\u001b[39m\u001b[38;5;124mAspiring Data Scientist\u001b[39m\u001b[38;5;124m\"\u001b[39m)\n\u001b[1;32m      4\u001b[0m \u001b[38;5;28;01mfinally\u001b[39;00m:\n",
      "File \u001b[0;32m/opt/conda/lib/python3.10/site-packages/IPython/core/interactiveshell.py:282\u001b[0m, in \u001b[0;36m_modified_open\u001b[0;34m(file, *args, **kwargs)\u001b[0m\n\u001b[1;32m    275\u001b[0m \u001b[38;5;28;01mif\u001b[39;00m file \u001b[38;5;129;01min\u001b[39;00m {\u001b[38;5;241m0\u001b[39m, \u001b[38;5;241m1\u001b[39m, \u001b[38;5;241m2\u001b[39m}:\n\u001b[1;32m    276\u001b[0m     \u001b[38;5;28;01mraise\u001b[39;00m \u001b[38;5;167;01mValueError\u001b[39;00m(\n\u001b[1;32m    277\u001b[0m         \u001b[38;5;124mf\u001b[39m\u001b[38;5;124m\"\u001b[39m\u001b[38;5;124mIPython won\u001b[39m\u001b[38;5;124m'\u001b[39m\u001b[38;5;124mt let you open fd=\u001b[39m\u001b[38;5;132;01m{\u001b[39;00mfile\u001b[38;5;132;01m}\u001b[39;00m\u001b[38;5;124m by default \u001b[39m\u001b[38;5;124m\"\u001b[39m\n\u001b[1;32m    278\u001b[0m         \u001b[38;5;124m\"\u001b[39m\u001b[38;5;124mas it is likely to crash IPython. If you know what you are doing, \u001b[39m\u001b[38;5;124m\"\u001b[39m\n\u001b[1;32m    279\u001b[0m         \u001b[38;5;124m\"\u001b[39m\u001b[38;5;124myou can use builtins\u001b[39m\u001b[38;5;124m'\u001b[39m\u001b[38;5;124m open.\u001b[39m\u001b[38;5;124m\"\u001b[39m\n\u001b[1;32m    280\u001b[0m     )\n\u001b[0;32m--> 282\u001b[0m \u001b[38;5;28;01mreturn\u001b[39;00m \u001b[43mio_open\u001b[49m\u001b[43m(\u001b[49m\u001b[43mfile\u001b[49m\u001b[43m,\u001b[49m\u001b[43m \u001b[49m\u001b[38;5;241;43m*\u001b[39;49m\u001b[43margs\u001b[49m\u001b[43m,\u001b[49m\u001b[43m \u001b[49m\u001b[38;5;241;43m*\u001b[39;49m\u001b[38;5;241;43m*\u001b[39;49m\u001b[43mkwargs\u001b[49m\u001b[43m)\u001b[49m\n",
      "\u001b[0;31mFileNotFoundError\u001b[0m: [Errno 2] No such file or directory: 'test2.txt'"
     ]
    }
   ],
   "source": [
    "# IN THIS LINE OF CODE WE DON'T DEFINE THE TXT FILE AND WITHOUT WRITING IT WE READ IT AND ALSO IN THIS CODE OF LINE  WE CAN NOT USE EXCEPT ( ) FUNCTION FOR HANDLING THE ERROR THAT'S WHY WE GOT THE ERROR AS A OUTPUT\n",
    "\n",
    "try : \n",
    "    f=open(\"test2.txt\",\"r\")\n",
    "    f.write(\"Aspiring Data Scientist\")\n",
    "finally:\n",
    "    print(\"Finally will execute itself in any situation\")"
   ]
  },
  {
   "cell_type": "markdown",
   "id": "900bcf60-7287-48c9-b216-d755c27dc8e4",
   "metadata": {},
   "source": [
    "\n",
    "\n",
    "THANK YOU SO MUCH  :)\n",
    "\n",
    "YOURS VIRAT TIWARI "
   ]
  }
 ],
 "metadata": {
  "kernelspec": {
   "display_name": "Python 3 (ipykernel)",
   "language": "python",
   "name": "python3"
  },
  "language_info": {
   "codemirror_mode": {
    "name": "ipython",
    "version": 3
   },
   "file_extension": ".py",
   "mimetype": "text/x-python",
   "name": "python",
   "nbconvert_exporter": "python",
   "pygments_lexer": "ipython3",
   "version": "3.10.8"
  }
 },
 "nbformat": 4,
 "nbformat_minor": 5
}
