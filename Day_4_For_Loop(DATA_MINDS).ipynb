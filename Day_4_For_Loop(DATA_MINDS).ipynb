{
 "cells": [
  {
   "cell_type": "code",
   "execution_count": 1,
   "id": "5116835c-816d-4f7f-a356-bbc16ab330f2",
   "metadata": {},
   "outputs": [],
   "source": [
    "l=[1,2,3,4,5]"
   ]
  },
  {
   "cell_type": "code",
   "execution_count": 3,
   "id": "ea50660c-5f27-4553-ac35-edc470dcfa3b",
   "metadata": {},
   "outputs": [
    {
     "name": "stdout",
     "output_type": "stream",
     "text": [
      "1 <class 'int'>\n",
      "2 <class 'int'>\n",
      "3 <class 'int'>\n",
      "4 <class 'int'>\n",
      "5 <class 'int'>\n"
     ]
    }
   ],
   "source": [
    "for i in l:\n",
    "    print(i,type(i))"
   ]
  },
  {
   "cell_type": "code",
   "execution_count": 4,
   "id": "8cced17a-b899-42cf-b6f8-9ea540ae2bef",
   "metadata": {},
   "outputs": [],
   "source": [
    "d=[\"Virat\",\"Rohit\",\"Yash\",\"happy\"]"
   ]
  },
  {
   "cell_type": "code",
   "execution_count": 5,
   "id": "9ab394f1-eb5f-41f4-8ea9-ce4c44672f2e",
   "metadata": {},
   "outputs": [
    {
     "name": "stdout",
     "output_type": "stream",
     "text": [
      "Virat\n",
      "Rohit\n",
      "Yash\n",
      "happy\n"
     ]
    }
   ],
   "source": [
    "for i in d:\n",
    "    print(i)"
   ]
  },
  {
   "cell_type": "code",
   "execution_count": 6,
   "id": "6fe26c10-9a96-45ea-8fd2-1e3a16842524",
   "metadata": {},
   "outputs": [
    {
     "data": {
      "text/plain": [
       "['Virat', 'Rohit', 'Yash', 'happy']"
      ]
     },
     "execution_count": 6,
     "metadata": {},
     "output_type": "execute_result"
    }
   ],
   "source": [
    "d"
   ]
  },
  {
   "cell_type": "code",
   "execution_count": 12,
   "id": "1d85cf26-78b8-4f0a-b944-8ad00bfaaa33",
   "metadata": {},
   "outputs": [
    {
     "name": "stdout",
     "output_type": "stream",
     "text": [
      "Virat\n",
      "Rohit\n",
      "Yash\n",
      "happy\n",
      "Do something\n"
     ]
    }
   ],
   "source": [
    "#if for loop is able to complete itself then only else will execute\n",
    "\n",
    "for i in d:\n",
    "    print(i)\n",
    "else:\n",
    "    print(\"Do something\")"
   ]
  },
  {
   "cell_type": "code",
   "execution_count": 14,
   "id": "8b38a51d-2376-4056-8b0b-afb3017a4390",
   "metadata": {},
   "outputs": [
    {
     "data": {
      "text/plain": [
       "['Virat', 'Rohit', 'Yash', 'happy']"
      ]
     },
     "execution_count": 14,
     "metadata": {},
     "output_type": "execute_result"
    }
   ],
   "source": [
    "d"
   ]
  },
  {
   "cell_type": "code",
   "execution_count": 16,
   "id": "a9ae8a79-8ddd-4ae4-8110-2004aeff3d26",
   "metadata": {},
   "outputs": [
    {
     "name": "stdout",
     "output_type": "stream",
     "text": [
      "Virat\n"
     ]
    }
   ],
   "source": [
    "for i in d:\n",
    "    if i==\"Rohit\":\n",
    "        break\n",
    "    print(i)"
   ]
  },
  {
   "cell_type": "code",
   "execution_count": 17,
   "id": "6bff051b-08fe-4283-91c9-29b4da6107e2",
   "metadata": {},
   "outputs": [
    {
     "data": {
      "text/plain": [
       "['Virat', 'Rohit', 'Yash', 'happy']"
      ]
     },
     "execution_count": 17,
     "metadata": {},
     "output_type": "execute_result"
    }
   ],
   "source": [
    "d"
   ]
  },
  {
   "cell_type": "code",
   "execution_count": 18,
   "id": "37dc7508-3470-4de6-b20c-b8dec85da813",
   "metadata": {},
   "outputs": [
    {
     "name": "stdout",
     "output_type": "stream",
     "text": [
      "Virat\n"
     ]
    }
   ],
   "source": [
    "for i in d:\n",
    "    if i==\"Rohit\":\n",
    "        break\n",
    "    print(i)\n",
    "else:\n",
    "    print(\"Execute this if for loop is able to complete itself\")"
   ]
  },
  {
   "cell_type": "code",
   "execution_count": 19,
   "id": "b9c9b64f-bf5a-4ce1-ab3f-225ccc3716d0",
   "metadata": {},
   "outputs": [
    {
     "data": {
      "text/plain": [
       "['Virat', 'Rohit', 'Yash', 'happy']"
      ]
     },
     "execution_count": 19,
     "metadata": {},
     "output_type": "execute_result"
    }
   ],
   "source": [
    "d"
   ]
  },
  {
   "cell_type": "code",
   "execution_count": 20,
   "id": "d9199984-92b6-4403-a28a-57144f117530",
   "metadata": {},
   "outputs": [
    {
     "name": "stdout",
     "output_type": "stream",
     "text": [
      "Virat\n",
      "Yash\n",
      "happy\n"
     ]
    }
   ],
   "source": [
    "for i in d:\n",
    "    if i==\"Rohit\":\n",
    "        continue\n",
    "    print(i)"
   ]
  },
  {
   "cell_type": "code",
   "execution_count": 21,
   "id": "4673a2cc-6014-4fc9-bfe1-c416125f1e78",
   "metadata": {},
   "outputs": [
    {
     "data": {
      "text/plain": [
       "['Virat', 'Rohit', 'Yash', 'happy']"
      ]
     },
     "execution_count": 21,
     "metadata": {},
     "output_type": "execute_result"
    }
   ],
   "source": [
    "d"
   ]
  },
  {
   "cell_type": "code",
   "execution_count": 22,
   "id": "9ac19214-7c8d-485f-b09b-357f7315a1d2",
   "metadata": {},
   "outputs": [
    {
     "name": "stdout",
     "output_type": "stream",
     "text": [
      "Virat\n",
      "Yash\n",
      "happy\n",
      "Execute this if for loop is able to complete itself\n"
     ]
    }
   ],
   "source": [
    "for i in d:\n",
    "    if i==\"Rohit\":\n",
    "        continue\n",
    "    print(i)\n",
    "else:\n",
    "    print(\"Execute this if for loop is able to complete itself\")"
   ]
  },
  {
   "cell_type": "code",
   "execution_count": 23,
   "id": "a3d4d6b7-3f82-4cf5-b434-26d708d9a996",
   "metadata": {},
   "outputs": [
    {
     "data": {
      "text/plain": [
       "range(0, 5)"
      ]
     },
     "execution_count": 23,
     "metadata": {},
     "output_type": "execute_result"
    }
   ],
   "source": [
    "#Range()function is generator function that is used for generating the values from a particulat range\n",
    "\n",
    "range(5)"
   ]
  },
  {
   "cell_type": "code",
   "execution_count": 24,
   "id": "06f4f4c1-3a1d-4ddc-87ad-3405b9247fc3",
   "metadata": {},
   "outputs": [
    {
     "data": {
      "text/plain": [
       "[0, 1, 2, 3, 4]"
      ]
     },
     "execution_count": 24,
     "metadata": {},
     "output_type": "execute_result"
    }
   ],
   "source": [
    "list(range(5))"
   ]
  },
  {
   "cell_type": "code",
   "execution_count": 25,
   "id": "fe6ff8c4-788d-41c5-9cec-1415f0b660e8",
   "metadata": {},
   "outputs": [
    {
     "data": {
      "text/plain": [
       "{0, 1, 2, 3, 4, 5}"
      ]
     },
     "execution_count": 25,
     "metadata": {},
     "output_type": "execute_result"
    }
   ],
   "source": [
    "set(range(6))"
   ]
  },
  {
   "cell_type": "code",
   "execution_count": 26,
   "id": "9b7b2388-4ecd-49b3-8250-cb1b60401a79",
   "metadata": {},
   "outputs": [
    {
     "data": {
      "text/plain": [
       "[0, 1, 2, 3, 4]"
      ]
     },
     "execution_count": 26,
     "metadata": {},
     "output_type": "execute_result"
    }
   ],
   "source": [
    "list(range(0,5,1))"
   ]
  },
  {
   "cell_type": "code",
   "execution_count": 28,
   "id": "418c75c1-1a53-4eaa-9ba9-d86efb1704bc",
   "metadata": {},
   "outputs": [
    {
     "data": {
      "text/plain": [
       "[0, 2, 4, 6, 8, 10, 12, 14, 16, 18]"
      ]
     },
     "execution_count": 28,
     "metadata": {},
     "output_type": "execute_result"
    }
   ],
   "source": [
    "list(range(0,20,2))"
   ]
  },
  {
   "cell_type": "code",
   "execution_count": 29,
   "id": "0cc8dffb-6799-43ee-9996-a0e184e66d60",
   "metadata": {},
   "outputs": [
    {
     "data": {
      "text/plain": [
       "[-10, -9, -8, -7, -6, -5, -4, -3, -2, -1]"
      ]
     },
     "execution_count": 29,
     "metadata": {},
     "output_type": "execute_result"
    }
   ],
   "source": [
    "list(range(-10,0))"
   ]
  },
  {
   "cell_type": "code",
   "execution_count": 30,
   "id": "f3aa003e-eb43-46db-bf10-5a2eac073766",
   "metadata": {},
   "outputs": [],
   "source": [
    "#RANGE()FUNCTION - WITH THIS FUNCTION WE ACN EASILY PRODUCE THE DATA IN A RANGE"
   ]
  },
  {
   "cell_type": "code",
   "execution_count": 31,
   "id": "0cf534d7-4e32-40fb-b07b-6f017378006a",
   "metadata": {},
   "outputs": [
    {
     "data": {
      "text/plain": [
       "['Virat', 'Rohit', 'Yash', 'happy']"
      ]
     },
     "execution_count": 31,
     "metadata": {},
     "output_type": "execute_result"
    }
   ],
   "source": [
    "d"
   ]
  },
  {
   "cell_type": "code",
   "execution_count": 32,
   "id": "6e004500-3dc3-4ce1-8a72-d8fc6b410b0f",
   "metadata": {},
   "outputs": [
    {
     "data": {
      "text/plain": [
       "['happy', 'Yash', 'Rohit', 'Virat']"
      ]
     },
     "execution_count": 32,
     "metadata": {},
     "output_type": "execute_result"
    }
   ],
   "source": [
    "d[::-1]"
   ]
  },
  {
   "cell_type": "code",
   "execution_count": 33,
   "id": "dfacc591-bf2a-4041-8029-5da0a6f57c8e",
   "metadata": {},
   "outputs": [
    {
     "data": {
      "text/plain": [
       "['Virat', 'Rohit', 'Yash', 'happy']"
      ]
     },
     "execution_count": 33,
     "metadata": {},
     "output_type": "execute_result"
    }
   ],
   "source": [
    "d"
   ]
  },
  {
   "cell_type": "code",
   "execution_count": 40,
   "id": "2c4c47a7-a7b9-4e60-ba6b-706f71de8fad",
   "metadata": {},
   "outputs": [
    {
     "data": {
      "text/plain": [
       "[0, 1, 2, 3]"
      ]
     },
     "execution_count": 40,
     "metadata": {},
     "output_type": "execute_result"
    }
   ],
   "source": [
    "list(range(len(d)))"
   ]
  },
  {
   "cell_type": "code",
   "execution_count": 36,
   "id": "c631391c-1345-4a3f-8e56-6be7ea60776c",
   "metadata": {},
   "outputs": [
    {
     "name": "stdout",
     "output_type": "stream",
     "text": [
      "Virat\n",
      "Rohit\n",
      "Yash\n",
      "happy\n"
     ]
    }
   ],
   "source": [
    "for i in range(len(d)):\n",
    "    print(d[i])"
   ]
  },
  {
   "cell_type": "code",
   "execution_count": 41,
   "id": "f9b3a8c8-a76a-4a46-8f6f-93d22834de17",
   "metadata": {},
   "outputs": [
    {
     "name": "stdout",
     "output_type": "stream",
     "text": [
      "happy\n",
      "Yash\n",
      "Rohit\n",
      "Virat\n"
     ]
    }
   ],
   "source": [
    "for i in range(len(d)-1,-1,-1):\n",
    "    print(d[i])"
   ]
  },
  {
   "cell_type": "code",
   "execution_count": 42,
   "id": "b2f688a1-459f-4ad6-89a1-58f3307fbda1",
   "metadata": {},
   "outputs": [],
   "source": [
    "f=[21,54,63,1,25,0,78,30,788,103,463,25,86]"
   ]
  },
  {
   "cell_type": "code",
   "execution_count": 43,
   "id": "58fe898c-c0b6-4bb7-9062-08dbd34d37a0",
   "metadata": {},
   "outputs": [
    {
     "data": {
      "text/plain": [
       "[21, 54, 63, 1, 25, 0, 78, 30, 788, 103, 463, 25, 86]"
      ]
     },
     "execution_count": 43,
     "metadata": {},
     "output_type": "execute_result"
    }
   ],
   "source": [
    "f"
   ]
  },
  {
   "cell_type": "code",
   "execution_count": 46,
   "id": "faccbcdf-705c-462e-990d-79ba49fdf948",
   "metadata": {},
   "outputs": [
    {
     "data": {
      "text/plain": [
       "[0, 2, 4, 6, 8, 10, 12]"
      ]
     },
     "execution_count": 46,
     "metadata": {},
     "output_type": "execute_result"
    }
   ],
   "source": [
    "#THIS IS HOW WE PRODUCE THE EVEN INDEXES\n",
    "\n",
    "list(range(0,len(f),2))"
   ]
  },
  {
   "cell_type": "code",
   "execution_count": 47,
   "id": "c17e9257-b71b-46d4-9eec-86b7b5a88bc7",
   "metadata": {},
   "outputs": [
    {
     "data": {
      "text/plain": [
       "[0, 1, 2, 3, 4, 5, 6, 7, 8, 9, 10, 11, 12]"
      ]
     },
     "execution_count": 47,
     "metadata": {},
     "output_type": "execute_result"
    }
   ],
   "source": [
    "#THIS IS HOW WE PRODUCE THE IDD INDEXES\n",
    "\n",
    "list(range(0,len(f),1))"
   ]
  },
  {
   "cell_type": "code",
   "execution_count": 48,
   "id": "1f7eb9c3-dd9c-402e-9435-7683c70e4c0a",
   "metadata": {},
   "outputs": [
    {
     "data": {
      "text/plain": [
       "[0, 2, 4, 6, 8, 10, 12]"
      ]
     },
     "execution_count": 48,
     "metadata": {},
     "output_type": "execute_result"
    }
   ],
   "source": [
    "list(range(0,len(f),2))"
   ]
  },
  {
   "cell_type": "code",
   "execution_count": 49,
   "id": "f67f2f7d-b1f0-4c87-a866-bfa9d590dfa0",
   "metadata": {},
   "outputs": [
    {
     "name": "stdout",
     "output_type": "stream",
     "text": [
      "21\n",
      "63\n",
      "25\n",
      "78\n",
      "788\n",
      "463\n",
      "86\n"
     ]
    }
   ],
   "source": [
    "#THIS IS HOW WE FETCH THE EVEN INDEX ELEMENTS\n",
    "\n",
    "for i in range(0,len(f),2):\n",
    "    print(f[i])"
   ]
  },
  {
   "cell_type": "code",
   "execution_count": 53,
   "id": "cd57f12b-0b11-4ab3-aaea-c9662621295e",
   "metadata": {},
   "outputs": [],
   "source": [
    "a=[1,5,2,4,6,1,8,9,1,7,3,4,5,55,53,14]"
   ]
  },
  {
   "cell_type": "code",
   "execution_count": 54,
   "id": "0b6dd035-ca33-480c-8a1b-6d4e56775205",
   "metadata": {},
   "outputs": [
    {
     "data": {
      "text/plain": [
       "[1, 5, 2, 4, 6, 1, 8, 9, 1, 7, 3, 4, 5, 55, 53, 14]"
      ]
     },
     "execution_count": 54,
     "metadata": {},
     "output_type": "execute_result"
    }
   ],
   "source": [
    "a"
   ]
  },
  {
   "cell_type": "code",
   "execution_count": 55,
   "id": "b7edbe2a-cb6f-4f48-abd4-2b1210f74bf5",
   "metadata": {},
   "outputs": [
    {
     "data": {
      "text/plain": [
       "178"
      ]
     },
     "execution_count": 55,
     "metadata": {},
     "output_type": "execute_result"
    }
   ],
   "source": [
    "#SUM()FUNCTION IS USED FOR SUM THE TOTAL VALUES"
   ]
  },
  {
   "cell_type": "code",
   "execution_count": 57,
   "id": "d789f373-a8cc-4681-bfd9-0178e907d0c9",
   "metadata": {},
   "outputs": [
    {
     "data": {
      "text/plain": [
       "178"
      ]
     },
     "execution_count": 57,
     "metadata": {},
     "output_type": "execute_result"
    }
   ],
   "source": [
    "#WE CREATE THE SUN()FUNCTION WITH THE HELP OF FOR LOOP FUNCTION\n",
    "\n",
    "result=0\n",
    "for i in a:\n",
    "    result=result+i\n",
    "result\n",
    "    "
   ]
  },
  {
   "cell_type": "code",
   "execution_count": 58,
   "id": "21cf0213-81d8-4c31-bd1b-b860344e28aa",
   "metadata": {},
   "outputs": [],
   "source": [
    "#WE DONE SAME THING ON TUPLES\n",
    "\n",
    "t=(1,2,3,4,5,6,7,8,9)"
   ]
  },
  {
   "cell_type": "code",
   "execution_count": 59,
   "id": "300bfcfd-8e77-4b55-a848-c8612a28faf6",
   "metadata": {},
   "outputs": [
    {
     "name": "stdout",
     "output_type": "stream",
     "text": [
      "1\n",
      "2\n",
      "3\n",
      "4\n",
      "5\n",
      "6\n",
      "7\n",
      "8\n",
      "9\n"
     ]
    }
   ],
   "source": [
    "for i in t:\n",
    "    print(i)"
   ]
  },
  {
   "cell_type": "code",
   "execution_count": 62,
   "id": "55c751c5-e8cf-4ae9-a7d5-2567e6506d14",
   "metadata": {},
   "outputs": [
    {
     "data": {
      "text/plain": [
       "45"
      ]
     },
     "execution_count": 62,
     "metadata": {},
     "output_type": "execute_result"
    }
   ],
   "source": [
    "result=0\n",
    "for i in t:\n",
    "    result=result+i\n",
    "result"
   ]
  },
  {
   "cell_type": "code",
   "execution_count": 63,
   "id": "caedd175-6139-4e2c-bac4-a283d4c6768b",
   "metadata": {},
   "outputs": [],
   "source": [
    "s={21,\"Virat\",25.4,\"Yash\"}"
   ]
  },
  {
   "cell_type": "code",
   "execution_count": 64,
   "id": "44ed38a1-b8db-4955-8cb3-22ca9ff90dcd",
   "metadata": {},
   "outputs": [
    {
     "data": {
      "text/plain": [
       "{21, 25.4, 'Virat', 'Yash'}"
      ]
     },
     "execution_count": 64,
     "metadata": {},
     "output_type": "execute_result"
    }
   ],
   "source": [
    "s"
   ]
  },
  {
   "cell_type": "code",
   "execution_count": 66,
   "id": "42136e22-da63-4bab-a56a-b35360a2ec20",
   "metadata": {},
   "outputs": [
    {
     "name": "stdout",
     "output_type": "stream",
     "text": [
      "25.4\n",
      "Yash\n",
      "21\n",
      "Virat\n"
     ]
    }
   ],
   "source": [
    "for i in s:\n",
    "    print(i)"
   ]
  },
  {
   "cell_type": "code",
   "execution_count": 68,
   "id": "658a94bb-d06b-4817-b65b-4db815d3467e",
   "metadata": {},
   "outputs": [],
   "source": [
    "name=\"virat tiwari\""
   ]
  },
  {
   "cell_type": "code",
   "execution_count": 69,
   "id": "fb5ddfbc-4a31-47f1-9630-dc3d3a732745",
   "metadata": {},
   "outputs": [
    {
     "data": {
      "text/plain": [
       "'virat tiwari'"
      ]
     },
     "execution_count": 69,
     "metadata": {},
     "output_type": "execute_result"
    }
   ],
   "source": [
    "name"
   ]
  },
  {
   "cell_type": "code",
   "execution_count": 70,
   "id": "98b076af-535c-479e-b7f0-3cfe9060eb56",
   "metadata": {},
   "outputs": [
    {
     "name": "stdout",
     "output_type": "stream",
     "text": [
      "v\n",
      "i\n",
      "r\n",
      "a\n",
      "t\n",
      " \n",
      "t\n",
      "i\n",
      "w\n",
      "a\n",
      "r\n",
      "i\n"
     ]
    }
   ],
   "source": [
    "for i in name:\n",
    "    print(i)"
   ]
  },
  {
   "cell_type": "code",
   "execution_count": 71,
   "id": "3fa65eaa-608d-496d-b7fe-e505c6d7ea6e",
   "metadata": {},
   "outputs": [],
   "source": [
    "v={\"name\":\"virat\",\"sub\":\"data science\",\"tool\":\"machine learning\",\"database\":\"aws azure\"}"
   ]
  },
  {
   "cell_type": "code",
   "execution_count": 72,
   "id": "c8836f33-fe96-49d2-bbe7-4682bff7e00e",
   "metadata": {},
   "outputs": [
    {
     "data": {
      "text/plain": [
       "{'name': 'virat',\n",
       " 'sub': 'data science',\n",
       " 'tool': 'machine learning',\n",
       " 'database': 'aws azure'}"
      ]
     },
     "execution_count": 72,
     "metadata": {},
     "output_type": "execute_result"
    }
   ],
   "source": [
    "v"
   ]
  },
  {
   "cell_type": "code",
   "execution_count": 75,
   "id": "5fc983ce-c198-463d-b1a0-d7460ae1b32a",
   "metadata": {},
   "outputs": [
    {
     "data": {
      "text/plain": [
       "'virat'"
      ]
     },
     "execution_count": 75,
     "metadata": {},
     "output_type": "execute_result"
    }
   ],
   "source": [
    "v[\"name\"]"
   ]
  },
  {
   "cell_type": "code",
   "execution_count": 77,
   "id": "97ecdb99-9e93-4728-b2a0-75cb5e7ada5e",
   "metadata": {},
   "outputs": [
    {
     "data": {
      "text/plain": [
       "dict_keys(['name', 'sub', 'tool', 'database'])"
      ]
     },
     "execution_count": 77,
     "metadata": {},
     "output_type": "execute_result"
    }
   ],
   "source": [
    "v.keys()"
   ]
  },
  {
   "cell_type": "code",
   "execution_count": 78,
   "id": "5fd23a06-4683-469b-b75a-9998a057b3ed",
   "metadata": {},
   "outputs": [
    {
     "data": {
      "text/plain": [
       "dict_values(['virat', 'data science', 'machine learning', 'aws azure'])"
      ]
     },
     "execution_count": 78,
     "metadata": {},
     "output_type": "execute_result"
    }
   ],
   "source": [
    "v.values()"
   ]
  },
  {
   "cell_type": "code",
   "execution_count": 80,
   "id": "9c1e64f4-5b9d-4a5e-839b-e8c6856ffb59",
   "metadata": {},
   "outputs": [
    {
     "name": "stdout",
     "output_type": "stream",
     "text": [
      "virat\n",
      "data science\n",
      "machine learning\n",
      "aws azure\n"
     ]
    }
   ],
   "source": [
    "for i in v.keys():\n",
    "    print(v[i])"
   ]
  },
  {
   "cell_type": "code",
   "execution_count": 84,
   "id": "5b3a1c8e-46d9-4a5a-a4f5-c9136eb4339b",
   "metadata": {},
   "outputs": [
    {
     "name": "stdout",
     "output_type": "stream",
     "text": [
      "virat\n",
      "data science\n",
      "machine learning\n",
      "aws azure\n"
     ]
    }
   ],
   "source": [
    "for i in v.values():\n",
    "    print(i)"
   ]
  },
  {
   "cell_type": "code",
   "execution_count": 85,
   "id": "d06622ac-1ec2-4eb8-ac87-dfa9b24ffee1",
   "metadata": {},
   "outputs": [
    {
     "data": {
      "text/plain": [
       "dict_items([('name', 'virat'), ('sub', 'data science'), ('tool', 'machine learning'), ('database', 'aws azure')])"
      ]
     },
     "execution_count": 85,
     "metadata": {},
     "output_type": "execute_result"
    }
   ],
   "source": [
    "v.items()"
   ]
  },
  {
   "cell_type": "code",
   "execution_count": 88,
   "id": "fd492cbb-f221-4d4b-b8c1-d07544c0c196",
   "metadata": {},
   "outputs": [
    {
     "name": "stdout",
     "output_type": "stream",
     "text": [
      "('name', 'virat')\n",
      "('sub', 'data science')\n",
      "('tool', 'machine learning')\n",
      "('database', 'aws azure')\n"
     ]
    }
   ],
   "source": [
    "for i in v.items():\n",
    "    print(i)"
   ]
  }
 ],
 "metadata": {
  "kernelspec": {
   "display_name": "Python 3 (ipykernel)",
   "language": "python",
   "name": "python3"
  },
  "language_info": {
   "codemirror_mode": {
    "name": "ipython",
    "version": 3
   },
   "file_extension": ".py",
   "mimetype": "text/x-python",
   "name": "python",
   "nbconvert_exporter": "python",
   "pygments_lexer": "ipython3",
   "version": "3.10.8"
  }
 },
 "nbformat": 4,
 "nbformat_minor": 5
}
