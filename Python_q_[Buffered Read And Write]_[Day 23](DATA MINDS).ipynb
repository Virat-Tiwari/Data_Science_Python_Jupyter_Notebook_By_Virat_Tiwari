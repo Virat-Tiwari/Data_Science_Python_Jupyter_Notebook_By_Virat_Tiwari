{
 "cells": [
  {
   "cell_type": "markdown",
   "id": "485fb644-5346-4b5e-a86b-928f544e58b8",
   "metadata": {},
   "source": [
    "TOPIC - BUFFERED READ AND WRITE"
   ]
  },
  {
   "cell_type": "markdown",
   "id": "35b029f8-4048-4a9e-a7bc-5f3180f48c11",
   "metadata": {},
   "source": [
    "BUFFERED READ AND WRITE - :\n",
    "    \n",
    "IT ALMOST SIMILAR TO THE READ AND WRITE AND THEIR OPERATIONS BUT HERE THE ONLY DIFFRENCE IS THAT WHENEVER WE USE THE BUFFERED FOR READ AND WRITE SO IT SIMPLY DIVIDE THE BIG FILES OR DATA FILES INTO THE CHUNKS OR IN VERY SIMPLE TERMS , IT READ AND WRITE THE BIG FILES IN CHUNKS "
   ]
  },
  {
   "cell_type": "markdown",
   "id": "e51ac751-d2f0-4377-8ad5-6224e0d9c725",
   "metadata": {},
   "source": [
    "NOTE - SO FOR DOING THIS WE USE THE ( IO ) MODULE THAT STANDS FOR INPUT OUTPUT MODULE\n",
    " , WE ( IMPORT IO ) MODULE FIRST FOR DOING THIS OPERATIONS "
   ]
  },
  {
   "cell_type": "code",
   "execution_count": 9,
   "id": "8ab03e6a-ad27-4bef-8d26-712662a9fda7",
   "metadata": {},
   "outputs": [],
   "source": [
    "import io"
   ]
  },
  {
   "cell_type": "code",
   "execution_count": 10,
   "id": "891a1f74-7493-473f-9ffe-ee78fe933586",
   "metadata": {},
   "outputs": [],
   "source": [
    "with open(\"Bio.txt\",\"wb\") as f:\n",
    "    file=io.BufferedWriter(f)\n",
    "    \n",
    "    file.write(b\"Name : Virat Tiwari \\n\")\n",
    "    file.write(b\"Enrolled Course : Data Science \\n\")\n",
    "    file.write(b\"Mail : Virat@gmail.com \\n\")\n",
    "    file.write(b\"Mobile no : 8469713549137 \\n\")\n",
    "    file.flush()"
   ]
  },
  {
   "cell_type": "markdown",
   "id": "bb8fc137-e444-4342-b389-c0c21669fabb",
   "metadata": {},
   "source": [
    "NOTE -:\n",
    "\n",
    "1 ) \"b\" -IN THE PREVIOUS CODE WE USE \"b\" BEFORE THE STRING IN FILE.WRITE ( )  FUNCTION ,SO THIS \"b\" IS NOTHING BUT A BYTE IN WHICH MODE WE WRITE OUR DATA \n",
    "\n",
    "2 ) flush( ) - WE USE THIS FUNCTION BECOUSE WITHOUT USING THIS FUNCTION WE CAN NOT SEEN OUR DATA IN THE FILE , IT WORKAS SAME AS CLOSE ( ) FUNCTION THAT WE USED IN READ AND WRITE OPERATION FOR MAKING OUR FILE OR DATA VISIBLE\n",
    "\n",
    "3 ) \\n - IT IS USED FOR NEW LINE CHARACTER \n",
    "WE SIMPLY PUT OUR TEXT INTO THE NEXT LINE OR BELOW THE LINE BY USING THE \" \\n \" FUNCTION \n",
    "\n",
    "EX -:\n",
    "    Name : Virat Tiwari,\n",
    "    \n",
    "    Enrolled Course : Data Science '\n",
    "    \n",
    "    Mail : Virat@gmail.com '\n",
    "    \n",
    "    Mobile no : 8469713549137 "
   ]
  },
  {
   "cell_type": "code",
   "execution_count": 13,
   "id": "35e6e98a-1dbf-42aa-8300-cf8d524b91ee",
   "metadata": {},
   "outputs": [
    {
     "name": "stdout",
     "output_type": "stream",
     "text": [
      "b'Name : Virat Tiwari \\nEnrolled Course : Data Science \\nMail : Virat@gmail.com \\nMobile no : 8469713549137 \\n'\n"
     ]
    }
   ],
   "source": [
    "with open(\"Bio.txt\",\"rb\") as f:\n",
    "    file=io.BufferedReader(f)\n",
    "    \n",
    "    BIO=file.read()\n",
    "    print(BIO)"
   ]
  },
  {
   "cell_type": "code",
   "execution_count": 17,
   "id": "2ad7f2e2-37b4-47b7-b12a-4a0c1f5a8809",
   "metadata": {},
   "outputs": [
    {
     "name": "stdout",
     "output_type": "stream",
     "text": [
      "b'Name : Virat Tiwari \\nEnrolled Course : Data Scienc'\n"
     ]
    }
   ],
   "source": [
    "#WE ALSO READ BYTE WISE LIKE WHEN WE CHO0SE THE SIZE OF BYTE IT WILL PRINT THE DATA ACCORDING TO THAT BYTE\n",
    "#THE AMOUNT OF DATA THAT WE WANT TO RAED SO WE SET THE BYTE INSIDE THE READ( ) FUNCTION SO IT GIVES THAT AMOUNT OF DATA AS A RESULT\n",
    "#IN A VERY SIMPLE TERMS WE DEFINE THE RANGE FROM WHERE TO WHERE WE WANT TO TAKE AND READ THE DATA BY GIVING THE VALUE OF BYTE \n",
    "with open(\"Bio.txt\",\"rb\") as f:\n",
    "    file=io.BufferedReader(f)\n",
    "    \n",
    "    BIO=file.read(50)\n",
    "    print(BIO)"
   ]
  },
  {
   "cell_type": "markdown",
   "id": "5063ed84-21df-4f82-92a5-d1e7f67dfe30",
   "metadata": {},
   "source": [
    "THANK YOU SO MUCH !\n",
    "\n",
    "YOURS VIRAT TIWARI :)"
   ]
  },
  {
   "cell_type": "code",
   "execution_count": null,
   "id": "eb4dcc21-58de-486d-b70b-f7e5ad534db5",
   "metadata": {},
   "outputs": [],
   "source": []
  }
 ],
 "metadata": {
  "kernelspec": {
   "display_name": "Python 3 (ipykernel)",
   "language": "python",
   "name": "python3"
  },
  "language_info": {
   "codemirror_mode": {
    "name": "ipython",
    "version": 3
   },
   "file_extension": ".py",
   "mimetype": "text/x-python",
   "name": "python",
   "nbconvert_exporter": "python",
   "pygments_lexer": "ipython3",
   "version": "3.10.8"
  }
 },
 "nbformat": 4,
 "nbformat_minor": 5
}
