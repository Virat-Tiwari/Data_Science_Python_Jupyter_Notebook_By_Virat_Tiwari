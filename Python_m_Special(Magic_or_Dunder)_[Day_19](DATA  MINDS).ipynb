{
 "cells": [
  {
   "cell_type": "markdown",
   "id": "702c7d92-2ed0-40f4-836f-9cb969122951",
   "metadata": {},
   "source": [
    "MAGIC - : ANY OPERATION THAT WE DONE INSIDE THE PYTHON LIKE ADDITION,SUBSTRACTION,CONCATINATION ETC LIKE ANY KIND OF OPERATION SO BY DEFAULT IT CALLS A FUNCTION INTERNALLY THAT ALREADY MADE BY SOMEONE ELSE AND THAT'S  CALLED MAGIC METHOD OR FUNCTION\n",
    "\n",
    "IN VERY SIMPLE TERMS - : WHENEVER WE USE AN OPERATION IN PYTHON LIKE STRING OR INTEGER CONCATINATION OR ANY KIND OF ADDITION , SUBSTRACTION OPERATION SOMETHING LIKE THAT THAN BY DEFAULT INTERNALLY IT CALLS A FUNCTION THAT CREATED BY SOMEONE ELSE SO THIS IS CALLED AS \"MAGIC\"\n",
    "\n",
    "DUNDER -:  DUNDER IS NOTHING BUT A UDERSCFORE,UNDERSCORE BEFORE A FUNCTION OR AFTER A FUNCTION LIKE AS WE USE IN BEFORE AND AFTER OF \"INIT\" FUNCTION SO OBIOUSLY INIT IS ALSO A DUNDER "
   ]
  },
  {
   "cell_type": "markdown",
   "id": "53734381-bd61-4da3-aa2b-f653c8525a49",
   "metadata": {},
   "source": [
    "IMPORTANT - : DIR ( ) FUNCTION - WHENEVER WE WANT TO SEE THE NO OF FUNCTIONS WE SIMPLY PUT THE LIST , TUPLE , STR ,INT INSIDE THE DIR( ) FUNCTIONS THAT SHOWS ALL THE FUNCTIONS RELATED TO THAT PARTICULAR DATATYPE"
   ]
  },
  {
   "cell_type": "code",
   "execution_count": 1,
   "id": "516a337e-5055-48a8-bc66-e97cb5e160c5",
   "metadata": {},
   "outputs": [
    {
     "data": {
      "text/plain": [
       "['__abs__',\n",
       " '__add__',\n",
       " '__and__',\n",
       " '__bool__',\n",
       " '__ceil__',\n",
       " '__class__',\n",
       " '__delattr__',\n",
       " '__dir__',\n",
       " '__divmod__',\n",
       " '__doc__',\n",
       " '__eq__',\n",
       " '__float__',\n",
       " '__floor__',\n",
       " '__floordiv__',\n",
       " '__format__',\n",
       " '__ge__',\n",
       " '__getattribute__',\n",
       " '__getnewargs__',\n",
       " '__gt__',\n",
       " '__hash__',\n",
       " '__index__',\n",
       " '__init__',\n",
       " '__init_subclass__',\n",
       " '__int__',\n",
       " '__invert__',\n",
       " '__le__',\n",
       " '__lshift__',\n",
       " '__lt__',\n",
       " '__mod__',\n",
       " '__mul__',\n",
       " '__ne__',\n",
       " '__neg__',\n",
       " '__new__',\n",
       " '__or__',\n",
       " '__pos__',\n",
       " '__pow__',\n",
       " '__radd__',\n",
       " '__rand__',\n",
       " '__rdivmod__',\n",
       " '__reduce__',\n",
       " '__reduce_ex__',\n",
       " '__repr__',\n",
       " '__rfloordiv__',\n",
       " '__rlshift__',\n",
       " '__rmod__',\n",
       " '__rmul__',\n",
       " '__ror__',\n",
       " '__round__',\n",
       " '__rpow__',\n",
       " '__rrshift__',\n",
       " '__rshift__',\n",
       " '__rsub__',\n",
       " '__rtruediv__',\n",
       " '__rxor__',\n",
       " '__setattr__',\n",
       " '__sizeof__',\n",
       " '__str__',\n",
       " '__sub__',\n",
       " '__subclasshook__',\n",
       " '__truediv__',\n",
       " '__trunc__',\n",
       " '__xor__',\n",
       " 'as_integer_ratio',\n",
       " 'bit_count',\n",
       " 'bit_length',\n",
       " 'conjugate',\n",
       " 'denominator',\n",
       " 'from_bytes',\n",
       " 'imag',\n",
       " 'numerator',\n",
       " 'real',\n",
       " 'to_bytes']"
      ]
     },
     "execution_count": 1,
     "metadata": {},
     "output_type": "execute_result"
    }
   ],
   "source": [
    "#\"dir\" stands for Directory function\n",
    "\n",
    "dir(int)\n",
    "\n",
    "#these all functions are used whenever we call the int function inside the dir"
   ]
  },
  {
   "cell_type": "code",
   "execution_count": 2,
   "id": "78896b9e-f688-480d-bb6d-cfe9b4392239",
   "metadata": {},
   "outputs": [
    {
     "data": {
      "text/plain": [
       "['__add__',\n",
       " '__class__',\n",
       " '__contains__',\n",
       " '__delattr__',\n",
       " '__dir__',\n",
       " '__doc__',\n",
       " '__eq__',\n",
       " '__format__',\n",
       " '__ge__',\n",
       " '__getattribute__',\n",
       " '__getitem__',\n",
       " '__getnewargs__',\n",
       " '__gt__',\n",
       " '__hash__',\n",
       " '__init__',\n",
       " '__init_subclass__',\n",
       " '__iter__',\n",
       " '__le__',\n",
       " '__len__',\n",
       " '__lt__',\n",
       " '__mod__',\n",
       " '__mul__',\n",
       " '__ne__',\n",
       " '__new__',\n",
       " '__reduce__',\n",
       " '__reduce_ex__',\n",
       " '__repr__',\n",
       " '__rmod__',\n",
       " '__rmul__',\n",
       " '__setattr__',\n",
       " '__sizeof__',\n",
       " '__str__',\n",
       " '__subclasshook__',\n",
       " 'capitalize',\n",
       " 'casefold',\n",
       " 'center',\n",
       " 'count',\n",
       " 'encode',\n",
       " 'endswith',\n",
       " 'expandtabs',\n",
       " 'find',\n",
       " 'format',\n",
       " 'format_map',\n",
       " 'index',\n",
       " 'isalnum',\n",
       " 'isalpha',\n",
       " 'isascii',\n",
       " 'isdecimal',\n",
       " 'isdigit',\n",
       " 'isidentifier',\n",
       " 'islower',\n",
       " 'isnumeric',\n",
       " 'isprintable',\n",
       " 'isspace',\n",
       " 'istitle',\n",
       " 'isupper',\n",
       " 'join',\n",
       " 'ljust',\n",
       " 'lower',\n",
       " 'lstrip',\n",
       " 'maketrans',\n",
       " 'partition',\n",
       " 'removeprefix',\n",
       " 'removesuffix',\n",
       " 'replace',\n",
       " 'rfind',\n",
       " 'rindex',\n",
       " 'rjust',\n",
       " 'rpartition',\n",
       " 'rsplit',\n",
       " 'rstrip',\n",
       " 'split',\n",
       " 'splitlines',\n",
       " 'startswith',\n",
       " 'strip',\n",
       " 'swapcase',\n",
       " 'title',\n",
       " 'translate',\n",
       " 'upper',\n",
       " 'zfill']"
      ]
     },
     "execution_count": 2,
     "metadata": {},
     "output_type": "execute_result"
    }
   ],
   "source": [
    "#whenever we use str function so all these things are going to be done inside the fuction \n",
    "\n",
    "dir(str)\n"
   ]
  },
  {
   "cell_type": "markdown",
   "id": "0f55622b-98d3-4c2b-a2f1-876bdf073c7d",
   "metadata": {},
   "source": [
    "NOTE - BASICALLY THE PREVIOUS CODE WE WRITE INSIDE THE SHELLS ARE CALLED MAGIC FUNCTION OR DUNDER FUNCTION "
   ]
  },
  {
   "cell_type": "markdown",
   "id": "ad1b1a32-4586-4ac5-b120-420d14e961a7",
   "metadata": {},
   "source": [
    "1 ) We take example of addition"
   ]
  },
  {
   "cell_type": "code",
   "execution_count": 3,
   "id": "b9b396b6-e63b-4ebc-a16e-2ce9ea311101",
   "metadata": {},
   "outputs": [],
   "source": [
    "#a = variable\n",
    "\n",
    "a=100"
   ]
  },
  {
   "cell_type": "code",
   "execution_count": 4,
   "id": "49d7f570-1cef-4be4-baf5-ff06596c942d",
   "metadata": {},
   "outputs": [
    {
     "data": {
      "text/plain": [
       "105"
      ]
     },
     "execution_count": 4,
     "metadata": {},
     "output_type": "execute_result"
    }
   ],
   "source": [
    "#we simply add 5 in variable \"a\"\n",
    "\n",
    "a+5"
   ]
  },
  {
   "cell_type": "code",
   "execution_count": 6,
   "id": "728a6608-26fa-41b6-9258-23b4ece39b54",
   "metadata": {},
   "outputs": [
    {
     "data": {
      "text/plain": [
       "105"
      ]
     },
     "execution_count": 6,
     "metadata": {},
     "output_type": "execute_result"
    }
   ],
   "source": [
    "#we done same thing here , we add 5 in variable \"a\" but the differnce is that here we achieve the same thing with the help of \"MAGIC\" and the double underscore that we have use before or after the the add that's called \"DUNDER\"\n",
    "\n",
    "a.__add__(5)"
   ]
  },
  {
   "cell_type": "markdown",
   "id": "d363352e-ed3a-4acd-921e-4a2009b7bac7",
   "metadata": {},
   "source": [
    "2 ) We take example of substraction"
   ]
  },
  {
   "cell_type": "code",
   "execution_count": 7,
   "id": "793e906f-119b-45cc-8e7c-e9650c9b50ea",
   "metadata": {},
   "outputs": [],
   "source": [
    "#b=variable\n",
    "\n",
    "b=50"
   ]
  },
  {
   "cell_type": "code",
   "execution_count": 8,
   "id": "981316bb-ad39-4562-9132-27f726c15dfd",
   "metadata": {},
   "outputs": [
    {
     "data": {
      "text/plain": [
       "35"
      ]
     },
     "execution_count": 8,
     "metadata": {},
     "output_type": "execute_result"
    }
   ],
   "source": [
    "#simple way of substraction\n",
    "\n",
    "b-15"
   ]
  },
  {
   "cell_type": "code",
   "execution_count": 10,
   "id": "ebad6bd8-d028-44d3-b9fb-288e3aa2f02f",
   "metadata": {},
   "outputs": [
    {
     "data": {
      "text/plain": [
       "35"
      ]
     },
     "execution_count": 10,
     "metadata": {},
     "output_type": "execute_result"
    }
   ],
   "source": [
    "#This way of writing code is called the \"MAGIC\" that same as perevious code but the difference is only the syntax , we use double underscore thatt's  called Dunder and writing this ways is called \"magic\"\n",
    "\n",
    "b.__sub__(15)"
   ]
  },
  {
   "cell_type": "markdown",
   "id": "6bcf4e13-d0b1-4f99-8d77-9f476c29c09e",
   "metadata": {},
   "source": [
    "3 ) We take example of multiplication"
   ]
  },
  {
   "cell_type": "code",
   "execution_count": 11,
   "id": "081336d6-5b64-461e-a669-e7c828193b18",
   "metadata": {},
   "outputs": [],
   "source": [
    "c=8"
   ]
  },
  {
   "cell_type": "code",
   "execution_count": 12,
   "id": "34efa0c1-8aa7-4d4f-8007-a8fa556643a0",
   "metadata": {},
   "outputs": [
    {
     "data": {
      "text/plain": [
       "40"
      ]
     },
     "execution_count": 12,
     "metadata": {},
     "output_type": "execute_result"
    }
   ],
   "source": [
    "c*5"
   ]
  },
  {
   "cell_type": "code",
   "execution_count": 13,
   "id": "3d7f06be-94ff-4fe7-825e-57ab099b603f",
   "metadata": {},
   "outputs": [
    {
     "data": {
      "text/plain": [
       "40"
      ]
     },
     "execution_count": 13,
     "metadata": {},
     "output_type": "execute_result"
    }
   ],
   "source": [
    "#By using Magic or Dunder\n",
    "\n",
    "c.__mul__(5)"
   ]
  },
  {
   "cell_type": "code",
   "execution_count": 25,
   "id": "17cdb1be-1453-4613-89ee-028ee9f59bdf",
   "metadata": {},
   "outputs": [],
   "source": [
    "class Data_science:\n",
    "    def __init__(self):\n",
    "        self.mob_no=846792462046"
   ]
  },
  {
   "cell_type": "code",
   "execution_count": 26,
   "id": "4469f7df-d77a-4574-b728-5b4972b05b2f",
   "metadata": {},
   "outputs": [],
   "source": [
    "Ds=Data_science()"
   ]
  },
  {
   "cell_type": "code",
   "execution_count": 27,
   "id": "7ba27a3c-041d-451c-80d9-6c72e7c084ff",
   "metadata": {},
   "outputs": [
    {
     "data": {
      "text/plain": [
       "846792462046"
      ]
     },
     "execution_count": 27,
     "metadata": {},
     "output_type": "execute_result"
    }
   ],
   "source": [
    "Ds.mob_no"
   ]
  },
  {
   "cell_type": "code",
   "execution_count": 41,
   "id": "be5e93df-5d1f-41a1-b4a6-15d7124bae9a",
   "metadata": {},
   "outputs": [],
   "source": [
    "class Intro:\n",
    "    def __init__(self):\n",
    "        self.name=\"Virat Tiwari\""
   ]
  },
  {
   "cell_type": "code",
   "execution_count": 42,
   "id": "45c18551-8c3e-4669-bb05-7b19713cd585",
   "metadata": {},
   "outputs": [],
   "source": [
    "Detail=Intro()"
   ]
  },
  {
   "cell_type": "code",
   "execution_count": 43,
   "id": "8f95048b-48c8-4886-a598-6d1a8318e161",
   "metadata": {},
   "outputs": [
    {
     "data": {
      "text/plain": [
       "'Virat Tiwari'"
      ]
     },
     "execution_count": 43,
     "metadata": {},
     "output_type": "execute_result"
    }
   ],
   "source": [
    "Detail.name"
   ]
  },
  {
   "cell_type": "code",
   "execution_count": 49,
   "id": "f6360e18-dc85-4eb9-b823-d2d9d1453392",
   "metadata": {},
   "outputs": [],
   "source": [
    "class Intro:\n",
    "    \n",
    "    def __new__(cls):\n",
    "        print(\"This is my NEW MAGIC\")\n",
    "        \n",
    "    def __init__(self):\n",
    "        print(\"This is my OLD INIT\")\n",
    "        \n",
    "        self.name=\"Virat Tiwari\"\n",
    "        \n",
    "\n",
    "#NOTE - IN THIS FUNCTION WE CREATE MAGIC FUNCTION WITH THE NAME OF  __new__ SO WE SEE THAT MAGIC FUNCTION ALWAYS EXECUTE BEFORE THE THE INIT FUNCTION WHENEVER WE CALL THESE TWO FUNCTIONS TOGETHER\n",
    "#BUT IN GENERAL WE NEVER DIRECTLY CALL THEM(MAGIC FUNCTION)"
   ]
  },
  {
   "cell_type": "code",
   "execution_count": 50,
   "id": "6affafd3-b113-4b71-8d4e-a760e7367dd0",
   "metadata": {},
   "outputs": [
    {
     "name": "stdout",
     "output_type": "stream",
     "text": [
      "This is my NEW MAGIC\n"
     ]
    }
   ],
   "source": [
    "Detail=Intro()"
   ]
  },
  {
   "cell_type": "markdown",
   "id": "a6f46eae-e26d-48d5-9da4-51e3f32afa25",
   "metadata": {},
   "source": [
    "IMPORTANT NOTE -:  IN PYTHON , OBJECT OR INSTANCE IS GENERALLY CREATED BY THE MAGIC FUNCTION BUT WE THINK IT CREATED BY THE INIT FUNCTION  , IN VERY SIMPLE TERMS MAGIC FUNCTION CREATED THE OBJECT OF CLASS BEFORE THE INIT FUNCTION IN PYTHON PROGRAMMING LANGUAGE"
   ]
  },
  {
   "cell_type": "code",
   "execution_count": 54,
   "id": "e23eee41-8886-458b-8e03-511b161520f2",
   "metadata": {},
   "outputs": [],
   "source": [
    "class Detail:\n",
    "        \n",
    "    def __init__(self): \n",
    "\n",
    "        self.name=\"Virat Tiwari\""
   ]
  },
  {
   "cell_type": "code",
   "execution_count": 57,
   "id": "b93a0b98-0860-413e-9ea6-2411df2d7449",
   "metadata": {},
   "outputs": [],
   "source": [
    "Stu=Detail()"
   ]
  },
  {
   "cell_type": "code",
   "execution_count": 58,
   "id": "5373a661-f52b-4c15-b4c8-2e3aceb78da8",
   "metadata": {},
   "outputs": [
    {
     "data": {
      "text/plain": [
       "'Virat Tiwari'"
      ]
     },
     "execution_count": 58,
     "metadata": {},
     "output_type": "execute_result"
    }
   ],
   "source": [
    "Stu.name"
   ]
  },
  {
   "cell_type": "code",
   "execution_count": 59,
   "id": "9b42cb92-3e35-4f4c-af65-b2dafa068f23",
   "metadata": {},
   "outputs": [
    {
     "data": {
      "text/plain": [
       "__main__.Detail"
      ]
     },
     "execution_count": 59,
     "metadata": {},
     "output_type": "execute_result"
    }
   ],
   "source": [
    "type(Stu)"
   ]
  },
  {
   "cell_type": "code",
   "execution_count": 62,
   "id": "b1bfac89-39eb-4a70-8b63-0687168cf3a8",
   "metadata": {},
   "outputs": [
    {
     "data": {
      "text/plain": [
       "<__main__.Detail at 0x7fd1b3490460>"
      ]
     },
     "execution_count": 62,
     "metadata": {},
     "output_type": "execute_result"
    }
   ],
   "source": [
    "Stu"
   ]
  },
  {
   "cell_type": "code",
   "execution_count": 63,
   "id": "713d1472-55c4-49c6-b00e-a5dfdff0658a",
   "metadata": {},
   "outputs": [],
   "source": [
    "#  (\"\" 0x7fd1b3490460 \"\") - This is called hexadecimal code"
   ]
  },
  {
   "cell_type": "markdown",
   "id": "6c5da2a5-180a-4f0e-ae04-7cb5ccc38426",
   "metadata": {},
   "source": [
    "NOTE - : WITH THE HELP OF MAGIC WE CAN WRITE SOMETHING FOR OUR OBJECT AND THERE IS SOME OTHER NAMES OR SYNONYMS OF OBJECTS AS WELL LIKE INSTANCE OR VARIABLE"
   ]
  }
 ],
 "metadata": {
  "kernelspec": {
   "display_name": "Python 3 (ipykernel)",
   "language": "python",
   "name": "python3"
  },
  "language_info": {
   "codemirror_mode": {
    "name": "ipython",
    "version": 3
   },
   "file_extension": ".py",
   "mimetype": "text/x-python",
   "name": "python",
   "nbconvert_exporter": "python",
   "pygments_lexer": "ipython3",
   "version": "3.10.8"
  }
 },
 "nbformat": 4,
 "nbformat_minor": 5
}
