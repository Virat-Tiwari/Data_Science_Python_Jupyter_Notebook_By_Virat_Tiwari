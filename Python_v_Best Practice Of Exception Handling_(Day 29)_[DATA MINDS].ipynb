{
 "cells": [
  {
   "cell_type": "markdown",
   "id": "5a630db4-b84e-49f3-9546-e896cb834086",
   "metadata": {},
   "source": [
    "BEST PRACTICE OF EXCEPTION HANDLING    "
   ]
  },
  {
   "cell_type": "code",
   "execution_count": 1,
   "id": "fa27d249-ce18-4bb3-8645-18e15e2bcf59",
   "metadata": {},
   "outputs": [
    {
     "name": "stdout",
     "output_type": "stream",
     "text": [
      "division by zero\n"
     ]
    }
   ],
   "source": [
    "#Note - Use always a specific exception\n",
    "\n",
    "try:\n",
    "    10/0\n",
    "except Exception as e:\n",
    "    print(e)"
   ]
  },
  {
   "cell_type": "code",
   "execution_count": 3,
   "id": "dc3e80aa-0876-437f-8d49-8ca491f36060",
   "metadata": {},
   "outputs": [
    {
     "name": "stdout",
     "output_type": "stream",
     "text": [
      "division by zero\n"
     ]
    }
   ],
   "source": [
    "#Note - Always try use specific exception not generic exception\n",
    "\n",
    "try:\n",
    "    10/0\n",
    "except ZeroDivisionError as e:\n",
    "    print(e)"
   ]
  },
  {
   "cell_type": "code",
   "execution_count": 6,
   "id": "e20ad26d-b9f7-442f-8d9d-4bb4d99202a7",
   "metadata": {},
   "outputs": [
    {
     "name": "stdout",
     "output_type": "stream",
     "text": [
      "I am trying to handle a zerodivision error division by zero\n"
     ]
    }
   ],
   "source": [
    "#print alwqys a proper message\n",
    "\n",
    "try:\n",
    "    10/0\n",
    "except ZeroDivisionError as e:\n",
    "    print(\"I am trying to handle a zerodivision error\",e)"
   ]
  },
  {
   "cell_type": "code",
   "execution_count": 8,
   "id": "47602b5c-d5ba-47e9-ad6f-888d9ccf803e",
   "metadata": {},
   "outputs": [],
   "source": [
    "#Always try to log our error\n",
    "\n",
    "import logging\n",
    "logging.basicConfig(filename=\"error.log\",level=logging.ERROR)\n",
    "try:\n",
    "    10/0\n",
    "except ZeroDivisionError as e:\n",
    "    logging.error(\"I log the the error in log file {}\".format(e))"
   ]
  },
  {
   "cell_type": "code",
   "execution_count": 9,
   "id": "11644b94-f67a-450e-b2d5-ce76dee18b95",
   "metadata": {},
   "outputs": [],
   "source": [
    "# always avoid to write a multiple exception handling\n",
    "\n",
    "try:\n",
    "    10/0\n",
    "except FileNotFoundError as e:\n",
    "    logging.error(\"I log the the error in log file {}\".format(e))\n",
    "except AttributeError as e:\n",
    "    logging.error(\"I log the the error in log file {}\".format(e))\n",
    "except ZeroDivisionError as e:\n",
    "    logging.error(\"I log the the error in log file {}\".format(e))"
   ]
  },
  {
   "cell_type": "code",
   "execution_count": null,
   "id": "a587e150-9379-415f-b4cd-c8efe68a5189",
   "metadata": {},
   "outputs": [],
   "source": [
    "# document all the error\n",
    "# clean up all the resources"
   ]
  },
  {
   "cell_type": "markdown",
   "id": "c0704ddc-bcd7-40d5-a6d6-04f5c9ea4279",
   "metadata": {},
   "source": [
    "Thank you so much !!\n",
    "\n",
    "Yours Virat Tiwari :)"
   ]
  }
 ],
 "metadata": {
  "kernelspec": {
   "display_name": "Python 3 (ipykernel)",
   "language": "python",
   "name": "python3"
  },
  "language_info": {
   "codemirror_mode": {
    "name": "ipython",
    "version": 3
   },
   "file_extension": ".py",
   "mimetype": "text/x-python",
   "name": "python",
   "nbconvert_exporter": "python",
   "pygments_lexer": "ipython3",
   "version": "3.10.8"
  }
 },
 "nbformat": 4,
 "nbformat_minor": 5
}
